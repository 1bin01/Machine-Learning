{
  "nbformat": 4,
  "nbformat_minor": 0,
  "metadata": {
    "colab": {
      "provenance": [],
      "authorship_tag": "ABX9TyPVcmyfZugBJUoPhc/sZS/c",
      "include_colab_link": true
    },
    "kernelspec": {
      "name": "python3",
      "display_name": "Python 3"
    },
    "language_info": {
      "name": "python"
    }
  },
  "cells": [
    {
      "cell_type": "markdown",
      "metadata": {
        "id": "view-in-github",
        "colab_type": "text"
      },
      "source": [
        "<a href=\"https://colab.research.google.com/github/1bin01/Machine-Learning/blob/main/Introduction-to-Machine-Learning/Ch5_model_evaluation_and_improvement.ipynb\" target=\"_parent\"><img src=\"https://colab.research.google.com/assets/colab-badge.svg\" alt=\"Open In Colab\"/></a>"
      ]
    },
    {
      "cell_type": "code",
      "execution_count": 1,
      "metadata": {
        "colab": {
          "base_uri": "https://localhost:8080/"
        },
        "id": "SKK_-XZeuxi7",
        "outputId": "fb424ed9-ed4a-48c3-d377-4e3bfa2a47d3"
      },
      "outputs": [
        {
          "output_type": "stream",
          "name": "stdout",
          "text": [
            "Looking in indexes: https://pypi.org/simple, https://us-python.pkg.dev/colab-wheels/public/simple/\n",
            "Requirement already satisfied: mglearn in /usr/local/lib/python3.8/dist-packages (0.1.9)\n",
            "Requirement already satisfied: numpy in /usr/local/lib/python3.8/dist-packages (from mglearn) (1.22.4)\n",
            "Requirement already satisfied: pandas in /usr/local/lib/python3.8/dist-packages (from mglearn) (1.3.5)\n",
            "Requirement already satisfied: scikit-learn in /usr/local/lib/python3.8/dist-packages (from mglearn) (1.0.2)\n",
            "Requirement already satisfied: pillow in /usr/local/lib/python3.8/dist-packages (from mglearn) (8.4.0)\n",
            "Requirement already satisfied: imageio in /usr/local/lib/python3.8/dist-packages (from mglearn) (2.9.0)\n",
            "Requirement already satisfied: joblib in /usr/local/lib/python3.8/dist-packages (from mglearn) (1.1.0)\n",
            "Requirement already satisfied: cycler in /usr/local/lib/python3.8/dist-packages (from mglearn) (0.11.0)\n",
            "Requirement already satisfied: matplotlib in /usr/local/lib/python3.8/dist-packages (from mglearn) (3.5.3)\n",
            "Requirement already satisfied: fonttools>=4.22.0 in /usr/local/lib/python3.8/dist-packages (from matplotlib->mglearn) (4.38.0)\n",
            "Requirement already satisfied: pyparsing>=2.2.1 in /usr/local/lib/python3.8/dist-packages (from matplotlib->mglearn) (3.0.9)\n",
            "Requirement already satisfied: kiwisolver>=1.0.1 in /usr/local/lib/python3.8/dist-packages (from matplotlib->mglearn) (1.4.4)\n",
            "Requirement already satisfied: python-dateutil>=2.7 in /usr/local/lib/python3.8/dist-packages (from matplotlib->mglearn) (2.8.2)\n",
            "Requirement already satisfied: packaging>=20.0 in /usr/local/lib/python3.8/dist-packages (from matplotlib->mglearn) (23.0)\n",
            "Requirement already satisfied: pytz>=2017.3 in /usr/local/lib/python3.8/dist-packages (from pandas->mglearn) (2022.7.1)\n",
            "Requirement already satisfied: scipy>=1.1.0 in /usr/local/lib/python3.8/dist-packages (from scikit-learn->mglearn) (1.7.3)\n",
            "Requirement already satisfied: threadpoolctl>=2.0.0 in /usr/local/lib/python3.8/dist-packages (from scikit-learn->mglearn) (3.1.0)\n",
            "Requirement already satisfied: six>=1.5 in /usr/local/lib/python3.8/dist-packages (from python-dateutil>=2.7->matplotlib->mglearn) (1.15.0)\n",
            "Looking in indexes: https://pypi.org/simple, https://us-python.pkg.dev/colab-wheels/public/simple/\n",
            "Requirement already satisfied: joblib==1.1.0 in /usr/local/lib/python3.8/dist-packages (1.1.0)\n",
            "Reading package lists... Done\n",
            "Building dependency tree       \n",
            "Reading state information... Done\n",
            "fonts-nanum is already the newest version (20180306-3).\n",
            "0 upgraded, 0 newly installed, 0 to remove and 19 not upgraded.\n",
            "/usr/share/fonts: caching, new cache contents: 0 fonts, 1 dirs\n",
            "/usr/share/fonts/truetype: caching, new cache contents: 0 fonts, 3 dirs\n",
            "/usr/share/fonts/truetype/humor-sans: caching, new cache contents: 1 fonts, 0 dirs\n",
            "/usr/share/fonts/truetype/liberation: caching, new cache contents: 16 fonts, 0 dirs\n",
            "/usr/share/fonts/truetype/nanum: caching, new cache contents: 10 fonts, 0 dirs\n",
            "/usr/local/share/fonts: caching, new cache contents: 0 fonts, 0 dirs\n",
            "/root/.local/share/fonts: skipping, no such directory\n",
            "/root/.fonts: skipping, no such directory\n",
            "/usr/share/fonts/truetype: skipping, looped directory detected\n",
            "/usr/share/fonts/truetype/humor-sans: skipping, looped directory detected\n",
            "/usr/share/fonts/truetype/liberation: skipping, looped directory detected\n",
            "/usr/share/fonts/truetype/nanum: skipping, looped directory detected\n",
            "/var/cache/fontconfig: cleaning cache directory\n",
            "/root/.cache/fontconfig: not cleaning non-existent cache directory\n",
            "/root/.fontconfig: not cleaning non-existent cache directory\n",
            "fc-cache: succeeded\n"
          ]
        }
      ],
      "source": [
        "!pip install mglearn\n",
        "!pip install --upgrade joblib==1.1.0\n",
        "!pip install -q --upgrade scikit-learn==1.0.2\n",
        "import numpy as np\n",
        "import matplotlib.pyplot as plt\n",
        "import pandas as pd\n",
        "import mglearn\n",
        "\n",
        "from importlib import reload  # plt 다시 그릴 때\n",
        "import warnings\n",
        "warnings.simplefilter(action='ignore', category=FutureWarning) # FutureWarning 경고 제거 (없어도 문제는 x)\n",
        "\n",
        "# 나눔 포트 설정 (런타임 다시 시작 해줘야됨!)\n",
        "import matplotlib as mpl\n",
        "!sudo apt-get install -y fonts-nanum\n",
        "!sudo fc-cache -fv\n",
        "!rm ~/.cache/matplotlib -rf\n",
        "plt.rc('font', family='NanumBarunGothic')\n",
        "mpl.rc('axes', unicode_minus=False)\n",
        "     "
      ]
    },
    {
      "cell_type": "markdown",
      "source": [
        "## 5.1 교차 검증"
      ],
      "metadata": {
        "id": "vqMSkTZsvI3A"
      }
    },
    {
      "cell_type": "code",
      "source": [
        "# 데이터를 여러 번 반복해 나누고 여러 모델을 학습\n",
        "\n",
        "mglearn.plots.plot_cross_validation()"
      ],
      "metadata": {
        "colab": {
          "base_uri": "https://localhost:8080/",
          "height": 186
        },
        "id": "BoO7Q480vNyP",
        "outputId": "8e1d2ce9-6302-4e8e-cf03-b43301f396ee"
      },
      "execution_count": 2,
      "outputs": [
        {
          "output_type": "display_data",
          "data": {
            "text/plain": [
              "<Figure size 864x144 with 1 Axes>"
            ],
            "image/png": "[encoded data removed]"
          },
          "metadata": {
            "needs_background": "light"
          }
        }
      ]
    },
    {
      "cell_type": "markdown",
      "source": [
        "## 5.1.1 scikit-learn의 교차 검증"
      ],
      "metadata": {
        "id": "tz73UHM-v6pW"
      }
    },
    {
      "cell_type": "code",
      "source": [
        "# iris 데이터 셋을 적용한 Logistic Regression 모델 평가하기\n",
        "\n",
        "from sklearn.model_selection import cross_val_score\n",
        "from sklearn.datasets import load_iris\n",
        "from sklearn.linear_model import LogisticRegression\n",
        "\n",
        "iris = load_iris()\n",
        "logreg = LogisticRegression(max_iter = 1000)\n",
        "\n",
        "scores = cross_val_score(logreg, iris.data, iris.target)\n",
        "print(\"교차 검증 점수 : \", scores)"
      ],
      "metadata": {
        "colab": {
          "base_uri": "https://localhost:8080/"
        },
        "id": "9GpHH_TWv-a1",
        "outputId": "903a22d0-0504-4df1-ded4-5cf3a485c80d"
      },
      "execution_count": 3,
      "outputs": [
        {
          "output_type": "stream",
          "name": "stdout",
          "text": [
            "교차 검증 점수 :  [0.96666667 1.         0.93333333 0.96666667 1.        ]\n"
          ]
        }
      ]
    },
    {
      "cell_type": "code",
      "source": [
        "# cv 매개변수로 폴드의 수 바꾸기\n",
        "scores = cross_val_score(logreg, iris.data, iris.target, cv = 10)\n",
        "print(\"교차 검증 점수 : \", scores)"
      ],
      "metadata": {
        "colab": {
          "base_uri": "https://localhost:8080/"
        },
        "id": "4ps79BBDwsxU",
        "outputId": "4583e7ec-a55b-44f7-8324-8c9a5866314a"
      },
      "execution_count": 4,
      "outputs": [
        {
          "output_type": "stream",
          "name": "stdout",
          "text": [
            "교차 검증 점수 :  [1.         0.93333333 1.         1.         0.93333333 0.93333333\n",
            " 0.93333333 1.         1.         1.        ]\n"
          ]
        }
      ]
    },
    {
      "cell_type": "code",
      "source": [
        "# 교차 검증 평균 점수\n",
        "print(\"교차 검증 평균 점수 : {:.2f}\" .format(scores.mean()))"
      ],
      "metadata": {
        "colab": {
          "base_uri": "https://localhost:8080/"
        },
        "id": "AImxw6v3w4Q4",
        "outputId": "842c9d49-f5f4-4c90-9aba-dac354ea3795"
      },
      "execution_count": 5,
      "outputs": [
        {
          "output_type": "stream",
          "name": "stdout",
          "text": [
            "교차 검증 평균 점수 : 0.97\n"
          ]
        }
      ]
    },
    {
      "cell_type": "code",
      "source": [
        "# cross_validate : 훈련과 테스트에 걸린 시간을 딕셔너리로 반환\n",
        "from sklearn.model_selection import cross_validate\n",
        "\n",
        "res = cross_validate(logreg, iris.data, iris.target, return_train_score = True)\n",
        "res"
      ],
      "metadata": {
        "colab": {
          "base_uri": "https://localhost:8080/"
        },
        "id": "xYzCFh0ExCBG",
        "outputId": "486285f6-eb32-42e3-8dba-8760247aa1fe"
      },
      "execution_count": 6,
      "outputs": [
        {
          "output_type": "execute_result",
          "data": {
            "text/plain": [
              "{'fit_time': array([0.02479672, 0.02679682, 0.02779913, 0.01958323, 0.02682328]),\n",
              " 'score_time': array([0.00029683, 0.00030255, 0.00033259, 0.00024748, 0.00037122]),\n",
              " 'test_score': array([0.96666667, 1.        , 0.93333333, 0.96666667, 1.        ]),\n",
              " 'train_score': array([0.96666667, 0.96666667, 0.98333333, 0.98333333, 0.975     ])}"
            ]
          },
          "metadata": {},
          "execution_count": 6
        }
      ]
    },
    {
      "cell_type": "code",
      "source": [
        "res_df = pd.DataFrame(res)\n",
        "res_df"
      ],
      "metadata": {
        "colab": {
          "base_uri": "https://localhost:8080/",
          "height": 206
        },
        "id": "ZlYbes7fxe13",
        "outputId": "ac54d136-e32c-4a32-c161-cfd2c0349333"
      },
      "execution_count": 7,
      "outputs": [
        {
          "output_type": "execute_result",
          "data": {
            "text/plain": [
              "   fit_time  score_time  test_score  train_score\n",
              "0  0.024797    0.000297    0.966667     0.966667\n",
              "1  0.026797    0.000303    1.000000     0.966667\n",
              "2  0.027799    0.000333    0.933333     0.983333\n",
              "3  0.019583    0.000247    0.966667     0.983333\n",
              "4  0.026823    0.000371    1.000000     0.975000"
            ],
            "text/html": [
              "\n",
              "  <div id=\"df-4e618984-7cfb-4547-9bef-edf6ae2288d3\">\n",
              "    <div class=\"colab-df-container\">\n",
              "      <div>\n",
              "<style scoped>\n",
              "    .dataframe tbody tr th:only-of-type {\n",
              "        vertical-align: middle;\n",
              "    }\n",
              "\n",
              "    .dataframe tbody tr th {\n",
              "        vertical-align: top;\n",
              "    }\n",
              "\n",
              "    .dataframe thead th {\n",
              "        text-align: right;\n",
              "    }\n",
              "</style>\n",
              "<table border=\"1\" class=\"dataframe\">\n",
              "  <thead>\n",
              "    <tr style=\"text-align: right;\">\n",
              "      <th></th>\n",
              "      <th>fit_time</th>\n",
              "      <th>score_time</th>\n",
              "      <th>test_score</th>\n",
              "      <th>train_score</th>\n",
              "    </tr>\n",
              "  </thead>\n",
              "  <tbody>\n",
              "    <tr>\n",
              "      <th>0</th>\n",
              "      <td>0.024797</td>\n",
              "      <td>0.000297</td>\n",
              "      <td>0.966667</td>\n",
              "      <td>0.966667</td>\n",
              "    </tr>\n",
              "    <tr>\n",
              "      <th>1</th>\n",
              "      <td>0.026797</td>\n",
              "      <td>0.000303</td>\n",
              "      <td>1.000000</td>\n",
              "      <td>0.966667</td>\n",
              "    </tr>\n",
              "    <tr>\n",
              "      <th>2</th>\n",
              "      <td>0.027799</td>\n",
              "      <td>0.000333</td>\n",
              "      <td>0.933333</td>\n",
              "      <td>0.983333</td>\n",
              "    </tr>\n",
              "    <tr>\n",
              "      <th>3</th>\n",
              "      <td>0.019583</td>\n",
              "      <td>0.000247</td>\n",
              "      <td>0.966667</td>\n",
              "      <td>0.983333</td>\n",
              "    </tr>\n",
              "    <tr>\n",
              "      <th>4</th>\n",
              "      <td>0.026823</td>\n",
              "      <td>0.000371</td>\n",
              "      <td>1.000000</td>\n",
              "      <td>0.975000</td>\n",
              "    </tr>\n",
              "  </tbody>\n",
              "</table>\n",
              "</div>\n",
              "      <button class=\"colab-df-convert\" onclick=\"convertToInteractive('df-4e618984-7cfb-4547-9bef-edf6ae2288d3')\"\n",
              "              title=\"Convert this dataframe to an interactive table.\"\n",
              "              style=\"display:none;\">\n",
              "        \n",
              "  <svg xmlns=\"http://www.w3.org/2000/svg\" height=\"24px\"viewBox=\"0 0 24 24\"\n",
              "       width=\"24px\">\n",
              "    <path d=\"M0 0h24v24H0V0z\" fill=\"none\"/>\n",
              "    <path d=\"M18.56 5.44l.94 2.06.94-2.06 2.06-.94-2.06-.94-.94-2.06-.94 2.06-2.06.94zm-11 1L8.5 8.5l.94-2.06 2.06-.94-2.06-.94L8.5 2.5l-.94 2.06-2.06.94zm10 10l.94 2.06.94-2.06 2.06-.94-2.06-.94-.94-2.06-.94 2.06-2.06.94z\"/><path d=\"M17.41 7.96l-1.37-1.37c-.4-.4-.92-.59-1.43-.59-.52 0-1.04.2-1.43.59L10.3 9.45l-7.72 7.72c-.78.78-.78 2.05 0 2.83L4 21.41c.39.39.9.59 1.41.59.51 0 1.02-.2 1.41-.59l7.78-7.78 2.81-2.81c.8-.78.8-2.07 0-2.86zM5.41 20L4 18.59l7.72-7.72 1.47 1.35L5.41 20z\"/>\n",
              "  </svg>\n",
              "      </button>\n",
              "      \n",
              "  <style>\n",
              "    .colab-df-container {\n",
              "      display:flex;\n",
              "      flex-wrap:wrap;\n",
              "      gap: 12px;\n",
              "    }\n",
              "\n",
              "    .colab-df-convert {\n",
              "      background-color: #E8F0FE;\n",
              "      border: none;\n",
              "      border-radius: 50%;\n",
              "      cursor: pointer;\n",
              "      display: none;\n",
              "      fill: #1967D2;\n",
              "      height: 32px;\n",
              "      padding: 0 0 0 0;\n",
              "      width: 32px;\n",
              "    }\n",
              "\n",
              "    .colab-df-convert:hover {\n",
              "      background-color: #E2EBFA;\n",
              "      box-shadow: 0px 1px 2px rgba(60, 64, 67, 0.3), 0px 1px 3px 1px rgba(60, 64, 67, 0.15);\n",
              "      fill: #174EA6;\n",
              "    }\n",
              "\n",
              "    [theme=dark] .colab-df-convert {\n",
              "      background-color: #3B4455;\n",
              "      fill: #D2E3FC;\n",
              "    }\n",
              "\n",
              "    [theme=dark] .colab-df-convert:hover {\n",
              "      background-color: #434B5C;\n",
              "      box-shadow: 0px 1px 3px 1px rgba(0, 0, 0, 0.15);\n",
              "      filter: drop-shadow(0px 1px 2px rgba(0, 0, 0, 0.3));\n",
              "      fill: #FFFFFF;\n",
              "    }\n",
              "  </style>\n",
              "\n",
              "      <script>\n",
              "        const buttonEl =\n",
              "          document.querySelector('#df-4e618984-7cfb-4547-9bef-edf6ae2288d3 button.colab-df-convert');\n",
              "        buttonEl.style.display =\n",
              "          google.colab.kernel.accessAllowed ? 'block' : 'none';\n",
              "\n",
              "        async function convertToInteractive(key) {\n",
              "          const element = document.querySelector('#df-4e618984-7cfb-4547-9bef-edf6ae2288d3');\n",
              "          const dataTable =\n",
              "            await google.colab.kernel.invokeFunction('convertToInteractive',\n",
              "                                                     [key], {});\n",
              "          if (!dataTable) return;\n",
              "\n",
              "          const docLinkHtml = 'Like what you see? Visit the ' +\n",
              "            '<a target=\"_blank\" href=https://colab.research.google.com/notebooks/data_table.ipynb>data table notebook</a>'\n",
              "            + ' to learn more about interactive tables.';\n",
              "          element.innerHTML = '';\n",
              "          dataTable['output_type'] = 'display_data';\n",
              "          await google.colab.output.renderOutput(dataTable, element);\n",
              "          const docLink = document.createElement('div');\n",
              "          docLink.innerHTML = docLinkHtml;\n",
              "          element.appendChild(docLink);\n",
              "        }\n",
              "      </script>\n",
              "    </div>\n",
              "  </div>\n",
              "  "
            ]
          },
          "metadata": {},
          "execution_count": 7
        }
      ]
    },
    {
      "cell_type": "markdown",
      "source": [
        "## 5.1.3 계층별 k-겹 교차 검증과 그외 전략들"
      ],
      "metadata": {
        "id": "MeaK2NIMxpDl"
      }
    },
    {
      "cell_type": "code",
      "source": [
        "from sklearn.datasets import load_iris\n",
        "iris = load_iris()\n",
        "print(\"iris label :\\n\", iris.target)"
      ],
      "metadata": {
        "id": "ZuEFYlURxsDH",
        "outputId": "0099d2ff-5e93-4498-8492-1228d5774ee1",
        "colab": {
          "base_uri": "https://localhost:8080/"
        }
      },
      "execution_count": 8,
      "outputs": [
        {
          "output_type": "stream",
          "name": "stdout",
          "text": [
            "iris label :\n",
            " [0 0 0 0 0 0 0 0 0 0 0 0 0 0 0 0 0 0 0 0 0 0 0 0 0 0 0 0 0 0 0 0 0 0 0 0 0\n",
            " 0 0 0 0 0 0 0 0 0 0 0 0 0 1 1 1 1 1 1 1 1 1 1 1 1 1 1 1 1 1 1 1 1 1 1 1 1\n",
            " 1 1 1 1 1 1 1 1 1 1 1 1 1 1 1 1 1 1 1 1 1 1 1 1 1 1 2 2 2 2 2 2 2 2 2 2 2\n",
            " 2 2 2 2 2 2 2 2 2 2 2 2 2 2 2 2 2 2 2 2 2 2 2 2 2 2 2 2 2 2 2 2 2 2 2 2 2\n",
            " 2 2]\n"
          ]
        }
      ]
    },
    {
      "cell_type": "code",
      "source": [
        "mglearn.plots.plot_stratified_cross_validation()"
      ],
      "metadata": {
        "id": "YU8mFbcM6fhS",
        "outputId": "f158fe82-37b0-4f61-b72e-c6d655a771aa",
        "colab": {
          "base_uri": "https://localhost:8080/",
          "height": 369
        }
      },
      "execution_count": 9,
      "outputs": [
        {
          "output_type": "display_data",
          "data": {
            "text/plain": [
              "<Figure size 864x360 with 2 Axes>"
            ],
            "image/png": "[encoded data removed]"
          },
          "metadata": {
            "needs_background": "light"
          }
        }
      ]
    },
    {
      "cell_type": "code",
      "source": [
        "# cv 매개변수에 교차 검증 분할기를 전달 -> 데이터 분할을 제어\n",
        "# KFold <- 기본 k겹 교차 검증 재현\n",
        "\n",
        "from sklearn.model_selection import KFold\n",
        "kfold = KFold(n_splits = 5)\n",
        "print(\"교차 검증 점수 : \", cross_val_score(logreg, iris.data, iris.target, cv = kfold))"
      ],
      "metadata": {
        "id": "pFcw61Av66qU",
        "outputId": "70b29d65-41b0-4cdb-d38a-9722ce73f064",
        "colab": {
          "base_uri": "https://localhost:8080/"
        }
      },
      "execution_count": 10,
      "outputs": [
        {
          "output_type": "stream",
          "name": "stdout",
          "text": [
            "교차 검증 점수 :  [1.         1.         0.86666667 0.93333333 0.83333333]\n"
          ]
        }
      ]
    },
    {
      "cell_type": "code",
      "source": [
        "kfold = KFold(n_splits = 3)\n",
        "print(\"교차 검증 점수 : \", cross_val_score(logreg, iris.data, iris.target, cv = kfold))"
      ],
      "metadata": {
        "id": "BAvTk1I_7y28",
        "outputId": "7de06609-4595-4be7-a3b3-5645011cd33b",
        "colab": {
          "base_uri": "https://localhost:8080/"
        }
      },
      "execution_count": 11,
      "outputs": [
        {
          "output_type": "stream",
          "name": "stdout",
          "text": [
            "교차 검증 점수 :  [0. 0. 0.]\n"
          ]
        }
      ]
    },
    {
      "cell_type": "code",
      "source": [
        "# 데이터를 섞어서 샘플의 순서를 랜덤하게 바꿈 (KFold 의 shuffle = True)\n",
        "kfold = KFold(n_splits = 3, shuffle = True, random_state = 0)\n",
        "print(\"교차 검증 점수 : \", cross_val_score(logreg, iris.data, iris.target, cv = kfold))"
      ],
      "metadata": {
        "id": "FzNkSApI7mQK",
        "outputId": "00fcb524-ccd6-4ead-aa9f-ccf764c3eef1",
        "colab": {
          "base_uri": "https://localhost:8080/"
        }
      },
      "execution_count": 12,
      "outputs": [
        {
          "output_type": "stream",
          "name": "stdout",
          "text": [
            "교차 검증 점수 :  [0.98 0.96 0.96]\n"
          ]
        }
      ]
    },
    {
      "cell_type": "code",
      "source": [
        "# 폴드 하나에 샘플 하나가 있는 k겹 교차 검증\n",
        "from sklearn.model_selection import LeaveOneOut\n",
        "loo = LeaveOneOut()\n",
        "scores = cross_val_score(logreg, iris.data, iris.target, cv = loo)\n",
        "print(\"교차 검증 분할 횟수 : \", len(scores))\n",
        "print(\"평균 정확도 : {:.2f}\" .format(scores.mean()))"
      ],
      "metadata": {
        "id": "Y9mUjrfA8IPL",
        "outputId": "ef8436c5-b803-453c-ebde-1af74e9e2462",
        "colab": {
          "base_uri": "https://localhost:8080/"
        }
      },
      "execution_count": 13,
      "outputs": [
        {
          "output_type": "stream",
          "name": "stdout",
          "text": [
            "교차 검증 분할 횟수 :  150\n",
            "평균 정확도 : 0.97\n"
          ]
        }
      ]
    },
    {
      "cell_type": "code",
      "source": [
        "# 임의 분할 교차 검증 : train set, test set, split 횟수를 독립적으로 조정\n",
        "mglearn.plots.plot_shuffle_split()"
      ],
      "metadata": {
        "id": "43cycNDd8zp1",
        "outputId": "455c8af6-97ca-4649-bb65-b280f643ebff",
        "colab": {
          "base_uri": "https://localhost:8080/",
          "height": 153
        }
      },
      "execution_count": 14,
      "outputs": [
        {
          "output_type": "display_data",
          "data": {
            "text/plain": [
              "<Figure size 720x144 with 1 Axes>"
            ],
            "image/png": "[encoded data removed]"
          },
          "metadata": {
            "needs_background": "light"
          }
        }
      ]
    },
    {
      "cell_type": "code",
      "source": [
        "from sklearn.model_selection import ShuffleSplit\n",
        "shuffle_split = ShuffleSplit(test_size = .5, train_size = .5, n_splits = 10)\n",
        "scores = cross_val_score(logreg, iris.data, iris.target, cv = shuffle_split)\n",
        "print(\"교차 검증 점수 :\\n\", scores)"
      ],
      "metadata": {
        "id": "SMkgkfrL9FtS",
        "outputId": "d9788204-5350-4158-ccb1-93508555f0ab",
        "colab": {
          "base_uri": "https://localhost:8080/"
        }
      },
      "execution_count": 15,
      "outputs": [
        {
          "output_type": "stream",
          "name": "stdout",
          "text": [
            "교차 검증 점수 :\n",
            " [0.94666667 0.96       0.96       0.97333333 0.97333333 0.96\n",
            " 0.93333333 0.94666667 0.96       0.94666667]\n"
          ]
        }
      ]
    },
    {
      "cell_type": "code",
      "source": [
        "# 그룹별 교차 검증 -> train set와 test set에 서로 다른 그룹이 들어가도록 함\n",
        "from sklearn.model_selection import GroupKFold\n",
        "from sklearn.datasets import make_blobs\n",
        "\n",
        "X, y = make_blobs(n_samples = 12, random_state = 0)\n",
        "groups = [0, 0,0, 1, 1, 1, 1, 2, 2, 3, 3, 3]\n",
        "scores = cross_val_score(logreg, X, y, groups = groups, cv = GroupKFold(n_splits = 3))\n",
        "print(\"교차 검증 점수 :\\n\", scores);"
      ],
      "metadata": {
        "id": "k1mUksnF9m6I",
        "outputId": "44d8660d-fcd4-4149-e9d6-20c3dfbcce8a",
        "colab": {
          "base_uri": "https://localhost:8080/"
        }
      },
      "execution_count": 16,
      "outputs": [
        {
          "output_type": "stream",
          "name": "stdout",
          "text": [
            "교차 검증 점수 :\n",
            " [0.75       0.6        0.66666667]\n"
          ]
        }
      ]
    },
    {
      "cell_type": "code",
      "source": [
        "mglearn.plots.plot_group_kfold()"
      ],
      "metadata": {
        "id": "06QeqvxI-VDS",
        "outputId": "43046995-cde2-43dc-850b-f2ec84810297",
        "colab": {
          "base_uri": "https://localhost:8080/",
          "height": 153
        }
      },
      "execution_count": 17,
      "outputs": [
        {
          "output_type": "display_data",
          "data": {
            "text/plain": [
              "<Figure size 720x144 with 1 Axes>"
            ],
            "image/png": "[encoded data removed]"
          },
          "metadata": {
            "needs_background": "light"
          }
        }
      ]
    },
    {
      "cell_type": "markdown",
      "source": [
        "##5.1.4 반복 교차 검증"
      ],
      "metadata": {
        "id": "50IomrdV-eBD"
      }
    },
    {
      "cell_type": "code",
      "source": [
        "from sklearn.model_selection import RepeatedStratifiedKFold\n",
        "rskfold = RepeatedStratifiedKFold(random_state = 42)\n",
        "scores = cross_val_score(logreg, iris.data, iris.target, cv = rskfold)\n",
        "print(\"교차 검증 점수 :\\n\", scores)\n",
        "print(\"교차 검증 평균 점수 : {:.2f}\" .format(scores.mean()))"
      ],
      "metadata": {
        "id": "NmCLef_T-gb5",
        "outputId": "1e5f81f0-ce58-41e7-b223-d77830fb0a00",
        "colab": {
          "base_uri": "https://localhost:8080/"
        }
      },
      "execution_count": 18,
      "outputs": [
        {
          "output_type": "stream",
          "name": "stdout",
          "text": [
            "교차 검증 점수 :\n",
            " [1.         0.96666667 0.93333333 1.         0.93333333 0.96666667\n",
            " 0.96666667 0.93333333 1.         0.96666667 0.93333333 1.\n",
            " 1.         0.96666667 0.96666667 0.9        1.         1.\n",
            " 0.93333333 0.96666667 0.93333333 0.96666667 0.96666667 1.\n",
            " 0.96666667 1.         0.96666667 0.96666667 0.9        1.\n",
            " 0.96666667 0.96666667 0.96666667 0.96666667 0.93333333 0.96666667\n",
            " 0.96666667 1.         1.         0.9        0.96666667 1.\n",
            " 0.9        0.96666667 0.96666667 0.9        0.96666667 0.96666667\n",
            " 1.         0.96666667]\n",
            "교차 검증 평균 점수 : 0.96\n"
          ]
        }
      ]
    },
    {
      "cell_type": "markdown",
      "source": [
        "## 5.2 그리드 서치"
      ],
      "metadata": {
        "id": "VD9ewmP4_GKI"
      }
    },
    {
      "cell_type": "code",
      "source": [
        "# 가능한 매개변수의 모든 조합을 시도\n",
        "from sklearn.svm import SVC\n",
        "from sklearn.model_selection import train_test_split\n",
        "\n",
        "X_train, X_test, y_train, y_test = train_test_split(iris.data, iris.target, random_state = 0)\n",
        "print(\"train set size : {}, test set size : {}\" .format(X_train.shape[0], X_test.shape[0]))\n",
        "\n",
        "best_score = 0\n",
        "for gamma in [0.001, 0.01, 0.1, 1, 10, 100]:\n",
        "    for C in [0.001, 0.01, 0.1, 1, 10, 100]:\n",
        "        svm = SVC(gamma = gamma, C = C)\n",
        "        svm.fit(X_train, y_train)\n",
        "        score = svm.score(X_test, y_test)\n",
        "        if(score > best_score):\n",
        "            best_score = score\n",
        "            best_parameters = {'gamma' : gamma, 'C' : C}\n",
        "print(\"best score : {:.2f}\" .format(best_score))\n",
        "print(\"best parameters : \", best_parameters)"
      ],
      "metadata": {
        "id": "01sQcHwY_KQ9",
        "outputId": "2270f042-92d9-4dd5-b7c9-e6ad80676dc8",
        "colab": {
          "base_uri": "https://localhost:8080/"
        }
      },
      "execution_count": 19,
      "outputs": [
        {
          "output_type": "stream",
          "name": "stdout",
          "text": [
            "train set size : 112, test set size : 38\n",
            "best score : 0.97\n",
            "best parameters :  {'gamma': 0.001, 'C': 100}\n"
          ]
        }
      ]
    },
    {
      "cell_type": "markdown",
      "source": [
        "## 5.2.2 매개변수 과대적합과 검증 세트"
      ],
      "metadata": {
        "id": "_E40Ok6VRNED"
      }
    },
    {
      "cell_type": "code",
      "source": [
        "# 평가를 위해서 모델을 만들 때 사용하지 않은 독립된 데이터 세트가 필요\n",
        "mglearn.plots.plot_threefold_split()"
      ],
      "metadata": {
        "id": "w0KXiUA1RPmp",
        "outputId": "b334478e-6797-49d2-9e54-30df5f417f51",
        "colab": {
          "base_uri": "https://localhost:8080/",
          "height": 127
        }
      },
      "execution_count": 20,
      "outputs": [
        {
          "output_type": "display_data",
          "data": {
            "text/plain": [
              "<Figure size 1080x72 with 1 Axes>"
            ],
            "image/png": "[encoded data removed]"
          },
          "metadata": {
            "needs_background": "light"
          }
        }
      ]
    },
    {
      "cell_type": "code",
      "source": [
        "# 데이터 셋을 훈련 세트, 검증 세트, 테스트 세트 3개로 나눔\n",
        "X_trainval, X_test, y_trainval, y_test = train_test_split(iris.data, iris.target, random_state = 0)\n",
        "X_train, X_valid, y_train, y_valid = train_test_split(X_trainval, y_trainval)\n",
        "\n",
        "print(\"훈련 세트의 크기 : {}, 검증 세트의 크기 : {}, 테스트 세트의 크기 {}\" .format(X_train.shape[0], X_valid.shape[0], X_test.shape[0]))\n",
        "\n",
        "best_score = 0\n",
        "for gamma in [0.001, 0.01, 0.1, 1, 10, 100]:\n",
        "    for C in [0.001, 0.01, 0.1, 1, 10, 100]:\n",
        "        svm = SVC(gamma = gamma, C = C)\n",
        "        svm.fit(X_train, y_train)\n",
        "        score = svm.score(X_valid, y_valid)\n",
        "        if(score > best_score):\n",
        "            best_score = score\n",
        "            best_parameters = {'gamma' : gamma, 'C' : C}\n",
        "\n",
        "# 최종 평가에 사용하는 테스트 세트를 분리해 유지해야함!\n",
        "svm = SVC(**best_parameters).fit(X_trainval, y_trainval)\n",
        "print(\"best score : {:.2f}\" .format(best_score))\n",
        "print(\"best parameters : \", best_parameters)\n",
        "print(\"최적 매개변수의 test set에서의 점수 : {:.2f}\" .format(svm.score(X_test, y_test)))"
      ],
      "metadata": {
        "id": "6UWrG5v_RmHL",
        "outputId": "27746238-208c-448b-a667-03a2da9f1ff5",
        "colab": {
          "base_uri": "https://localhost:8080/"
        }
      },
      "execution_count": 21,
      "outputs": [
        {
          "output_type": "stream",
          "name": "stdout",
          "text": [
            "훈련 세트의 크기 : 84, 검증 세트의 크기 : 28, 테스트 세트의 크기 38\n",
            "best score : 0.96\n",
            "best parameters :  {'gamma': 0.1, 'C': 10}\n",
            "최적 매개변수의 test set에서의 점수 : 0.97\n"
          ]
        }
      ]
    },
    {
      "cell_type": "markdown",
      "source": [
        "## 5.2.3 교차 검증을 위한 그리드 서치"
      ],
      "metadata": {
        "id": "1DwOHQKyS_oa"
      }
    },
    {
      "cell_type": "code",
      "source": [
        "# 교차 검증을 통해 훈련 세트와 검증 세트를 여러번 나눔\n",
        "for gamma in [0.001, 0.01, 0.1, 1, 10, 100]:\n",
        "    for C in [0.001, 0.01, 0.1, 1, 10, 100]:\n",
        "        svm = SVC(gamma = gamma, C = C)\n",
        "        scores = cross_val_score(svm, X_trainval, y_trainval, cv = 5)\n",
        "        score = np.mean(scores)\n",
        "\n",
        "        if(score > best_score):\n",
        "            best_score = score\n",
        "            best_parameters = {'C' : C, 'gamma' : gamma}\n",
        "svm = SVC(**best_parameters)\n",
        "svm.fit(X_trainval, y_trainval)"
      ],
      "metadata": {
        "id": "q6_2UCnjTBo6",
        "outputId": "5929368a-8c3d-45fe-9eec-8ba4baea6aea",
        "colab": {
          "base_uri": "https://localhost:8080/"
        }
      },
      "execution_count": 22,
      "outputs": [
        {
          "output_type": "execute_result",
          "data": {
            "text/plain": [
              "SVC(C=10, gamma=0.1)"
            ]
          },
          "metadata": {},
          "execution_count": 22
        }
      ]
    },
    {
      "cell_type": "code",
      "source": [
        "# mglearn.plots.plot_cross_val_selection() 왜 갑자기 안될까요..?"
      ],
      "metadata": {
        "id": "-aFMxdS9fXSr"
      },
      "execution_count": 26,
      "outputs": []
    },
    {
      "cell_type": "code",
      "source": [
        "# 교차 검증 -> 그리드 서치의 최적의 매개변수를 찾음\n",
        "# GridSearchCV\n",
        "\n",
        "param_grid = {'C' : [0.001, 0.01, 0.1, 1, 10, 100],\n",
        "              'gamma' : [0.001, 0.01, 0.1, 1, 10, 100]}\n",
        "print(\"매개변수 그리드 : \\n\", param_grid)"
      ],
      "metadata": {
        "id": "7C2b5Hxqfymy",
        "outputId": "5ba89838-5f77-4d17-a2a0-1f8f27d93ac9",
        "colab": {
          "base_uri": "https://localhost:8080/"
        }
      },
      "execution_count": 27,
      "outputs": [
        {
          "output_type": "stream",
          "name": "stdout",
          "text": [
            "매개변수 그리드 : \n",
            " {'C': [0.001, 0.01, 0.1, 1, 10, 100], 'gamma': [0.001, 0.01, 0.1, 1, 10, 100]}\n"
          ]
        }
      ]
    },
    {
      "cell_type": "code",
      "source": [
        "from sklearn.model_selection import GridSearchCV\n",
        "grid_search = GridSearchCV(SVC(), param_grid, cv = 5, return_train_score = True)"
      ],
      "metadata": {
        "id": "TXEiVZbigMrs"
      },
      "execution_count": 28,
      "outputs": []
    },
    {
      "cell_type": "code",
      "source": [
        "X_train, X_test, y_train, y_test = train_test_split(iris.data, iris.target, random_state = 0)\n",
        "\n",
        "# fit -> 매개변수 조합에 대해 교차검증을 수행\n",
        "grid_search.fit(X_train, y_train)\n",
        "\n",
        "print(\"test set score : {:.2f}\" .format(grid_search.score(X_test, y_test)))\n",
        "print(\"최적의 매개변수 : \", grid_search.best_params_)\n",
        "print(\"최고 교차 검증 점수 : {:.2f}\" .format(grid_search.best_score_))"
      ],
      "metadata": {
        "id": "cGOQ866Kglgj",
        "outputId": "b8e9a8ad-c68b-4b99-c075-fb3f30fef61b",
        "colab": {
          "base_uri": "https://localhost:8080/"
        }
      },
      "execution_count": 29,
      "outputs": [
        {
          "output_type": "stream",
          "name": "stdout",
          "text": [
            "test set score : 0.97\n",
            "최적의 매개변수 :  {'C': 10, 'gamma': 0.1}\n",
            "최고 교차 검증 점수 : 0.97\n"
          ]
        }
      ]
    },
    {
      "cell_type": "code",
      "source": [
        "# 전체 훈련세트를 통해 학습한 모델\n",
        "print(\"최고 성능 모델 :\\n\", grid_search.best_estimator_)"
      ],
      "metadata": {
        "id": "rSN4TBeVhhBY",
        "outputId": "e94e1b38-11aa-4c94-9533-ab98f739a490",
        "colab": {
          "base_uri": "https://localhost:8080/"
        }
      },
      "execution_count": 30,
      "outputs": [
        {
          "output_type": "stream",
          "name": "stdout",
          "text": [
            "최고 성능 모델 :\n",
            " SVC(C=10, gamma=0.1)\n"
          ]
        }
      ]
    },
    {
      "cell_type": "code",
      "source": [
        "# 교차 검증의 결과로 검색을 확장해나감\n",
        "pd.set_option('display.max_columns', None)\n",
        "results = pd.DataFrame(grid_search.cv_results_)\n",
        "np.transpose(results.head())"
      ],
      "metadata": {
        "id": "nQQ-8v1AiPgk",
        "outputId": "58320a14-8f23-4f6d-ee56-c8902939564b",
        "colab": {
          "base_uri": "https://localhost:8080/",
          "height": 739
        }
      },
      "execution_count": 31,
      "outputs": [
        {
          "output_type": "execute_result",
          "data": {
            "text/plain": [
              "                                               0                            1  \\\n",
              "mean_fit_time                           0.001088                     0.000756   \n",
              "std_fit_time                            0.000219                     0.000043   \n",
              "mean_score_time                         0.000442                     0.000323   \n",
              "std_score_time                          0.000081                     0.000016   \n",
              "param_C                                    0.001                        0.001   \n",
              "param_gamma                                0.001                         0.01   \n",
              "params              {'C': 0.001, 'gamma': 0.001}  {'C': 0.001, 'gamma': 0.01}   \n",
              "split0_test_score                       0.347826                     0.347826   \n",
              "split1_test_score                       0.347826                     0.347826   \n",
              "split2_test_score                       0.363636                     0.363636   \n",
              "split3_test_score                       0.363636                     0.363636   \n",
              "split4_test_score                       0.409091                     0.409091   \n",
              "mean_test_score                         0.366403                     0.366403   \n",
              "std_test_score                          0.022485                     0.022485   \n",
              "rank_test_score                               22                           22   \n",
              "split0_train_score                      0.370787                     0.370787   \n",
              "split1_train_score                      0.370787                     0.370787   \n",
              "split2_train_score                      0.366667                     0.366667   \n",
              "split3_train_score                      0.366667                     0.366667   \n",
              "split4_train_score                      0.355556                     0.355556   \n",
              "mean_train_score                        0.366092                     0.366092   \n",
              "std_train_score                         0.005581                     0.005581   \n",
              "\n",
              "                                             2                         3  \\\n",
              "mean_fit_time                         0.000709                  0.000714   \n",
              "std_fit_time                          0.000013                   0.00001   \n",
              "mean_score_time                       0.000331                  0.000343   \n",
              "std_score_time                        0.000004                  0.000006   \n",
              "param_C                                  0.001                     0.001   \n",
              "param_gamma                                0.1                         1   \n",
              "params              {'C': 0.001, 'gamma': 0.1}  {'C': 0.001, 'gamma': 1}   \n",
              "split0_test_score                     0.347826                  0.347826   \n",
              "split1_test_score                     0.347826                  0.347826   \n",
              "split2_test_score                     0.363636                  0.363636   \n",
              "split3_test_score                     0.363636                  0.363636   \n",
              "split4_test_score                     0.409091                  0.409091   \n",
              "mean_test_score                       0.366403                  0.366403   \n",
              "std_test_score                        0.022485                  0.022485   \n",
              "rank_test_score                             22                        22   \n",
              "split0_train_score                    0.370787                  0.370787   \n",
              "split1_train_score                    0.370787                  0.370787   \n",
              "split2_train_score                    0.366667                  0.366667   \n",
              "split3_train_score                    0.366667                  0.366667   \n",
              "split4_train_score                    0.355556                  0.355556   \n",
              "mean_train_score                      0.366092                  0.366092   \n",
              "std_train_score                       0.005581                  0.005581   \n",
              "\n",
              "                                            4  \n",
              "mean_fit_time                        0.000716  \n",
              "std_fit_time                         0.000021  \n",
              "mean_score_time                      0.000333  \n",
              "std_score_time                       0.000009  \n",
              "param_C                                 0.001  \n",
              "param_gamma                                10  \n",
              "params              {'C': 0.001, 'gamma': 10}  \n",
              "split0_test_score                    0.347826  \n",
              "split1_test_score                    0.347826  \n",
              "split2_test_score                    0.363636  \n",
              "split3_test_score                    0.363636  \n",
              "split4_test_score                    0.409091  \n",
              "mean_test_score                      0.366403  \n",
              "std_test_score                       0.022485  \n",
              "rank_test_score                            22  \n",
              "split0_train_score                   0.370787  \n",
              "split1_train_score                   0.370787  \n",
              "split2_train_score                   0.366667  \n",
              "split3_train_score                   0.366667  \n",
              "split4_train_score                   0.355556  \n",
              "mean_train_score                     0.366092  \n",
              "std_train_score                      0.005581  "
            ],
            "text/html": [
              "\n",
              "  <div id=\"df-0e0651d6-a2dc-4557-b149-a48d7d9d385b\">\n",
              "    <div class=\"colab-df-container\">\n",
              "      <div>\n",
              "<style scoped>\n",
              "    .dataframe tbody tr th:only-of-type {\n",
              "        vertical-align: middle;\n",
              "    }\n",
              "\n",
              "    .dataframe tbody tr th {\n",
              "        vertical-align: top;\n",
              "    }\n",
              "\n",
              "    .dataframe thead th {\n",
              "        text-align: right;\n",
              "    }\n",
              "</style>\n",
              "<table border=\"1\" class=\"dataframe\">\n",
              "  <thead>\n",
              "    <tr style=\"text-align: right;\">\n",
              "      <th></th>\n",
              "      <th>0</th>\n",
              "      <th>1</th>\n",
              "      <th>2</th>\n",
              "      <th>3</th>\n",
              "      <th>4</th>\n",
              "    </tr>\n",
              "  </thead>\n",
              "  <tbody>\n",
              "    <tr>\n",
              "      <th>mean_fit_time</th>\n",
              "      <td>0.001088</td>\n",
              "      <td>0.000756</td>\n",
              "      <td>0.000709</td>\n",
              "      <td>0.000714</td>\n",
              "      <td>0.000716</td>\n",
              "    </tr>\n",
              "    <tr>\n",
              "      <th>std_fit_time</th>\n",
              "      <td>0.000219</td>\n",
              "      <td>0.000043</td>\n",
              "      <td>0.000013</td>\n",
              "      <td>0.00001</td>\n",
              "      <td>0.000021</td>\n",
              "    </tr>\n",
              "    <tr>\n",
              "      <th>mean_score_time</th>\n",
              "      <td>0.000442</td>\n",
              "      <td>0.000323</td>\n",
              "      <td>0.000331</td>\n",
              "      <td>0.000343</td>\n",
              "      <td>0.000333</td>\n",
              "    </tr>\n",
              "    <tr>\n",
              "      <th>std_score_time</th>\n",
              "      <td>0.000081</td>\n",
              "      <td>0.000016</td>\n",
              "      <td>0.000004</td>\n",
              "      <td>0.000006</td>\n",
              "      <td>0.000009</td>\n",
              "    </tr>\n",
              "    <tr>\n",
              "      <th>param_C</th>\n",
              "      <td>0.001</td>\n",
              "      <td>0.001</td>\n",
              "      <td>0.001</td>\n",
              "      <td>0.001</td>\n",
              "      <td>0.001</td>\n",
              "    </tr>\n",
              "    <tr>\n",
              "      <th>param_gamma</th>\n",
              "      <td>0.001</td>\n",
              "      <td>0.01</td>\n",
              "      <td>0.1</td>\n",
              "      <td>1</td>\n",
              "      <td>10</td>\n",
              "    </tr>\n",
              "    <tr>\n",
              "      <th>params</th>\n",
              "      <td>{'C': 0.001, 'gamma': 0.001}</td>\n",
              "      <td>{'C': 0.001, 'gamma': 0.01}</td>\n",
              "      <td>{'C': 0.001, 'gamma': 0.1}</td>\n",
              "      <td>{'C': 0.001, 'gamma': 1}</td>\n",
              "      <td>{'C': 0.001, 'gamma': 10}</td>\n",
              "    </tr>\n",
              "    <tr>\n",
              "      <th>split0_test_score</th>\n",
              "      <td>0.347826</td>\n",
              "      <td>0.347826</td>\n",
              "      <td>0.347826</td>\n",
              "      <td>0.347826</td>\n",
              "      <td>0.347826</td>\n",
              "    </tr>\n",
              "    <tr>\n",
              "      <th>split1_test_score</th>\n",
              "      <td>0.347826</td>\n",
              "      <td>0.347826</td>\n",
              "      <td>0.347826</td>\n",
              "      <td>0.347826</td>\n",
              "      <td>0.347826</td>\n",
              "    </tr>\n",
              "    <tr>\n",
              "      <th>split2_test_score</th>\n",
              "      <td>0.363636</td>\n",
              "      <td>0.363636</td>\n",
              "      <td>0.363636</td>\n",
              "      <td>0.363636</td>\n",
              "      <td>0.363636</td>\n",
              "    </tr>\n",
              "    <tr>\n",
              "      <th>split3_test_score</th>\n",
              "      <td>0.363636</td>\n",
              "      <td>0.363636</td>\n",
              "      <td>0.363636</td>\n",
              "      <td>0.363636</td>\n",
              "      <td>0.363636</td>\n",
              "    </tr>\n",
              "    <tr>\n",
              "      <th>split4_test_score</th>\n",
              "      <td>0.409091</td>\n",
              "      <td>0.409091</td>\n",
              "      <td>0.409091</td>\n",
              "      <td>0.409091</td>\n",
              "      <td>0.409091</td>\n",
              "    </tr>\n",
              "    <tr>\n",
              "      <th>mean_test_score</th>\n",
              "      <td>0.366403</td>\n",
              "      <td>0.366403</td>\n",
              "      <td>0.366403</td>\n",
              "      <td>0.366403</td>\n",
              "      <td>0.366403</td>\n",
              "    </tr>\n",
              "    <tr>\n",
              "      <th>std_test_score</th>\n",
              "      <td>0.022485</td>\n",
              "      <td>0.022485</td>\n",
              "      <td>0.022485</td>\n",
              "      <td>0.022485</td>\n",
              "      <td>0.022485</td>\n",
              "    </tr>\n",
              "    <tr>\n",
              "      <th>rank_test_score</th>\n",
              "      <td>22</td>\n",
              "      <td>22</td>\n",
              "      <td>22</td>\n",
              "      <td>22</td>\n",
              "      <td>22</td>\n",
              "    </tr>\n",
              "    <tr>\n",
              "      <th>split0_train_score</th>\n",
              "      <td>0.370787</td>\n",
              "      <td>0.370787</td>\n",
              "      <td>0.370787</td>\n",
              "      <td>0.370787</td>\n",
              "      <td>0.370787</td>\n",
              "    </tr>\n",
              "    <tr>\n",
              "      <th>split1_train_score</th>\n",
              "      <td>0.370787</td>\n",
              "      <td>0.370787</td>\n",
              "      <td>0.370787</td>\n",
              "      <td>0.370787</td>\n",
              "      <td>0.370787</td>\n",
              "    </tr>\n",
              "    <tr>\n",
              "      <th>split2_train_score</th>\n",
              "      <td>0.366667</td>\n",
              "      <td>0.366667</td>\n",
              "      <td>0.366667</td>\n",
              "      <td>0.366667</td>\n",
              "      <td>0.366667</td>\n",
              "    </tr>\n",
              "    <tr>\n",
              "      <th>split3_train_score</th>\n",
              "      <td>0.366667</td>\n",
              "      <td>0.366667</td>\n",
              "      <td>0.366667</td>\n",
              "      <td>0.366667</td>\n",
              "      <td>0.366667</td>\n",
              "    </tr>\n",
              "    <tr>\n",
              "      <th>split4_train_score</th>\n",
              "      <td>0.355556</td>\n",
              "      <td>0.355556</td>\n",
              "      <td>0.355556</td>\n",
              "      <td>0.355556</td>\n",
              "      <td>0.355556</td>\n",
              "    </tr>\n",
              "    <tr>\n",
              "      <th>mean_train_score</th>\n",
              "      <td>0.366092</td>\n",
              "      <td>0.366092</td>\n",
              "      <td>0.366092</td>\n",
              "      <td>0.366092</td>\n",
              "      <td>0.366092</td>\n",
              "    </tr>\n",
              "    <tr>\n",
              "      <th>std_train_score</th>\n",
              "      <td>0.005581</td>\n",
              "      <td>0.005581</td>\n",
              "      <td>0.005581</td>\n",
              "      <td>0.005581</td>\n",
              "      <td>0.005581</td>\n",
              "    </tr>\n",
              "  </tbody>\n",
              "</table>\n",
              "</div>\n",
              "      <button class=\"colab-df-convert\" onclick=\"convertToInteractive('df-0e0651d6-a2dc-4557-b149-a48d7d9d385b')\"\n",
              "              title=\"Convert this dataframe to an interactive table.\"\n",
              "              style=\"display:none;\">\n",
              "        \n",
              "  <svg xmlns=\"http://www.w3.org/2000/svg\" height=\"24px\"viewBox=\"0 0 24 24\"\n",
              "       width=\"24px\">\n",
              "    <path d=\"M0 0h24v24H0V0z\" fill=\"none\"/>\n",
              "    <path d=\"M18.56 5.44l.94 2.06.94-2.06 2.06-.94-2.06-.94-.94-2.06-.94 2.06-2.06.94zm-11 1L8.5 8.5l.94-2.06 2.06-.94-2.06-.94L8.5 2.5l-.94 2.06-2.06.94zm10 10l.94 2.06.94-2.06 2.06-.94-2.06-.94-.94-2.06-.94 2.06-2.06.94z\"/><path d=\"M17.41 7.96l-1.37-1.37c-.4-.4-.92-.59-1.43-.59-.52 0-1.04.2-1.43.59L10.3 9.45l-7.72 7.72c-.78.78-.78 2.05 0 2.83L4 21.41c.39.39.9.59 1.41.59.51 0 1.02-.2 1.41-.59l7.78-7.78 2.81-2.81c.8-.78.8-2.07 0-2.86zM5.41 20L4 18.59l7.72-7.72 1.47 1.35L5.41 20z\"/>\n",
              "  </svg>\n",
              "      </button>\n",
              "      \n",
              "  <style>\n",
              "    .colab-df-container {\n",
              "      display:flex;\n",
              "      flex-wrap:wrap;\n",
              "      gap: 12px;\n",
              "    }\n",
              "\n",
              "    .colab-df-convert {\n",
              "      background-color: #E8F0FE;\n",
              "      border: none;\n",
              "      border-radius: 50%;\n",
              "      cursor: pointer;\n",
              "      display: none;\n",
              "      fill: #1967D2;\n",
              "      height: 32px;\n",
              "      padding: 0 0 0 0;\n",
              "      width: 32px;\n",
              "    }\n",
              "\n",
              "    .colab-df-convert:hover {\n",
              "      background-color: #E2EBFA;\n",
              "      box-shadow: 0px 1px 2px rgba(60, 64, 67, 0.3), 0px 1px 3px 1px rgba(60, 64, 67, 0.15);\n",
              "      fill: #174EA6;\n",
              "    }\n",
              "\n",
              "    [theme=dark] .colab-df-convert {\n",
              "      background-color: #3B4455;\n",
              "      fill: #D2E3FC;\n",
              "    }\n",
              "\n",
              "    [theme=dark] .colab-df-convert:hover {\n",
              "      background-color: #434B5C;\n",
              "      box-shadow: 0px 1px 3px 1px rgba(0, 0, 0, 0.15);\n",
              "      filter: drop-shadow(0px 1px 2px rgba(0, 0, 0, 0.3));\n",
              "      fill: #FFFFFF;\n",
              "    }\n",
              "  </style>\n",
              "\n",
              "      <script>\n",
              "        const buttonEl =\n",
              "          document.querySelector('#df-0e0651d6-a2dc-4557-b149-a48d7d9d385b button.colab-df-convert');\n",
              "        buttonEl.style.display =\n",
              "          google.colab.kernel.accessAllowed ? 'block' : 'none';\n",
              "\n",
              "        async function convertToInteractive(key) {\n",
              "          const element = document.querySelector('#df-0e0651d6-a2dc-4557-b149-a48d7d9d385b');\n",
              "          const dataTable =\n",
              "            await google.colab.kernel.invokeFunction('convertToInteractive',\n",
              "                                                     [key], {});\n",
              "          if (!dataTable) return;\n",
              "\n",
              "          const docLinkHtml = 'Like what you see? Visit the ' +\n",
              "            '<a target=\"_blank\" href=https://colab.research.google.com/notebooks/data_table.ipynb>data table notebook</a>'\n",
              "            + ' to learn more about interactive tables.';\n",
              "          element.innerHTML = '';\n",
              "          dataTable['output_type'] = 'display_data';\n",
              "          await google.colab.output.renderOutput(dataTable, element);\n",
              "          const docLink = document.createElement('div');\n",
              "          docLink.innerHTML = docLinkHtml;\n",
              "          element.appendChild(docLink);\n",
              "        }\n",
              "      </script>\n",
              "    </div>\n",
              "  </div>\n",
              "  "
            ]
          },
          "metadata": {},
          "execution_count": 31
        }
      ]
    },
    {
      "cell_type": "code",
      "source": [
        "# 히트맵으로 시각화\n",
        "scores = np.array(results.mean_test_score).reshape(6, 6)\n",
        "\n",
        "mglearn.tools.heatmap(scores, xlabel = 'gamma', xticklabels = param_grid['gamma'], ylabel = 'C', yticklabels = param_grid['C'], cmap = \"viridis\")"
      ],
      "metadata": {
        "id": "vL60GutFirHh",
        "outputId": "8d0e3449-5c26-4bc9-d1c6-202bc677f792",
        "colab": {
          "base_uri": "https://localhost:8080/",
          "height": 297
        }
      },
      "execution_count": 32,
      "outputs": [
        {
          "output_type": "execute_result",
          "data": {
            "text/plain": [
              "<matplotlib.collections.PolyCollection at 0x7fd6f97c3730>"
            ]
          },
          "metadata": {},
          "execution_count": 32
        },
        {
          "output_type": "display_data",
          "data": {
            "text/plain": [
              "<Figure size 432x288 with 1 Axes>"
            ],
            "image/png": "[encoded data removed]"
          },
          "metadata": {
            "needs_background": "light"
          }
        }
      ]
    },
    {
      "cell_type": "code",
      "source": [
        "# 매개변수의 탐색 범위가 중요 -> 처음에는 넓게\n",
        "\n",
        "fig, axes = plt.subplots(1, 3, figsize = (13, 5))\n",
        "param_grid_linear = {'C': np.linspace(1, 2, 6),\n",
        "                     'gamma':  np.linspace(1, 2, 6)}\n",
        "param_grid_one_log = {'C': np.linspace(1, 2, 6),\n",
        "                     'gamma':  np.logspace(-3, 2, 6)}\n",
        "param_grid_range = {'C': np.logspace(-3, 2, 6),\n",
        "                     'gamma':  np.logspace(-7, -2, 6)}\n",
        "\n",
        "for param_grid, ax in zip([param_grid_linear, param_grid_one_log, param_grid_range], axes):\n",
        "    grid_search = GridSearchCV(SVC(), param_grid, cv = 5)\n",
        "    grid_search.fit(X_train, y_train)\n",
        "    scores = grid_search.cv_results_['mean_test_score'].reshape(6, 6)\n",
        "\n",
        "    # 교차 검증 평균 점수의 히트맵 그래프\n",
        "    scores_image = mglearn.tools.heatmap(\n",
        "        scores, xlabel = 'gamma', ylabel = 'C', xticklabels = param_grid['gamma'],\n",
        "        yticklabels = param_grid['C'], cmap = \"viridis\", ax = ax, vmin = 0.3, vmax = 0.9)\n",
        "    \n",
        "plt.colorbar(scores_image, ax = axes.tolist())"
      ],
      "metadata": {
        "id": "bszimaNTjeq0",
        "outputId": "6ae06899-47e1-4c90-fa1e-dd7aa450d783",
        "colab": {
          "base_uri": "https://localhost:8080/",
          "height": 331
        }
      },
      "execution_count": 33,
      "outputs": [
        {
          "output_type": "execute_result",
          "data": {
            "text/plain": [
              "<matplotlib.colorbar.Colorbar at 0x7fd6f9b740d0>"
            ]
          },
          "metadata": {},
          "execution_count": 33
        },
        {
          "output_type": "display_data",
          "data": {
            "text/plain": [
              "<Figure size 936x360 with 4 Axes>"
            ],
            "image/png": "[encoded data removed]"
          },
          "metadata": {
            "needs_background": "light"
          }
        }
      ]
    },
    {
      "cell_type": "code",
      "source": [
        "# SVC에서는 어떤 커널을 사용하냐에 따라 확인해야하는 매개변수 조합이 달라짐\n",
        "param_grid = [\n",
        "    {'kernel' : ['rbf'], 'C' : [0.001, 0.01, 0.1, 1, 10, 100], 'gamma' : [0.001, 0.01, 0.1, 1, 10, 100]},\n",
        "    {'kernel' : ['linear'], 'C' : [0.001, 0.01, 0.1, 1, 10, 100]}\n",
        "]\n",
        "print(\"그리드 목록 :\\n\", param_grid)"
      ],
      "metadata": {
        "id": "uQ1hTTp0uW2g",
        "outputId": "4bd71de3-3e25-42f6-f75f-0d532e0fa125",
        "colab": {
          "base_uri": "https://localhost:8080/"
        }
      },
      "execution_count": 34,
      "outputs": [
        {
          "output_type": "stream",
          "name": "stdout",
          "text": [
            "그리드 목록 :\n",
            " [{'kernel': ['rbf'], 'C': [0.001, 0.01, 0.1, 1, 10, 100], 'gamma': [0.001, 0.01, 0.1, 1, 10, 100]}, {'kernel': ['linear'], 'C': [0.001, 0.01, 0.1, 1, 10, 100]}]\n"
          ]
        }
      ]
    },
    {
      "cell_type": "code",
      "source": [
        "grid_search = GridSearchCV(SVC(), param_grid, cv = 5, return_train_score = True)\n",
        "grid_search.fit(X_train, y_train)\n",
        "print(\"최적의 파라미터 : \", grid_search.best_params_)\n",
        "print(\"최적의 교차 검증 점수 : {:.2f}\" .format(grid_search.best_score_))"
      ],
      "metadata": {
        "id": "_qEZ4-jsumpI",
        "outputId": "3d829ddd-7150-4d46-bb2c-8af3ef15aafb",
        "colab": {
          "base_uri": "https://localhost:8080/"
        }
      },
      "execution_count": 35,
      "outputs": [
        {
          "output_type": "stream",
          "name": "stdout",
          "text": [
            "최적의 파라미터 :  {'C': 10, 'gamma': 0.1, 'kernel': 'rbf'}\n",
            "최적의 교차 검증 점수 : 0.97\n"
          ]
        }
      ]
    },
    {
      "cell_type": "code",
      "source": [
        "results = pd.DataFrame(grid_search.cv_results_)\n",
        "results.T"
      ],
      "metadata": {
        "id": "diNDQ6MlvOzv",
        "outputId": "64778292-23d9-482c-9f40-9e15f8062b98",
        "colab": {
          "base_uri": "https://localhost:8080/",
          "height": 921
        }
      },
      "execution_count": 36,
      "outputs": [
        {
          "output_type": "execute_result",
          "data": {
            "text/plain": [
              "                                                               0   \\\n",
              "mean_fit_time                                            0.001049   \n",
              "std_fit_time                                             0.000372   \n",
              "mean_score_time                                          0.000386   \n",
              "std_score_time                                           0.000098   \n",
              "param_C                                                     0.001   \n",
              "param_gamma                                                 0.001   \n",
              "param_kernel                                                  rbf   \n",
              "params              {'C': 0.001, 'gamma': 0.001, 'kernel': 'rbf'}   \n",
              "split0_test_score                                        0.347826   \n",
              "split1_test_score                                        0.347826   \n",
              "split2_test_score                                        0.363636   \n",
              "split3_test_score                                        0.363636   \n",
              "split4_test_score                                        0.409091   \n",
              "mean_test_score                                          0.366403   \n",
              "std_test_score                                           0.022485   \n",
              "rank_test_score                                                27   \n",
              "split0_train_score                                       0.370787   \n",
              "split1_train_score                                       0.370787   \n",
              "split2_train_score                                       0.366667   \n",
              "split3_train_score                                       0.366667   \n",
              "split4_train_score                                       0.355556   \n",
              "mean_train_score                                         0.366092   \n",
              "std_train_score                                          0.005581   \n",
              "\n",
              "                                                              1   \\\n",
              "mean_fit_time                                           0.000683   \n",
              "std_fit_time                                            0.000017   \n",
              "mean_score_time                                          0.00031   \n",
              "std_score_time                                          0.000014   \n",
              "param_C                                                    0.001   \n",
              "param_gamma                                                 0.01   \n",
              "param_kernel                                                 rbf   \n",
              "params              {'C': 0.001, 'gamma': 0.01, 'kernel': 'rbf'}   \n",
              "split0_test_score                                       0.347826   \n",
              "split1_test_score                                       0.347826   \n",
              "split2_test_score                                       0.363636   \n",
              "split3_test_score                                       0.363636   \n",
              "split4_test_score                                       0.409091   \n",
              "mean_test_score                                         0.366403   \n",
              "std_test_score                                          0.022485   \n",
              "rank_test_score                                               27   \n",
              "split0_train_score                                      0.370787   \n",
              "split1_train_score                                      0.370787   \n",
              "split2_train_score                                      0.366667   \n",
              "split3_train_score                                      0.366667   \n",
              "split4_train_score                                      0.355556   \n",
              "mean_train_score                                        0.366092   \n",
              "std_train_score                                         0.005581   \n",
              "\n",
              "                                                             2   \\\n",
              "mean_fit_time                                          0.000695   \n",
              "std_fit_time                                           0.000027   \n",
              "mean_score_time                                        0.000324   \n",
              "std_score_time                                         0.000017   \n",
              "param_C                                                   0.001   \n",
              "param_gamma                                                 0.1   \n",
              "param_kernel                                                rbf   \n",
              "params              {'C': 0.001, 'gamma': 0.1, 'kernel': 'rbf'}   \n",
              "split0_test_score                                      0.347826   \n",
              "split1_test_score                                      0.347826   \n",
              "split2_test_score                                      0.363636   \n",
              "split3_test_score                                      0.363636   \n",
              "split4_test_score                                      0.409091   \n",
              "mean_test_score                                        0.366403   \n",
              "std_test_score                                         0.022485   \n",
              "rank_test_score                                              27   \n",
              "split0_train_score                                     0.370787   \n",
              "split1_train_score                                     0.370787   \n",
              "split2_train_score                                     0.366667   \n",
              "split3_train_score                                     0.366667   \n",
              "split4_train_score                                     0.355556   \n",
              "mean_train_score                                       0.366092   \n",
              "std_train_score                                        0.005581   \n",
              "\n",
              "                                                           3   \\\n",
              "mean_fit_time                                        0.000702   \n",
              "std_fit_time                                         0.000018   \n",
              "mean_score_time                                      0.000304   \n",
              "std_score_time                                       0.000003   \n",
              "param_C                                                 0.001   \n",
              "param_gamma                                                 1   \n",
              "param_kernel                                              rbf   \n",
              "params              {'C': 0.001, 'gamma': 1, 'kernel': 'rbf'}   \n",
              "split0_test_score                                    0.347826   \n",
              "split1_test_score                                    0.347826   \n",
              "split2_test_score                                    0.363636   \n",
              "split3_test_score                                    0.363636   \n",
              "split4_test_score                                    0.409091   \n",
              "mean_test_score                                      0.366403   \n",
              "std_test_score                                       0.022485   \n",
              "rank_test_score                                            27   \n",
              "split0_train_score                                   0.370787   \n",
              "split1_train_score                                   0.370787   \n",
              "split2_train_score                                   0.366667   \n",
              "split3_train_score                                   0.366667   \n",
              "split4_train_score                                   0.355556   \n",
              "mean_train_score                                     0.366092   \n",
              "std_train_score                                      0.005581   \n",
              "\n",
              "                                                            4   \\\n",
              "mean_fit_time                                         0.000703   \n",
              "std_fit_time                                          0.000031   \n",
              "mean_score_time                                       0.000312   \n",
              "std_score_time                                        0.000014   \n",
              "param_C                                                  0.001   \n",
              "param_gamma                                                 10   \n",
              "param_kernel                                               rbf   \n",
              "params              {'C': 0.001, 'gamma': 10, 'kernel': 'rbf'}   \n",
              "split0_test_score                                     0.347826   \n",
              "split1_test_score                                     0.347826   \n",
              "split2_test_score                                     0.363636   \n",
              "split3_test_score                                     0.363636   \n",
              "split4_test_score                                     0.409091   \n",
              "mean_test_score                                       0.366403   \n",
              "std_test_score                                        0.022485   \n",
              "rank_test_score                                             27   \n",
              "split0_train_score                                    0.370787   \n",
              "split1_train_score                                    0.370787   \n",
              "split2_train_score                                    0.366667   \n",
              "split3_train_score                                    0.366667   \n",
              "split4_train_score                                    0.355556   \n",
              "mean_train_score                                      0.366092   \n",
              "std_train_score                                       0.005581   \n",
              "\n",
              "                                                             5   \\\n",
              "mean_fit_time                                          0.000789   \n",
              "std_fit_time                                           0.000004   \n",
              "mean_score_time                                         0.00033   \n",
              "std_score_time                                         0.000011   \n",
              "param_C                                                   0.001   \n",
              "param_gamma                                                 100   \n",
              "param_kernel                                                rbf   \n",
              "params              {'C': 0.001, 'gamma': 100, 'kernel': 'rbf'}   \n",
              "split0_test_score                                      0.347826   \n",
              "split1_test_score                                      0.347826   \n",
              "split2_test_score                                      0.363636   \n",
              "split3_test_score                                      0.363636   \n",
              "split4_test_score                                      0.409091   \n",
              "mean_test_score                                        0.366403   \n",
              "std_test_score                                         0.022485   \n",
              "rank_test_score                                              27   \n",
              "split0_train_score                                     0.370787   \n",
              "split1_train_score                                     0.370787   \n",
              "split2_train_score                                     0.366667   \n",
              "split3_train_score                                     0.366667   \n",
              "split4_train_score                                     0.355556   \n",
              "mean_train_score                                       0.366092   \n",
              "std_train_score                                        0.005581   \n",
              "\n",
              "                                                              6   \\\n",
              "mean_fit_time                                           0.000721   \n",
              "std_fit_time                                            0.000062   \n",
              "mean_score_time                                         0.000313   \n",
              "std_score_time                                          0.000015   \n",
              "param_C                                                     0.01   \n",
              "param_gamma                                                0.001   \n",
              "param_kernel                                                 rbf   \n",
              "params              {'C': 0.01, 'gamma': 0.001, 'kernel': 'rbf'}   \n",
              "split0_test_score                                       0.347826   \n",
              "split1_test_score                                       0.347826   \n",
              "split2_test_score                                       0.363636   \n",
              "split3_test_score                                       0.363636   \n",
              "split4_test_score                                       0.409091   \n",
              "mean_test_score                                         0.366403   \n",
              "std_test_score                                          0.022485   \n",
              "rank_test_score                                               27   \n",
              "split0_train_score                                      0.370787   \n",
              "split1_train_score                                      0.370787   \n",
              "split2_train_score                                      0.366667   \n",
              "split3_train_score                                      0.366667   \n",
              "split4_train_score                                      0.355556   \n",
              "mean_train_score                                        0.366092   \n",
              "std_train_score                                         0.005581   \n",
              "\n",
              "                                                             7   \\\n",
              "mean_fit_time                                          0.000699   \n",
              "std_fit_time                                           0.000018   \n",
              "mean_score_time                                        0.000315   \n",
              "std_score_time                                         0.000015   \n",
              "param_C                                                    0.01   \n",
              "param_gamma                                                0.01   \n",
              "param_kernel                                                rbf   \n",
              "params              {'C': 0.01, 'gamma': 0.01, 'kernel': 'rbf'}   \n",
              "split0_test_score                                      0.347826   \n",
              "split1_test_score                                      0.347826   \n",
              "split2_test_score                                      0.363636   \n",
              "split3_test_score                                      0.363636   \n",
              "split4_test_score                                      0.409091   \n",
              "mean_test_score                                        0.366403   \n",
              "std_test_score                                         0.022485   \n",
              "rank_test_score                                              27   \n",
              "split0_train_score                                     0.370787   \n",
              "split1_train_score                                     0.370787   \n",
              "split2_train_score                                     0.366667   \n",
              "split3_train_score                                     0.366667   \n",
              "split4_train_score                                     0.355556   \n",
              "mean_train_score                                       0.366092   \n",
              "std_train_score                                        0.005581   \n",
              "\n",
              "                                                            8   \\\n",
              "mean_fit_time                                           0.0007   \n",
              "std_fit_time                                           0.00002   \n",
              "mean_score_time                                       0.000308   \n",
              "std_score_time                                         0.00001   \n",
              "param_C                                                   0.01   \n",
              "param_gamma                                                0.1   \n",
              "param_kernel                                               rbf   \n",
              "params              {'C': 0.01, 'gamma': 0.1, 'kernel': 'rbf'}   \n",
              "split0_test_score                                     0.347826   \n",
              "split1_test_score                                     0.347826   \n",
              "split2_test_score                                     0.363636   \n",
              "split3_test_score                                     0.363636   \n",
              "split4_test_score                                     0.409091   \n",
              "mean_test_score                                       0.366403   \n",
              "std_test_score                                        0.022485   \n",
              "rank_test_score                                             27   \n",
              "split0_train_score                                    0.370787   \n",
              "split1_train_score                                    0.370787   \n",
              "split2_train_score                                    0.366667   \n",
              "split3_train_score                                    0.366667   \n",
              "split4_train_score                                    0.355556   \n",
              "mean_train_score                                      0.366092   \n",
              "std_train_score                                       0.005581   \n",
              "\n",
              "                                                          9   \\\n",
              "mean_fit_time                                       0.000683   \n",
              "std_fit_time                                        0.000008   \n",
              "mean_score_time                                     0.000313   \n",
              "std_score_time                                      0.000012   \n",
              "param_C                                                 0.01   \n",
              "param_gamma                                                1   \n",
              "param_kernel                                             rbf   \n",
              "params              {'C': 0.01, 'gamma': 1, 'kernel': 'rbf'}   \n",
              "split0_test_score                                   0.347826   \n",
              "split1_test_score                                   0.347826   \n",
              "split2_test_score                                   0.363636   \n",
              "split3_test_score                                   0.363636   \n",
              "split4_test_score                                   0.409091   \n",
              "mean_test_score                                     0.366403   \n",
              "std_test_score                                      0.022485   \n",
              "rank_test_score                                           27   \n",
              "split0_train_score                                  0.370787   \n",
              "split1_train_score                                  0.370787   \n",
              "split2_train_score                                  0.366667   \n",
              "split3_train_score                                  0.366667   \n",
              "split4_train_score                                  0.355556   \n",
              "mean_train_score                                    0.366092   \n",
              "std_train_score                                     0.005581   \n",
              "\n",
              "                                                           10  \\\n",
              "mean_fit_time                                        0.000718   \n",
              "std_fit_time                                         0.000009   \n",
              "mean_score_time                                      0.000307   \n",
              "std_score_time                                       0.000004   \n",
              "param_C                                                  0.01   \n",
              "param_gamma                                                10   \n",
              "param_kernel                                              rbf   \n",
              "params              {'C': 0.01, 'gamma': 10, 'kernel': 'rbf'}   \n",
              "split0_test_score                                    0.347826   \n",
              "split1_test_score                                    0.347826   \n",
              "split2_test_score                                    0.363636   \n",
              "split3_test_score                                    0.363636   \n",
              "split4_test_score                                    0.409091   \n",
              "mean_test_score                                      0.366403   \n",
              "std_test_score                                       0.022485   \n",
              "rank_test_score                                            27   \n",
              "split0_train_score                                   0.370787   \n",
              "split1_train_score                                   0.370787   \n",
              "split2_train_score                                   0.366667   \n",
              "split3_train_score                                   0.366667   \n",
              "split4_train_score                                   0.355556   \n",
              "mean_train_score                                     0.366092   \n",
              "std_train_score                                      0.005581   \n",
              "\n",
              "                                                            11  \\\n",
              "mean_fit_time                                         0.000847   \n",
              "std_fit_time                                          0.000017   \n",
              "mean_score_time                                       0.000362   \n",
              "std_score_time                                        0.000041   \n",
              "param_C                                                   0.01   \n",
              "param_gamma                                                100   \n",
              "param_kernel                                               rbf   \n",
              "params              {'C': 0.01, 'gamma': 100, 'kernel': 'rbf'}   \n",
              "split0_test_score                                     0.347826   \n",
              "split1_test_score                                     0.347826   \n",
              "split2_test_score                                     0.363636   \n",
              "split3_test_score                                     0.363636   \n",
              "split4_test_score                                     0.409091   \n",
              "mean_test_score                                       0.366403   \n",
              "std_test_score                                        0.022485   \n",
              "rank_test_score                                             27   \n",
              "split0_train_score                                    0.370787   \n",
              "split1_train_score                                    0.370787   \n",
              "split2_train_score                                    0.366667   \n",
              "split3_train_score                                    0.366667   \n",
              "split4_train_score                                    0.355556   \n",
              "mean_train_score                                      0.366092   \n",
              "std_train_score                                       0.005581   \n",
              "\n",
              "                                                             12  \\\n",
              "mean_fit_time                                          0.000778   \n",
              "std_fit_time                                           0.000099   \n",
              "mean_score_time                                        0.000358   \n",
              "std_score_time                                         0.000012   \n",
              "param_C                                                     0.1   \n",
              "param_gamma                                               0.001   \n",
              "param_kernel                                                rbf   \n",
              "params              {'C': 0.1, 'gamma': 0.001, 'kernel': 'rbf'}   \n",
              "split0_test_score                                      0.347826   \n",
              "split1_test_score                                      0.347826   \n",
              "split2_test_score                                      0.363636   \n",
              "split3_test_score                                      0.363636   \n",
              "split4_test_score                                      0.409091   \n",
              "mean_test_score                                        0.366403   \n",
              "std_test_score                                         0.022485   \n",
              "rank_test_score                                              27   \n",
              "split0_train_score                                     0.370787   \n",
              "split1_train_score                                     0.370787   \n",
              "split2_train_score                                     0.366667   \n",
              "split3_train_score                                     0.366667   \n",
              "split4_train_score                                     0.355556   \n",
              "mean_train_score                                       0.366092   \n",
              "std_train_score                                        0.005581   \n",
              "\n",
              "                                                            13  \\\n",
              "mean_fit_time                                         0.000714   \n",
              "std_fit_time                                          0.000011   \n",
              "mean_score_time                                       0.000343   \n",
              "std_score_time                                        0.000025   \n",
              "param_C                                                    0.1   \n",
              "param_gamma                                               0.01   \n",
              "param_kernel                                               rbf   \n",
              "params              {'C': 0.1, 'gamma': 0.01, 'kernel': 'rbf'}   \n",
              "split0_test_score                                     0.695652   \n",
              "split1_test_score                                     0.695652   \n",
              "split2_test_score                                     0.681818   \n",
              "split3_test_score                                     0.681818   \n",
              "split4_test_score                                     0.727273   \n",
              "mean_test_score                                       0.696443   \n",
              "std_test_score                                         0.01661   \n",
              "rank_test_score                                             22   \n",
              "split0_train_score                                    0.696629   \n",
              "split1_train_score                                    0.696629   \n",
              "split2_train_score                                         0.7   \n",
              "split3_train_score                                         0.7   \n",
              "split4_train_score                                    0.688889   \n",
              "mean_train_score                                      0.696429   \n",
              "std_train_score                                        0.00406   \n",
              "\n",
              "                                                           14  \\\n",
              "mean_fit_time                                        0.000652   \n",
              "std_fit_time                                         0.000026   \n",
              "mean_score_time                                      0.000318   \n",
              "std_score_time                                       0.000009   \n",
              "param_C                                                   0.1   \n",
              "param_gamma                                               0.1   \n",
              "param_kernel                                              rbf   \n",
              "params              {'C': 0.1, 'gamma': 0.1, 'kernel': 'rbf'}   \n",
              "split0_test_score                                    0.913043   \n",
              "split1_test_score                                    0.913043   \n",
              "split2_test_score                                    0.909091   \n",
              "split3_test_score                                    0.863636   \n",
              "split4_test_score                                    0.909091   \n",
              "mean_test_score                                      0.901581   \n",
              "std_test_score                                       0.019054   \n",
              "rank_test_score                                            20   \n",
              "split0_train_score                                   0.898876   \n",
              "split1_train_score                                   0.932584   \n",
              "split2_train_score                                   0.877778   \n",
              "split3_train_score                                   0.888889   \n",
              "split4_train_score                                   0.933333   \n",
              "mean_train_score                                     0.906292   \n",
              "std_train_score                                      0.022775   \n",
              "\n",
              "                                                         15  \\\n",
              "mean_fit_time                                      0.000775   \n",
              "std_fit_time                                       0.000161   \n",
              "mean_score_time                                    0.000312   \n",
              "std_score_time                                     0.000014   \n",
              "param_C                                                 0.1   \n",
              "param_gamma                                               1   \n",
              "param_kernel                                            rbf   \n",
              "params              {'C': 0.1, 'gamma': 1, 'kernel': 'rbf'}   \n",
              "split0_test_score                                       1.0   \n",
              "split1_test_score                                  0.913043   \n",
              "split2_test_score                                       1.0   \n",
              "split3_test_score                                  0.909091   \n",
              "split4_test_score                                  0.954545   \n",
              "mean_test_score                                    0.955336   \n",
              "std_test_score                                     0.039794   \n",
              "rank_test_score                                           8   \n",
              "split0_train_score                                  0.94382   \n",
              "split1_train_score                                 0.977528   \n",
              "split2_train_score                                 0.944444   \n",
              "split3_train_score                                 0.966667   \n",
              "split4_train_score                                 0.955556   \n",
              "mean_train_score                                   0.957603   \n",
              "std_train_score                                    0.013011   \n",
              "\n",
              "                                                          16  \\\n",
              "mean_fit_time                                       0.000753   \n",
              "std_fit_time                                        0.000006   \n",
              "mean_score_time                                     0.000333   \n",
              "std_score_time                                      0.000015   \n",
              "param_C                                                  0.1   \n",
              "param_gamma                                               10   \n",
              "param_kernel                                             rbf   \n",
              "params              {'C': 0.1, 'gamma': 10, 'kernel': 'rbf'}   \n",
              "split0_test_score                                   0.347826   \n",
              "split1_test_score                                   0.347826   \n",
              "split2_test_score                                   0.363636   \n",
              "split3_test_score                                   0.363636   \n",
              "split4_test_score                                   0.409091   \n",
              "mean_test_score                                     0.366403   \n",
              "std_test_score                                      0.022485   \n",
              "rank_test_score                                           27   \n",
              "split0_train_score                                  0.382022   \n",
              "split1_train_score                                  0.393258   \n",
              "split2_train_score                                  0.366667   \n",
              "split3_train_score                                       0.4   \n",
              "split4_train_score                                  0.355556   \n",
              "mean_train_score                                    0.379501   \n",
              "std_train_score                                     0.016456   \n",
              "\n",
              "                                                           17  \\\n",
              "mean_fit_time                                        0.000911   \n",
              "std_fit_time                                         0.000013   \n",
              "mean_score_time                                      0.000347   \n",
              "std_score_time                                       0.000009   \n",
              "param_C                                                   0.1   \n",
              "param_gamma                                               100   \n",
              "param_kernel                                              rbf   \n",
              "params              {'C': 0.1, 'gamma': 100, 'kernel': 'rbf'}   \n",
              "split0_test_score                                    0.347826   \n",
              "split1_test_score                                    0.347826   \n",
              "split2_test_score                                    0.363636   \n",
              "split3_test_score                                    0.363636   \n",
              "split4_test_score                                    0.409091   \n",
              "mean_test_score                                      0.366403   \n",
              "std_test_score                                       0.022485   \n",
              "rank_test_score                                            27   \n",
              "split0_train_score                                   0.370787   \n",
              "split1_train_score                                   0.370787   \n",
              "split2_train_score                                   0.366667   \n",
              "split3_train_score                                   0.366667   \n",
              "split4_train_score                                   0.355556   \n",
              "mean_train_score                                     0.366092   \n",
              "std_train_score                                      0.005581   \n",
              "\n",
              "                                                           18  \\\n",
              "mean_fit_time                                        0.000733   \n",
              "std_fit_time                                         0.000019   \n",
              "mean_score_time                                      0.000321   \n",
              "std_score_time                                       0.000012   \n",
              "param_C                                                     1   \n",
              "param_gamma                                             0.001   \n",
              "param_kernel                                              rbf   \n",
              "params              {'C': 1, 'gamma': 0.001, 'kernel': 'rbf'}   \n",
              "split0_test_score                                    0.695652   \n",
              "split1_test_score                                    0.695652   \n",
              "split2_test_score                                    0.681818   \n",
              "split3_test_score                                    0.681818   \n",
              "split4_test_score                                    0.727273   \n",
              "mean_test_score                                      0.696443   \n",
              "std_test_score                                        0.01661   \n",
              "rank_test_score                                            22   \n",
              "split0_train_score                                   0.696629   \n",
              "split1_train_score                                   0.696629   \n",
              "split2_train_score                                        0.7   \n",
              "split3_train_score                                        0.7   \n",
              "split4_train_score                                   0.688889   \n",
              "mean_train_score                                     0.696429   \n",
              "std_train_score                                       0.00406   \n",
              "\n",
              "                                                          19  \\\n",
              "mean_fit_time                                       0.000606   \n",
              "std_fit_time                                        0.000021   \n",
              "mean_score_time                                     0.000308   \n",
              "std_score_time                                      0.000013   \n",
              "param_C                                                    1   \n",
              "param_gamma                                             0.01   \n",
              "param_kernel                                             rbf   \n",
              "params              {'C': 1, 'gamma': 0.01, 'kernel': 'rbf'}   \n",
              "split0_test_score                                   0.913043   \n",
              "split1_test_score                                   0.913043   \n",
              "split2_test_score                                        1.0   \n",
              "split3_test_score                                   0.909091   \n",
              "split4_test_score                                   0.954545   \n",
              "mean_test_score                                     0.937945   \n",
              "std_test_score                                      0.035211   \n",
              "rank_test_score                                           15   \n",
              "split0_train_score                                   0.94382   \n",
              "split1_train_score                                  0.932584   \n",
              "split2_train_score                                  0.922222   \n",
              "split3_train_score                                  0.944444   \n",
              "split4_train_score                                  0.933333   \n",
              "mean_train_score                                    0.935281   \n",
              "std_train_score                                     0.008228   \n",
              "\n",
              "                                                         20  \\\n",
              "mean_fit_time                                      0.000474   \n",
              "std_fit_time                                       0.000007   \n",
              "mean_score_time                                    0.000265   \n",
              "std_score_time                                     0.000011   \n",
              "param_C                                                   1   \n",
              "param_gamma                                             0.1   \n",
              "param_kernel                                            rbf   \n",
              "params              {'C': 1, 'gamma': 0.1, 'kernel': 'rbf'}   \n",
              "split0_test_score                                       1.0   \n",
              "split1_test_score                                  0.956522   \n",
              "split2_test_score                                       1.0   \n",
              "split3_test_score                                  0.909091   \n",
              "split4_test_score                                  0.954545   \n",
              "mean_test_score                                    0.964032   \n",
              "std_test_score                                     0.033918   \n",
              "rank_test_score                                           5   \n",
              "split0_train_score                                 0.977528   \n",
              "split1_train_score                                 0.966292   \n",
              "split2_train_score                                 0.966667   \n",
              "split3_train_score                                 0.977778   \n",
              "split4_train_score                                 0.977778   \n",
              "mean_train_score                                   0.973208   \n",
              "std_train_score                                    0.005496   \n",
              "\n",
              "                                                       21  \\\n",
              "mean_fit_time                                    0.000656   \n",
              "std_fit_time                                     0.000093   \n",
              "mean_score_time                                  0.000322   \n",
              "std_score_time                                   0.000066   \n",
              "param_C                                                 1   \n",
              "param_gamma                                             1   \n",
              "param_kernel                                          rbf   \n",
              "params              {'C': 1, 'gamma': 1, 'kernel': 'rbf'}   \n",
              "split0_test_score                                0.956522   \n",
              "split1_test_score                                0.913043   \n",
              "split2_test_score                                     1.0   \n",
              "split3_test_score                                0.909091   \n",
              "split4_test_score                                0.954545   \n",
              "mean_test_score                                   0.94664   \n",
              "std_test_score                                   0.033305   \n",
              "rank_test_score                                        12   \n",
              "split0_train_score                               0.977528   \n",
              "split1_train_score                                    1.0   \n",
              "split2_train_score                               0.977778   \n",
              "split3_train_score                                    1.0   \n",
              "split4_train_score                               0.977778   \n",
              "mean_train_score                                 0.986617   \n",
              "std_train_score                                  0.010928   \n",
              "\n",
              "                                                        22  \\\n",
              "mean_fit_time                                     0.001113   \n",
              "std_fit_time                                      0.000236   \n",
              "mean_score_time                                   0.000399   \n",
              "std_score_time                                    0.000077   \n",
              "param_C                                                  1   \n",
              "param_gamma                                             10   \n",
              "param_kernel                                           rbf   \n",
              "params              {'C': 1, 'gamma': 10, 'kernel': 'rbf'}   \n",
              "split0_test_score                                 0.913043   \n",
              "split1_test_score                                 0.956522   \n",
              "split2_test_score                                      1.0   \n",
              "split3_test_score                                 0.818182   \n",
              "split4_test_score                                 0.954545   \n",
              "mean_test_score                                   0.928458   \n",
              "std_test_score                                     0.06162   \n",
              "rank_test_score                                         17   \n",
              "split0_train_score                                     1.0   \n",
              "split1_train_score                                     1.0   \n",
              "split2_train_score                                     1.0   \n",
              "split3_train_score                                     1.0   \n",
              "split4_train_score                                     1.0   \n",
              "mean_train_score                                       1.0   \n",
              "std_train_score                                        0.0   \n",
              "\n",
              "                                                         23  \\\n",
              "mean_fit_time                                      0.001016   \n",
              "std_fit_time                                       0.000017   \n",
              "mean_score_time                                    0.000352   \n",
              "std_score_time                                     0.000007   \n",
              "param_C                                                   1   \n",
              "param_gamma                                             100   \n",
              "param_kernel                                            rbf   \n",
              "params              {'C': 1, 'gamma': 100, 'kernel': 'rbf'}   \n",
              "split0_test_score                                  0.391304   \n",
              "split1_test_score                                  0.434783   \n",
              "split2_test_score                                  0.545455   \n",
              "split3_test_score                                       0.5   \n",
              "split4_test_score                                  0.636364   \n",
              "mean_test_score                                    0.501581   \n",
              "std_test_score                                     0.085693   \n",
              "rank_test_score                                          26   \n",
              "split0_train_score                                      1.0   \n",
              "split1_train_score                                      1.0   \n",
              "split2_train_score                                      1.0   \n",
              "split3_train_score                                      1.0   \n",
              "split4_train_score                                      1.0   \n",
              "mean_train_score                                        1.0   \n",
              "std_train_score                                         0.0   \n",
              "\n",
              "                                                            24  \\\n",
              "mean_fit_time                                          0.00062   \n",
              "std_fit_time                                          0.000078   \n",
              "mean_score_time                                       0.000313   \n",
              "std_score_time                                         0.00003   \n",
              "param_C                                                     10   \n",
              "param_gamma                                              0.001   \n",
              "param_kernel                                               rbf   \n",
              "params              {'C': 10, 'gamma': 0.001, 'kernel': 'rbf'}   \n",
              "split0_test_score                                     0.913043   \n",
              "split1_test_score                                     0.913043   \n",
              "split2_test_score                                          1.0   \n",
              "split3_test_score                                     0.909091   \n",
              "split4_test_score                                     0.954545   \n",
              "mean_test_score                                       0.937945   \n",
              "std_test_score                                        0.035211   \n",
              "rank_test_score                                             15   \n",
              "split0_train_score                                     0.94382   \n",
              "split1_train_score                                    0.932584   \n",
              "split2_train_score                                    0.922222   \n",
              "split3_train_score                                    0.933333   \n",
              "split4_train_score                                    0.933333   \n",
              "mean_train_score                                      0.933059   \n",
              "std_train_score                                       0.006835   \n",
              "\n",
              "                                                           25  \\\n",
              "mean_fit_time                                        0.000476   \n",
              "std_fit_time                                         0.000024   \n",
              "mean_score_time                                      0.000281   \n",
              "std_score_time                                       0.000004   \n",
              "param_C                                                    10   \n",
              "param_gamma                                              0.01   \n",
              "param_kernel                                              rbf   \n",
              "params              {'C': 10, 'gamma': 0.01, 'kernel': 'rbf'}   \n",
              "split0_test_score                                         1.0   \n",
              "split1_test_score                                    0.956522   \n",
              "split2_test_score                                         1.0   \n",
              "split3_test_score                                    0.909091   \n",
              "split4_test_score                                    0.954545   \n",
              "mean_test_score                                      0.964032   \n",
              "std_test_score                                       0.033918   \n",
              "rank_test_score                                             5   \n",
              "split0_train_score                                   0.977528   \n",
              "split1_train_score                                   0.977528   \n",
              "split2_train_score                                   0.966667   \n",
              "split3_train_score                                   0.988889   \n",
              "split4_train_score                                   0.977778   \n",
              "mean_train_score                                     0.977678   \n",
              "std_train_score                                      0.007028   \n",
              "\n",
              "                                                          26  \\\n",
              "mean_fit_time                                       0.000477   \n",
              "std_fit_time                                        0.000014   \n",
              "mean_score_time                                     0.000285   \n",
              "std_score_time                                      0.000055   \n",
              "param_C                                                   10   \n",
              "param_gamma                                              0.1   \n",
              "param_kernel                                             rbf   \n",
              "params              {'C': 10, 'gamma': 0.1, 'kernel': 'rbf'}   \n",
              "split0_test_score                                        1.0   \n",
              "split1_test_score                                   0.956522   \n",
              "split2_test_score                                        1.0   \n",
              "split3_test_score                                   0.954545   \n",
              "split4_test_score                                   0.954545   \n",
              "mean_test_score                                     0.973123   \n",
              "std_test_score                                      0.021957   \n",
              "rank_test_score                                            1   \n",
              "split0_train_score                                  0.988764   \n",
              "split1_train_score                                  0.988764   \n",
              "split2_train_score                                  0.977778   \n",
              "split3_train_score                                  0.988889   \n",
              "split4_train_score                                       1.0   \n",
              "mean_train_score                                    0.988839   \n",
              "std_train_score                                     0.007028   \n",
              "\n",
              "                                                        27  \\\n",
              "mean_fit_time                                     0.000563   \n",
              "std_fit_time                                      0.000004   \n",
              "mean_score_time                                   0.000263   \n",
              "std_score_time                                     0.00001   \n",
              "param_C                                                 10   \n",
              "param_gamma                                              1   \n",
              "param_kernel                                           rbf   \n",
              "params              {'C': 10, 'gamma': 1, 'kernel': 'rbf'}   \n",
              "split0_test_score                                 0.956522   \n",
              "split1_test_score                                 0.956522   \n",
              "split2_test_score                                      1.0   \n",
              "split3_test_score                                 0.863636   \n",
              "split4_test_score                                 0.954545   \n",
              "mean_test_score                                   0.946245   \n",
              "std_test_score                                    0.044708   \n",
              "rank_test_score                                         13   \n",
              "split0_train_score                                0.988764   \n",
              "split1_train_score                                0.988764   \n",
              "split2_train_score                                0.977778   \n",
              "split3_train_score                                     1.0   \n",
              "split4_train_score                                0.988889   \n",
              "mean_train_score                                  0.988839   \n",
              "std_train_score                                   0.007028   \n",
              "\n",
              "                                                         28  \\\n",
              "mean_fit_time                                      0.000912   \n",
              "std_fit_time                                       0.000034   \n",
              "mean_score_time                                    0.000312   \n",
              "std_score_time                                     0.000006   \n",
              "param_C                                                  10   \n",
              "param_gamma                                              10   \n",
              "param_kernel                                            rbf   \n",
              "params              {'C': 10, 'gamma': 10, 'kernel': 'rbf'}   \n",
              "split0_test_score                                  0.869565   \n",
              "split1_test_score                                  0.913043   \n",
              "split2_test_score                                       1.0   \n",
              "split3_test_score                                  0.818182   \n",
              "split4_test_score                                  0.954545   \n",
              "mean_test_score                                    0.911067   \n",
              "std_test_score                                     0.063488   \n",
              "rank_test_score                                          18   \n",
              "split0_train_score                                      1.0   \n",
              "split1_train_score                                      1.0   \n",
              "split2_train_score                                      1.0   \n",
              "split3_train_score                                      1.0   \n",
              "split4_train_score                                      1.0   \n",
              "mean_train_score                                        1.0   \n",
              "std_train_score                                         0.0   \n",
              "\n",
              "                                                          29  \\\n",
              "mean_fit_time                                       0.001046   \n",
              "std_fit_time                                        0.000036   \n",
              "mean_score_time                                     0.000359   \n",
              "std_score_time                                      0.000011   \n",
              "param_C                                                   10   \n",
              "param_gamma                                              100   \n",
              "param_kernel                                             rbf   \n",
              "params              {'C': 10, 'gamma': 100, 'kernel': 'rbf'}   \n",
              "split0_test_score                                   0.521739   \n",
              "split1_test_score                                   0.521739   \n",
              "split2_test_score                                   0.590909   \n",
              "split3_test_score                                   0.590909   \n",
              "split4_test_score                                   0.681818   \n",
              "mean_test_score                                     0.581423   \n",
              "std_test_score                                      0.058964   \n",
              "rank_test_score                                           24   \n",
              "split0_train_score                                       1.0   \n",
              "split1_train_score                                       1.0   \n",
              "split2_train_score                                       1.0   \n",
              "split3_train_score                                       1.0   \n",
              "split4_train_score                                       1.0   \n",
              "mean_train_score                                         1.0   \n",
              "std_train_score                                          0.0   \n",
              "\n",
              "                                                             30  \\\n",
              "mean_fit_time                                          0.000484   \n",
              "std_fit_time                                           0.000016   \n",
              "mean_score_time                                        0.000266   \n",
              "std_score_time                                          0.00001   \n",
              "param_C                                                     100   \n",
              "param_gamma                                               0.001   \n",
              "param_kernel                                                rbf   \n",
              "params              {'C': 100, 'gamma': 0.001, 'kernel': 'rbf'}   \n",
              "split0_test_score                                           1.0   \n",
              "split1_test_score                                      0.956522   \n",
              "split2_test_score                                           1.0   \n",
              "split3_test_score                                      0.909091   \n",
              "split4_test_score                                      0.954545   \n",
              "mean_test_score                                        0.964032   \n",
              "std_test_score                                         0.033918   \n",
              "rank_test_score                                               5   \n",
              "split0_train_score                                     0.977528   \n",
              "split1_train_score                                     0.977528   \n",
              "split2_train_score                                     0.966667   \n",
              "split3_train_score                                     0.988889   \n",
              "split4_train_score                                     0.977778   \n",
              "mean_train_score                                       0.977678   \n",
              "std_train_score                                        0.007028   \n",
              "\n",
              "                                                            31  \\\n",
              "mean_fit_time                                         0.000451   \n",
              "std_fit_time                                          0.000011   \n",
              "mean_score_time                                       0.000246   \n",
              "std_score_time                                        0.000009   \n",
              "param_C                                                    100   \n",
              "param_gamma                                               0.01   \n",
              "param_kernel                                               rbf   \n",
              "params              {'C': 100, 'gamma': 0.01, 'kernel': 'rbf'}   \n",
              "split0_test_score                                          1.0   \n",
              "split1_test_score                                     0.913043   \n",
              "split2_test_score                                          1.0   \n",
              "split3_test_score                                     0.954545   \n",
              "split4_test_score                                     0.954545   \n",
              "mean_test_score                                       0.964427   \n",
              "std_test_score                                        0.032761   \n",
              "rank_test_score                                              4   \n",
              "split0_train_score                                    0.988764   \n",
              "split1_train_score                                    0.988764   \n",
              "split2_train_score                                    0.977778   \n",
              "split3_train_score                                    0.988889   \n",
              "split4_train_score                                    0.988889   \n",
              "mean_train_score                                      0.986617   \n",
              "std_train_score                                        0.00442   \n",
              "\n",
              "                                                           32  \\\n",
              "mean_fit_time                                        0.000554   \n",
              "std_fit_time                                         0.000201   \n",
              "mean_score_time                                      0.000267   \n",
              "std_score_time                                       0.000045   \n",
              "param_C                                                   100   \n",
              "param_gamma                                               0.1   \n",
              "param_kernel                                              rbf   \n",
              "params              {'C': 100, 'gamma': 0.1, 'kernel': 'rbf'}   \n",
              "split0_test_score                                         1.0   \n",
              "split1_test_score                                    0.956522   \n",
              "split2_test_score                                         1.0   \n",
              "split3_test_score                                    0.863636   \n",
              "split4_test_score                                    0.954545   \n",
              "mean_test_score                                      0.954941   \n",
              "std_test_score                                       0.049799   \n",
              "rank_test_score                                            11   \n",
              "split0_train_score                                   0.988764   \n",
              "split1_train_score                                   0.988764   \n",
              "split2_train_score                                   0.977778   \n",
              "split3_train_score                                        1.0   \n",
              "split4_train_score                                        1.0   \n",
              "mean_train_score                                     0.991061   \n",
              "std_train_score                                      0.008328   \n",
              "\n",
              "                                                         33  \\\n",
              "mean_fit_time                                      0.000565   \n",
              "std_fit_time                                       0.000023   \n",
              "mean_score_time                                     0.00026   \n",
              "std_score_time                                     0.000004   \n",
              "param_C                                                 100   \n",
              "param_gamma                                               1   \n",
              "param_kernel                                            rbf   \n",
              "params              {'C': 100, 'gamma': 1, 'kernel': 'rbf'}   \n",
              "split0_test_score                                  0.956522   \n",
              "split1_test_score                                  0.956522   \n",
              "split2_test_score                                       1.0   \n",
              "split3_test_score                                  0.863636   \n",
              "split4_test_score                                  0.954545   \n",
              "mean_test_score                                    0.946245   \n",
              "std_test_score                                     0.044708   \n",
              "rank_test_score                                          13   \n",
              "split0_train_score                                      1.0   \n",
              "split1_train_score                                      1.0   \n",
              "split2_train_score                                      1.0   \n",
              "split3_train_score                                      1.0   \n",
              "split4_train_score                                      1.0   \n",
              "mean_train_score                                        1.0   \n",
              "std_train_score                                         0.0   \n",
              "\n",
              "                                                          34  \\\n",
              "mean_fit_time                                       0.000856   \n",
              "std_fit_time                                        0.000024   \n",
              "mean_score_time                                     0.000287   \n",
              "std_score_time                                      0.000004   \n",
              "param_C                                                  100   \n",
              "param_gamma                                               10   \n",
              "param_kernel                                             rbf   \n",
              "params              {'C': 100, 'gamma': 10, 'kernel': 'rbf'}   \n",
              "split0_test_score                                   0.869565   \n",
              "split1_test_score                                   0.913043   \n",
              "split2_test_score                                        1.0   \n",
              "split3_test_score                                   0.818182   \n",
              "split4_test_score                                   0.954545   \n",
              "mean_test_score                                     0.911067   \n",
              "std_test_score                                      0.063488   \n",
              "rank_test_score                                           18   \n",
              "split0_train_score                                       1.0   \n",
              "split1_train_score                                       1.0   \n",
              "split2_train_score                                       1.0   \n",
              "split3_train_score                                       1.0   \n",
              "split4_train_score                                       1.0   \n",
              "mean_train_score                                         1.0   \n",
              "std_train_score                                          0.0   \n",
              "\n",
              "                                                           35  \\\n",
              "mean_fit_time                                        0.000962   \n",
              "std_fit_time                                         0.000025   \n",
              "mean_score_time                                      0.000338   \n",
              "std_score_time                                        0.00002   \n",
              "param_C                                                   100   \n",
              "param_gamma                                               100   \n",
              "param_kernel                                              rbf   \n",
              "params              {'C': 100, 'gamma': 100, 'kernel': 'rbf'}   \n",
              "split0_test_score                                    0.521739   \n",
              "split1_test_score                                    0.521739   \n",
              "split2_test_score                                    0.590909   \n",
              "split3_test_score                                    0.590909   \n",
              "split4_test_score                                    0.681818   \n",
              "mean_test_score                                      0.581423   \n",
              "std_test_score                                       0.058964   \n",
              "rank_test_score                                            24   \n",
              "split0_train_score                                        1.0   \n",
              "split1_train_score                                        1.0   \n",
              "split2_train_score                                        1.0   \n",
              "split3_train_score                                        1.0   \n",
              "split4_train_score                                        1.0   \n",
              "mean_train_score                                          1.0   \n",
              "std_train_score                                           0.0   \n",
              "\n",
              "                                                  36  \\\n",
              "mean_fit_time                               0.000604   \n",
              "std_fit_time                                0.000011   \n",
              "mean_score_time                             0.000241   \n",
              "std_score_time                              0.000003   \n",
              "param_C                                        0.001   \n",
              "param_gamma                                      NaN   \n",
              "param_kernel                                  linear   \n",
              "params              {'C': 0.001, 'kernel': 'linear'}   \n",
              "split0_test_score                           0.347826   \n",
              "split1_test_score                           0.347826   \n",
              "split2_test_score                           0.363636   \n",
              "split3_test_score                           0.363636   \n",
              "split4_test_score                           0.409091   \n",
              "mean_test_score                             0.366403   \n",
              "std_test_score                              0.022485   \n",
              "rank_test_score                                   27   \n",
              "split0_train_score                          0.370787   \n",
              "split1_train_score                          0.370787   \n",
              "split2_train_score                          0.366667   \n",
              "split3_train_score                          0.366667   \n",
              "split4_train_score                          0.355556   \n",
              "mean_train_score                            0.366092   \n",
              "std_train_score                             0.005581   \n",
              "\n",
              "                                                 37  \\\n",
              "mean_fit_time                              0.000537   \n",
              "std_fit_time                               0.000008   \n",
              "mean_score_time                             0.00024   \n",
              "std_score_time                             0.000006   \n",
              "param_C                                        0.01   \n",
              "param_gamma                                     NaN   \n",
              "param_kernel                                 linear   \n",
              "params              {'C': 0.01, 'kernel': 'linear'}   \n",
              "split0_test_score                          0.869565   \n",
              "split1_test_score                          0.869565   \n",
              "split2_test_score                          0.772727   \n",
              "split3_test_score                          0.772727   \n",
              "split4_test_score                          0.909091   \n",
              "mean_test_score                            0.838735   \n",
              "std_test_score                             0.055794   \n",
              "rank_test_score                                  21   \n",
              "split0_train_score                         0.853933   \n",
              "split1_train_score                         0.910112   \n",
              "split2_train_score                         0.844444   \n",
              "split3_train_score                         0.766667   \n",
              "split4_train_score                         0.877778   \n",
              "mean_train_score                           0.850587   \n",
              "std_train_score                            0.047695   \n",
              "\n",
              "                                                38  \\\n",
              "mean_fit_time                             0.000793   \n",
              "std_fit_time                               0.00043   \n",
              "mean_score_time                           0.000371   \n",
              "std_score_time                            0.000223   \n",
              "param_C                                        0.1   \n",
              "param_gamma                                    NaN   \n",
              "param_kernel                                linear   \n",
              "params              {'C': 0.1, 'kernel': 'linear'}   \n",
              "split0_test_score                              1.0   \n",
              "split1_test_score                         0.913043   \n",
              "split2_test_score                              1.0   \n",
              "split3_test_score                         0.909091   \n",
              "split4_test_score                         0.954545   \n",
              "mean_test_score                           0.955336   \n",
              "std_test_score                            0.039794   \n",
              "rank_test_score                                  8   \n",
              "split0_train_score                        0.966292   \n",
              "split1_train_score                        0.966292   \n",
              "split2_train_score                        0.944444   \n",
              "split3_train_score                        0.966667   \n",
              "split4_train_score                        0.966667   \n",
              "mean_train_score                          0.962072   \n",
              "std_train_score                           0.008816   \n",
              "\n",
              "                                              39  \\\n",
              "mean_fit_time                           0.000458   \n",
              "std_fit_time                            0.000032   \n",
              "mean_score_time                         0.000223   \n",
              "std_score_time                          0.000006   \n",
              "param_C                                        1   \n",
              "param_gamma                                  NaN   \n",
              "param_kernel                              linear   \n",
              "params              {'C': 1, 'kernel': 'linear'}   \n",
              "split0_test_score                            1.0   \n",
              "split1_test_score                       0.956522   \n",
              "split2_test_score                            1.0   \n",
              "split3_test_score                       0.954545   \n",
              "split4_test_score                       0.954545   \n",
              "mean_test_score                         0.973123   \n",
              "std_test_score                          0.021957   \n",
              "rank_test_score                                1   \n",
              "split0_train_score                      0.988764   \n",
              "split1_train_score                      0.977528   \n",
              "split2_train_score                      0.977778   \n",
              "split3_train_score                      0.988889   \n",
              "split4_train_score                      0.988889   \n",
              "mean_train_score                         0.98437   \n",
              "std_train_score                         0.005485   \n",
              "\n",
              "                                               40  \\\n",
              "mean_fit_time                            0.000447   \n",
              "std_fit_time                             0.000022   \n",
              "mean_score_time                          0.000222   \n",
              "std_score_time                           0.000009   \n",
              "param_C                                        10   \n",
              "param_gamma                                   NaN   \n",
              "param_kernel                               linear   \n",
              "params              {'C': 10, 'kernel': 'linear'}   \n",
              "split0_test_score                             1.0   \n",
              "split1_test_score                             1.0   \n",
              "split2_test_score                             1.0   \n",
              "split3_test_score                        0.909091   \n",
              "split4_test_score                        0.954545   \n",
              "mean_test_score                          0.972727   \n",
              "std_test_score                           0.036364   \n",
              "rank_test_score                                 3   \n",
              "split0_train_score                       0.988764   \n",
              "split1_train_score                       0.988764   \n",
              "split2_train_score                       0.977778   \n",
              "split3_train_score                       0.988889   \n",
              "split4_train_score                            1.0   \n",
              "mean_train_score                         0.988839   \n",
              "std_train_score                          0.007028   \n",
              "\n",
              "                                                41  \n",
              "mean_fit_time                              0.00044  \n",
              "std_fit_time                               0.00003  \n",
              "mean_score_time                           0.000222  \n",
              "std_score_time                             0.00001  \n",
              "param_C                                        100  \n",
              "param_gamma                                    NaN  \n",
              "param_kernel                                linear  \n",
              "params              {'C': 100, 'kernel': 'linear'}  \n",
              "split0_test_score                         0.956522  \n",
              "split1_test_score                         0.956522  \n",
              "split2_test_score                              1.0  \n",
              "split3_test_score                         0.909091  \n",
              "split4_test_score                         0.954545  \n",
              "mean_test_score                           0.955336  \n",
              "std_test_score                            0.028764  \n",
              "rank_test_score                                  8  \n",
              "split0_train_score                        0.977528  \n",
              "split1_train_score                        0.988764  \n",
              "split2_train_score                        0.988889  \n",
              "split3_train_score                             1.0  \n",
              "split4_train_score                             1.0  \n",
              "mean_train_score                          0.991036  \n",
              "std_train_score                           0.008402  "
            ],
            "text/html": [
              "\n",
              "  <div id=\"df-52fe960c-8473-48c5-9841-a88f1335034e\">\n",
              "    <div class=\"colab-df-container\">\n",
              "      <div>\n",
              "<style scoped>\n",
              "    .dataframe tbody tr th:only-of-type {\n",
              "        vertical-align: middle;\n",
              "    }\n",
              "\n",
              "    .dataframe tbody tr th {\n",
              "        vertical-align: top;\n",
              "    }\n",
              "\n",
              "    .dataframe thead th {\n",
              "        text-align: right;\n",
              "    }\n",
              "</style>\n",
              "<table border=\"1\" class=\"dataframe\">\n",
              "  <thead>\n",
              "    <tr style=\"text-align: right;\">\n",
              "      <th></th>\n",
              "      <th>0</th>\n",
              "      <th>1</th>\n",
              "      <th>2</th>\n",
              "      <th>3</th>\n",
              "      <th>4</th>\n",
              "      <th>5</th>\n",
              "      <th>6</th>\n",
              "      <th>7</th>\n",
              "      <th>8</th>\n",
              "      <th>9</th>\n",
              "      <th>10</th>\n",
              "      <th>11</th>\n",
              "      <th>12</th>\n",
              "      <th>13</th>\n",
              "      <th>14</th>\n",
              "      <th>15</th>\n",
              "      <th>16</th>\n",
              "      <th>17</th>\n",
              "      <th>18</th>\n",
              "      <th>19</th>\n",
              "      <th>20</th>\n",
              "      <th>21</th>\n",
              "      <th>22</th>\n",
              "      <th>23</th>\n",
              "      <th>24</th>\n",
              "      <th>25</th>\n",
              "      <th>26</th>\n",
              "      <th>27</th>\n",
              "      <th>28</th>\n",
              "      <th>29</th>\n",
              "      <th>30</th>\n",
              "      <th>31</th>\n",
              "      <th>32</th>\n",
              "      <th>33</th>\n",
              "      <th>34</th>\n",
              "      <th>35</th>\n",
              "      <th>36</th>\n",
              "      <th>37</th>\n",
              "      <th>38</th>\n",
              "      <th>39</th>\n",
              "      <th>40</th>\n",
              "      <th>41</th>\n",
              "    </tr>\n",
              "  </thead>\n",
              "  <tbody>\n",
              "    <tr>\n",
              "      <th>mean_fit_time</th>\n",
              "      <td>0.001049</td>\n",
              "      <td>0.000683</td>\n",
              "      <td>0.000695</td>\n",
              "      <td>0.000702</td>\n",
              "      <td>0.000703</td>\n",
              "      <td>0.000789</td>\n",
              "      <td>0.000721</td>\n",
              "      <td>0.000699</td>\n",
              "      <td>0.0007</td>\n",
              "      <td>0.000683</td>\n",
              "      <td>0.000718</td>\n",
              "      <td>0.000847</td>\n",
              "      <td>0.000778</td>\n",
              "      <td>0.000714</td>\n",
              "      <td>0.000652</td>\n",
              "      <td>0.000775</td>\n",
              "      <td>0.000753</td>\n",
              "      <td>0.000911</td>\n",
              "      <td>0.000733</td>\n",
              "      <td>0.000606</td>\n",
              "      <td>0.000474</td>\n",
              "      <td>0.000656</td>\n",
              "      <td>0.001113</td>\n",
              "      <td>0.001016</td>\n",
              "      <td>0.00062</td>\n",
              "      <td>0.000476</td>\n",
              "      <td>0.000477</td>\n",
              "      <td>0.000563</td>\n",
              "      <td>0.000912</td>\n",
              "      <td>0.001046</td>\n",
              "      <td>0.000484</td>\n",
              "      <td>0.000451</td>\n",
              "      <td>0.000554</td>\n",
              "      <td>0.000565</td>\n",
              "      <td>0.000856</td>\n",
              "      <td>0.000962</td>\n",
              "      <td>0.000604</td>\n",
              "      <td>0.000537</td>\n",
              "      <td>0.000793</td>\n",
              "      <td>0.000458</td>\n",
              "      <td>0.000447</td>\n",
              "      <td>0.00044</td>\n",
              "    </tr>\n",
              "    <tr>\n",
              "      <th>std_fit_time</th>\n",
              "      <td>0.000372</td>\n",
              "      <td>0.000017</td>\n",
              "      <td>0.000027</td>\n",
              "      <td>0.000018</td>\n",
              "      <td>0.000031</td>\n",
              "      <td>0.000004</td>\n",
              "      <td>0.000062</td>\n",
              "      <td>0.000018</td>\n",
              "      <td>0.00002</td>\n",
              "      <td>0.000008</td>\n",
              "      <td>0.000009</td>\n",
              "      <td>0.000017</td>\n",
              "      <td>0.000099</td>\n",
              "      <td>0.000011</td>\n",
              "      <td>0.000026</td>\n",
              "      <td>0.000161</td>\n",
              "      <td>0.000006</td>\n",
              "      <td>0.000013</td>\n",
              "      <td>0.000019</td>\n",
              "      <td>0.000021</td>\n",
              "      <td>0.000007</td>\n",
              "      <td>0.000093</td>\n",
              "      <td>0.000236</td>\n",
              "      <td>0.000017</td>\n",
              "      <td>0.000078</td>\n",
              "      <td>0.000024</td>\n",
              "      <td>0.000014</td>\n",
              "      <td>0.000004</td>\n",
              "      <td>0.000034</td>\n",
              "      <td>0.000036</td>\n",
              "      <td>0.000016</td>\n",
              "      <td>0.000011</td>\n",
              "      <td>0.000201</td>\n",
              "      <td>0.000023</td>\n",
              "      <td>0.000024</td>\n",
              "      <td>0.000025</td>\n",
              "      <td>0.000011</td>\n",
              "      <td>0.000008</td>\n",
              "      <td>0.00043</td>\n",
              "      <td>0.000032</td>\n",
              "      <td>0.000022</td>\n",
              "      <td>0.00003</td>\n",
              "    </tr>\n",
              "    <tr>\n",
              "      <th>mean_score_time</th>\n",
              "      <td>0.000386</td>\n",
              "      <td>0.00031</td>\n",
              "      <td>0.000324</td>\n",
              "      <td>0.000304</td>\n",
              "      <td>0.000312</td>\n",
              "      <td>0.00033</td>\n",
              "      <td>0.000313</td>\n",
              "      <td>0.000315</td>\n",
              "      <td>0.000308</td>\n",
              "      <td>0.000313</td>\n",
              "      <td>0.000307</td>\n",
              "      <td>0.000362</td>\n",
              "      <td>0.000358</td>\n",
              "      <td>0.000343</td>\n",
              "      <td>0.000318</td>\n",
              "      <td>0.000312</td>\n",
              "      <td>0.000333</td>\n",
              "      <td>0.000347</td>\n",
              "      <td>0.000321</td>\n",
              "      <td>0.000308</td>\n",
              "      <td>0.000265</td>\n",
              "      <td>0.000322</td>\n",
              "      <td>0.000399</td>\n",
              "      <td>0.000352</td>\n",
              "      <td>0.000313</td>\n",
              "      <td>0.000281</td>\n",
              "      <td>0.000285</td>\n",
              "      <td>0.000263</td>\n",
              "      <td>0.000312</td>\n",
              "      <td>0.000359</td>\n",
              "      <td>0.000266</td>\n",
              "      <td>0.000246</td>\n",
              "      <td>0.000267</td>\n",
              "      <td>0.00026</td>\n",
              "      <td>0.000287</td>\n",
              "      <td>0.000338</td>\n",
              "      <td>0.000241</td>\n",
              "      <td>0.00024</td>\n",
              "      <td>0.000371</td>\n",
              "      <td>0.000223</td>\n",
              "      <td>0.000222</td>\n",
              "      <td>0.000222</td>\n",
              "    </tr>\n",
              "    <tr>\n",
              "      <th>std_score_time</th>\n",
              "      <td>0.000098</td>\n",
              "      <td>0.000014</td>\n",
              "      <td>0.000017</td>\n",
              "      <td>0.000003</td>\n",
              "      <td>0.000014</td>\n",
              "      <td>0.000011</td>\n",
              "      <td>0.000015</td>\n",
              "      <td>0.000015</td>\n",
              "      <td>0.00001</td>\n",
              "      <td>0.000012</td>\n",
              "      <td>0.000004</td>\n",
              "      <td>0.000041</td>\n",
              "      <td>0.000012</td>\n",
              "      <td>0.000025</td>\n",
              "      <td>0.000009</td>\n",
              "      <td>0.000014</td>\n",
              "      <td>0.000015</td>\n",
              "      <td>0.000009</td>\n",
              "      <td>0.000012</td>\n",
              "      <td>0.000013</td>\n",
              "      <td>0.000011</td>\n",
              "      <td>0.000066</td>\n",
              "      <td>0.000077</td>\n",
              "      <td>0.000007</td>\n",
              "      <td>0.00003</td>\n",
              "      <td>0.000004</td>\n",
              "      <td>0.000055</td>\n",
              "      <td>0.00001</td>\n",
              "      <td>0.000006</td>\n",
              "      <td>0.000011</td>\n",
              "      <td>0.00001</td>\n",
              "      <td>0.000009</td>\n",
              "      <td>0.000045</td>\n",
              "      <td>0.000004</td>\n",
              "      <td>0.000004</td>\n",
              "      <td>0.00002</td>\n",
              "      <td>0.000003</td>\n",
              "      <td>0.000006</td>\n",
              "      <td>0.000223</td>\n",
              "      <td>0.000006</td>\n",
              "      <td>0.000009</td>\n",
              "      <td>0.00001</td>\n",
              "    </tr>\n",
              "    <tr>\n",
              "      <th>param_C</th>\n",
              "      <td>0.001</td>\n",
              "      <td>0.001</td>\n",
              "      <td>0.001</td>\n",
              "      <td>0.001</td>\n",
              "      <td>0.001</td>\n",
              "      <td>0.001</td>\n",
              "      <td>0.01</td>\n",
              "      <td>0.01</td>\n",
              "      <td>0.01</td>\n",
              "      <td>0.01</td>\n",
              "      <td>0.01</td>\n",
              "      <td>0.01</td>\n",
              "      <td>0.1</td>\n",
              "      <td>0.1</td>\n",
              "      <td>0.1</td>\n",
              "      <td>0.1</td>\n",
              "      <td>0.1</td>\n",
              "      <td>0.1</td>\n",
              "      <td>1</td>\n",
              "      <td>1</td>\n",
              "      <td>1</td>\n",
              "      <td>1</td>\n",
              "      <td>1</td>\n",
              "      <td>1</td>\n",
              "      <td>10</td>\n",
              "      <td>10</td>\n",
              "      <td>10</td>\n",
              "      <td>10</td>\n",
              "      <td>10</td>\n",
              "      <td>10</td>\n",
              "      <td>100</td>\n",
              "      <td>100</td>\n",
              "      <td>100</td>\n",
              "      <td>100</td>\n",
              "      <td>100</td>\n",
              "      <td>100</td>\n",
              "      <td>0.001</td>\n",
              "      <td>0.01</td>\n",
              "      <td>0.1</td>\n",
              "      <td>1</td>\n",
              "      <td>10</td>\n",
              "      <td>100</td>\n",
              "    </tr>\n",
              "    <tr>\n",
              "      <th>param_gamma</th>\n",
              "      <td>0.001</td>\n",
              "      <td>0.01</td>\n",
              "      <td>0.1</td>\n",
              "      <td>1</td>\n",
              "      <td>10</td>\n",
              "      <td>100</td>\n",
              "      <td>0.001</td>\n",
              "      <td>0.01</td>\n",
              "      <td>0.1</td>\n",
              "      <td>1</td>\n",
              "      <td>10</td>\n",
              "      <td>100</td>\n",
              "      <td>0.001</td>\n",
              "      <td>0.01</td>\n",
              "      <td>0.1</td>\n",
              "      <td>1</td>\n",
              "      <td>10</td>\n",
              "      <td>100</td>\n",
              "      <td>0.001</td>\n",
              "      <td>0.01</td>\n",
              "      <td>0.1</td>\n",
              "      <td>1</td>\n",
              "      <td>10</td>\n",
              "      <td>100</td>\n",
              "      <td>0.001</td>\n",
              "      <td>0.01</td>\n",
              "      <td>0.1</td>\n",
              "      <td>1</td>\n",
              "      <td>10</td>\n",
              "      <td>100</td>\n",
              "      <td>0.001</td>\n",
              "      <td>0.01</td>\n",
              "      <td>0.1</td>\n",
              "      <td>1</td>\n",
              "      <td>10</td>\n",
              "      <td>100</td>\n",
              "      <td>NaN</td>\n",
              "      <td>NaN</td>\n",
              "      <td>NaN</td>\n",
              "      <td>NaN</td>\n",
              "      <td>NaN</td>\n",
              "      <td>NaN</td>\n",
              "    </tr>\n",
              "    <tr>\n",
              "      <th>param_kernel</th>\n",
              "      <td>rbf</td>\n",
              "      <td>rbf</td>\n",
              "      <td>rbf</td>\n",
              "      <td>rbf</td>\n",
              "      <td>rbf</td>\n",
              "      <td>rbf</td>\n",
              "      <td>rbf</td>\n",
              "      <td>rbf</td>\n",
              "      <td>rbf</td>\n",
              "      <td>rbf</td>\n",
              "      <td>rbf</td>\n",
              "      <td>rbf</td>\n",
              "      <td>rbf</td>\n",
              "      <td>rbf</td>\n",
              "      <td>rbf</td>\n",
              "      <td>rbf</td>\n",
              "      <td>rbf</td>\n",
              "      <td>rbf</td>\n",
              "      <td>rbf</td>\n",
              "      <td>rbf</td>\n",
              "      <td>rbf</td>\n",
              "      <td>rbf</td>\n",
              "      <td>rbf</td>\n",
              "      <td>rbf</td>\n",
              "      <td>rbf</td>\n",
              "      <td>rbf</td>\n",
              "      <td>rbf</td>\n",
              "      <td>rbf</td>\n",
              "      <td>rbf</td>\n",
              "      <td>rbf</td>\n",
              "      <td>rbf</td>\n",
              "      <td>rbf</td>\n",
              "      <td>rbf</td>\n",
              "      <td>rbf</td>\n",
              "      <td>rbf</td>\n",
              "      <td>rbf</td>\n",
              "      <td>linear</td>\n",
              "      <td>linear</td>\n",
              "      <td>linear</td>\n",
              "      <td>linear</td>\n",
              "      <td>linear</td>\n",
              "      <td>linear</td>\n",
              "    </tr>\n",
              "    <tr>\n",
              "      <th>params</th>\n",
              "      <td>{'C': 0.001, 'gamma': 0.001, 'kernel': 'rbf'}</td>\n",
              "      <td>{'C': 0.001, 'gamma': 0.01, 'kernel': 'rbf'}</td>\n",
              "      <td>{'C': 0.001, 'gamma': 0.1, 'kernel': 'rbf'}</td>\n",
              "      <td>{'C': 0.001, 'gamma': 1, 'kernel': 'rbf'}</td>\n",
              "      <td>{'C': 0.001, 'gamma': 10, 'kernel': 'rbf'}</td>\n",
              "      <td>{'C': 0.001, 'gamma': 100, 'kernel': 'rbf'}</td>\n",
              "      <td>{'C': 0.01, 'gamma': 0.001, 'kernel': 'rbf'}</td>\n",
              "      <td>{'C': 0.01, 'gamma': 0.01, 'kernel': 'rbf'}</td>\n",
              "      <td>{'C': 0.01, 'gamma': 0.1, 'kernel': 'rbf'}</td>\n",
              "      <td>{'C': 0.01, 'gamma': 1, 'kernel': 'rbf'}</td>\n",
              "      <td>{'C': 0.01, 'gamma': 10, 'kernel': 'rbf'}</td>\n",
              "      <td>{'C': 0.01, 'gamma': 100, 'kernel': 'rbf'}</td>\n",
              "      <td>{'C': 0.1, 'gamma': 0.001, 'kernel': 'rbf'}</td>\n",
              "      <td>{'C': 0.1, 'gamma': 0.01, 'kernel': 'rbf'}</td>\n",
              "      <td>{'C': 0.1, 'gamma': 0.1, 'kernel': 'rbf'}</td>\n",
              "      <td>{'C': 0.1, 'gamma': 1, 'kernel': 'rbf'}</td>\n",
              "      <td>{'C': 0.1, 'gamma': 10, 'kernel': 'rbf'}</td>\n",
              "      <td>{'C': 0.1, 'gamma': 100, 'kernel': 'rbf'}</td>\n",
              "      <td>{'C': 1, 'gamma': 0.001, 'kernel': 'rbf'}</td>\n",
              "      <td>{'C': 1, 'gamma': 0.01, 'kernel': 'rbf'}</td>\n",
              "      <td>{'C': 1, 'gamma': 0.1, 'kernel': 'rbf'}</td>\n",
              "      <td>{'C': 1, 'gamma': 1, 'kernel': 'rbf'}</td>\n",
              "      <td>{'C': 1, 'gamma': 10, 'kernel': 'rbf'}</td>\n",
              "      <td>{'C': 1, 'gamma': 100, 'kernel': 'rbf'}</td>\n",
              "      <td>{'C': 10, 'gamma': 0.001, 'kernel': 'rbf'}</td>\n",
              "      <td>{'C': 10, 'gamma': 0.01, 'kernel': 'rbf'}</td>\n",
              "      <td>{'C': 10, 'gamma': 0.1, 'kernel': 'rbf'}</td>\n",
              "      <td>{'C': 10, 'gamma': 1, 'kernel': 'rbf'}</td>\n",
              "      <td>{'C': 10, 'gamma': 10, 'kernel': 'rbf'}</td>\n",
              "      <td>{'C': 10, 'gamma': 100, 'kernel': 'rbf'}</td>\n",
              "      <td>{'C': 100, 'gamma': 0.001, 'kernel': 'rbf'}</td>\n",
              "      <td>{'C': 100, 'gamma': 0.01, 'kernel': 'rbf'}</td>\n",
              "      <td>{'C': 100, 'gamma': 0.1, 'kernel': 'rbf'}</td>\n",
              "      <td>{'C': 100, 'gamma': 1, 'kernel': 'rbf'}</td>\n",
              "      <td>{'C': 100, 'gamma': 10, 'kernel': 'rbf'}</td>\n",
              "      <td>{'C': 100, 'gamma': 100, 'kernel': 'rbf'}</td>\n",
              "      <td>{'C': 0.001, 'kernel': 'linear'}</td>\n",
              "      <td>{'C': 0.01, 'kernel': 'linear'}</td>\n",
              "      <td>{'C': 0.1, 'kernel': 'linear'}</td>\n",
              "      <td>{'C': 1, 'kernel': 'linear'}</td>\n",
              "      <td>{'C': 10, 'kernel': 'linear'}</td>\n",
              "      <td>{'C': 100, 'kernel': 'linear'}</td>\n",
              "    </tr>\n",
              "    <tr>\n",
              "      <th>split0_test_score</th>\n",
              "      <td>0.347826</td>\n",
              "      <td>0.347826</td>\n",
              "      <td>0.347826</td>\n",
              "      <td>0.347826</td>\n",
              "      <td>0.347826</td>\n",
              "      <td>0.347826</td>\n",
              "      <td>0.347826</td>\n",
              "      <td>0.347826</td>\n",
              "      <td>0.347826</td>\n",
              "      <td>0.347826</td>\n",
              "      <td>0.347826</td>\n",
              "      <td>0.347826</td>\n",
              "      <td>0.347826</td>\n",
              "      <td>0.695652</td>\n",
              "      <td>0.913043</td>\n",
              "      <td>1.0</td>\n",
              "      <td>0.347826</td>\n",
              "      <td>0.347826</td>\n",
              "      <td>0.695652</td>\n",
              "      <td>0.913043</td>\n",
              "      <td>1.0</td>\n",
              "      <td>0.956522</td>\n",
              "      <td>0.913043</td>\n",
              "      <td>0.391304</td>\n",
              "      <td>0.913043</td>\n",
              "      <td>1.0</td>\n",
              "      <td>1.0</td>\n",
              "      <td>0.956522</td>\n",
              "      <td>0.869565</td>\n",
              "      <td>0.521739</td>\n",
              "      <td>1.0</td>\n",
              "      <td>1.0</td>\n",
              "      <td>1.0</td>\n",
              "      <td>0.956522</td>\n",
              "      <td>0.869565</td>\n",
              "      <td>0.521739</td>\n",
              "      <td>0.347826</td>\n",
              "      <td>0.869565</td>\n",
              "      <td>1.0</td>\n",
              "      <td>1.0</td>\n",
              "      <td>1.0</td>\n",
              "      <td>0.956522</td>\n",
              "    </tr>\n",
              "    <tr>\n",
              "      <th>split1_test_score</th>\n",
              "      <td>0.347826</td>\n",
              "      <td>0.347826</td>\n",
              "      <td>0.347826</td>\n",
              "      <td>0.347826</td>\n",
              "      <td>0.347826</td>\n",
              "      <td>0.347826</td>\n",
              "      <td>0.347826</td>\n",
              "      <td>0.347826</td>\n",
              "      <td>0.347826</td>\n",
              "      <td>0.347826</td>\n",
              "      <td>0.347826</td>\n",
              "      <td>0.347826</td>\n",
              "      <td>0.347826</td>\n",
              "      <td>0.695652</td>\n",
              "      <td>0.913043</td>\n",
              "      <td>0.913043</td>\n",
              "      <td>0.347826</td>\n",
              "      <td>0.347826</td>\n",
              "      <td>0.695652</td>\n",
              "      <td>0.913043</td>\n",
              "      <td>0.956522</td>\n",
              "      <td>0.913043</td>\n",
              "      <td>0.956522</td>\n",
              "      <td>0.434783</td>\n",
              "      <td>0.913043</td>\n",
              "      <td>0.956522</td>\n",
              "      <td>0.956522</td>\n",
              "      <td>0.956522</td>\n",
              "      <td>0.913043</td>\n",
              "      <td>0.521739</td>\n",
              "      <td>0.956522</td>\n",
              "      <td>0.913043</td>\n",
              "      <td>0.956522</td>\n",
              "      <td>0.956522</td>\n",
              "      <td>0.913043</td>\n",
              "      <td>0.521739</td>\n",
              "      <td>0.347826</td>\n",
              "      <td>0.869565</td>\n",
              "      <td>0.913043</td>\n",
              "      <td>0.956522</td>\n",
              "      <td>1.0</td>\n",
              "      <td>0.956522</td>\n",
              "    </tr>\n",
              "    <tr>\n",
              "      <th>split2_test_score</th>\n",
              "      <td>0.363636</td>\n",
              "      <td>0.363636</td>\n",
              "      <td>0.363636</td>\n",
              "      <td>0.363636</td>\n",
              "      <td>0.363636</td>\n",
              "      <td>0.363636</td>\n",
              "      <td>0.363636</td>\n",
              "      <td>0.363636</td>\n",
              "      <td>0.363636</td>\n",
              "      <td>0.363636</td>\n",
              "      <td>0.363636</td>\n",
              "      <td>0.363636</td>\n",
              "      <td>0.363636</td>\n",
              "      <td>0.681818</td>\n",
              "      <td>0.909091</td>\n",
              "      <td>1.0</td>\n",
              "      <td>0.363636</td>\n",
              "      <td>0.363636</td>\n",
              "      <td>0.681818</td>\n",
              "      <td>1.0</td>\n",
              "      <td>1.0</td>\n",
              "      <td>1.0</td>\n",
              "      <td>1.0</td>\n",
              "      <td>0.545455</td>\n",
              "      <td>1.0</td>\n",
              "      <td>1.0</td>\n",
              "      <td>1.0</td>\n",
              "      <td>1.0</td>\n",
              "      <td>1.0</td>\n",
              "      <td>0.590909</td>\n",
              "      <td>1.0</td>\n",
              "      <td>1.0</td>\n",
              "      <td>1.0</td>\n",
              "      <td>1.0</td>\n",
              "      <td>1.0</td>\n",
              "      <td>0.590909</td>\n",
              "      <td>0.363636</td>\n",
              "      <td>0.772727</td>\n",
              "      <td>1.0</td>\n",
              "      <td>1.0</td>\n",
              "      <td>1.0</td>\n",
              "      <td>1.0</td>\n",
              "    </tr>\n",
              "    <tr>\n",
              "      <th>split3_test_score</th>\n",
              "      <td>0.363636</td>\n",
              "      <td>0.363636</td>\n",
              "      <td>0.363636</td>\n",
              "      <td>0.363636</td>\n",
              "      <td>0.363636</td>\n",
              "      <td>0.363636</td>\n",
              "      <td>0.363636</td>\n",
              "      <td>0.363636</td>\n",
              "      <td>0.363636</td>\n",
              "      <td>0.363636</td>\n",
              "      <td>0.363636</td>\n",
              "      <td>0.363636</td>\n",
              "      <td>0.363636</td>\n",
              "      <td>0.681818</td>\n",
              "      <td>0.863636</td>\n",
              "      <td>0.909091</td>\n",
              "      <td>0.363636</td>\n",
              "      <td>0.363636</td>\n",
              "      <td>0.681818</td>\n",
              "      <td>0.909091</td>\n",
              "      <td>0.909091</td>\n",
              "      <td>0.909091</td>\n",
              "      <td>0.818182</td>\n",
              "      <td>0.5</td>\n",
              "      <td>0.909091</td>\n",
              "      <td>0.909091</td>\n",
              "      <td>0.954545</td>\n",
              "      <td>0.863636</td>\n",
              "      <td>0.818182</td>\n",
              "      <td>0.590909</td>\n",
              "      <td>0.909091</td>\n",
              "      <td>0.954545</td>\n",
              "      <td>0.863636</td>\n",
              "      <td>0.863636</td>\n",
              "      <td>0.818182</td>\n",
              "      <td>0.590909</td>\n",
              "      <td>0.363636</td>\n",
              "      <td>0.772727</td>\n",
              "      <td>0.909091</td>\n",
              "      <td>0.954545</td>\n",
              "      <td>0.909091</td>\n",
              "      <td>0.909091</td>\n",
              "    </tr>\n",
              "    <tr>\n",
              "      <th>split4_test_score</th>\n",
              "      <td>0.409091</td>\n",
              "      <td>0.409091</td>\n",
              "      <td>0.409091</td>\n",
              "      <td>0.409091</td>\n",
              "      <td>0.409091</td>\n",
              "      <td>0.409091</td>\n",
              "      <td>0.409091</td>\n",
              "      <td>0.409091</td>\n",
              "      <td>0.409091</td>\n",
              "      <td>0.409091</td>\n",
              "      <td>0.409091</td>\n",
              "      <td>0.409091</td>\n",
              "      <td>0.409091</td>\n",
              "      <td>0.727273</td>\n",
              "      <td>0.909091</td>\n",
              "      <td>0.954545</td>\n",
              "      <td>0.409091</td>\n",
              "      <td>0.409091</td>\n",
              "      <td>0.727273</td>\n",
              "      <td>0.954545</td>\n",
              "      <td>0.954545</td>\n",
              "      <td>0.954545</td>\n",
              "      <td>0.954545</td>\n",
              "      <td>0.636364</td>\n",
              "      <td>0.954545</td>\n",
              "      <td>0.954545</td>\n",
              "      <td>0.954545</td>\n",
              "      <td>0.954545</td>\n",
              "      <td>0.954545</td>\n",
              "      <td>0.681818</td>\n",
              "      <td>0.954545</td>\n",
              "      <td>0.954545</td>\n",
              "      <td>0.954545</td>\n",
              "      <td>0.954545</td>\n",
              "      <td>0.954545</td>\n",
              "      <td>0.681818</td>\n",
              "      <td>0.409091</td>\n",
              "      <td>0.909091</td>\n",
              "      <td>0.954545</td>\n",
              "      <td>0.954545</td>\n",
              "      <td>0.954545</td>\n",
              "      <td>0.954545</td>\n",
              "    </tr>\n",
              "    <tr>\n",
              "      <th>mean_test_score</th>\n",
              "      <td>0.366403</td>\n",
              "      <td>0.366403</td>\n",
              "      <td>0.366403</td>\n",
              "      <td>0.366403</td>\n",
              "      <td>0.366403</td>\n",
              "      <td>0.366403</td>\n",
              "      <td>0.366403</td>\n",
              "      <td>0.366403</td>\n",
              "      <td>0.366403</td>\n",
              "      <td>0.366403</td>\n",
              "      <td>0.366403</td>\n",
              "      <td>0.366403</td>\n",
              "      <td>0.366403</td>\n",
              "      <td>0.696443</td>\n",
              "      <td>0.901581</td>\n",
              "      <td>0.955336</td>\n",
              "      <td>0.366403</td>\n",
              "      <td>0.366403</td>\n",
              "      <td>0.696443</td>\n",
              "      <td>0.937945</td>\n",
              "      <td>0.964032</td>\n",
              "      <td>0.94664</td>\n",
              "      <td>0.928458</td>\n",
              "      <td>0.501581</td>\n",
              "      <td>0.937945</td>\n",
              "      <td>0.964032</td>\n",
              "      <td>0.973123</td>\n",
              "      <td>0.946245</td>\n",
              "      <td>0.911067</td>\n",
              "      <td>0.581423</td>\n",
              "      <td>0.964032</td>\n",
              "      <td>0.964427</td>\n",
              "      <td>0.954941</td>\n",
              "      <td>0.946245</td>\n",
              "      <td>0.911067</td>\n",
              "      <td>0.581423</td>\n",
              "      <td>0.366403</td>\n",
              "      <td>0.838735</td>\n",
              "      <td>0.955336</td>\n",
              "      <td>0.973123</td>\n",
              "      <td>0.972727</td>\n",
              "      <td>0.955336</td>\n",
              "    </tr>\n",
              "    <tr>\n",
              "      <th>std_test_score</th>\n",
              "      <td>0.022485</td>\n",
              "      <td>0.022485</td>\n",
              "      <td>0.022485</td>\n",
              "      <td>0.022485</td>\n",
              "      <td>0.022485</td>\n",
              "      <td>0.022485</td>\n",
              "      <td>0.022485</td>\n",
              "      <td>0.022485</td>\n",
              "      <td>0.022485</td>\n",
              "      <td>0.022485</td>\n",
              "      <td>0.022485</td>\n",
              "      <td>0.022485</td>\n",
              "      <td>0.022485</td>\n",
              "      <td>0.01661</td>\n",
              "      <td>0.019054</td>\n",
              "      <td>0.039794</td>\n",
              "      <td>0.022485</td>\n",
              "      <td>0.022485</td>\n",
              "      <td>0.01661</td>\n",
              "      <td>0.035211</td>\n",
              "      <td>0.033918</td>\n",
              "      <td>0.033305</td>\n",
              "      <td>0.06162</td>\n",
              "      <td>0.085693</td>\n",
              "      <td>0.035211</td>\n",
              "      <td>0.033918</td>\n",
              "      <td>0.021957</td>\n",
              "      <td>0.044708</td>\n",
              "      <td>0.063488</td>\n",
              "      <td>0.058964</td>\n",
              "      <td>0.033918</td>\n",
              "      <td>0.032761</td>\n",
              "      <td>0.049799</td>\n",
              "      <td>0.044708</td>\n",
              "      <td>0.063488</td>\n",
              "      <td>0.058964</td>\n",
              "      <td>0.022485</td>\n",
              "      <td>0.055794</td>\n",
              "      <td>0.039794</td>\n",
              "      <td>0.021957</td>\n",
              "      <td>0.036364</td>\n",
              "      <td>0.028764</td>\n",
              "    </tr>\n",
              "    <tr>\n",
              "      <th>rank_test_score</th>\n",
              "      <td>27</td>\n",
              "      <td>27</td>\n",
              "      <td>27</td>\n",
              "      <td>27</td>\n",
              "      <td>27</td>\n",
              "      <td>27</td>\n",
              "      <td>27</td>\n",
              "      <td>27</td>\n",
              "      <td>27</td>\n",
              "      <td>27</td>\n",
              "      <td>27</td>\n",
              "      <td>27</td>\n",
              "      <td>27</td>\n",
              "      <td>22</td>\n",
              "      <td>20</td>\n",
              "      <td>8</td>\n",
              "      <td>27</td>\n",
              "      <td>27</td>\n",
              "      <td>22</td>\n",
              "      <td>15</td>\n",
              "      <td>5</td>\n",
              "      <td>12</td>\n",
              "      <td>17</td>\n",
              "      <td>26</td>\n",
              "      <td>15</td>\n",
              "      <td>5</td>\n",
              "      <td>1</td>\n",
              "      <td>13</td>\n",
              "      <td>18</td>\n",
              "      <td>24</td>\n",
              "      <td>5</td>\n",
              "      <td>4</td>\n",
              "      <td>11</td>\n",
              "      <td>13</td>\n",
              "      <td>18</td>\n",
              "      <td>24</td>\n",
              "      <td>27</td>\n",
              "      <td>21</td>\n",
              "      <td>8</td>\n",
              "      <td>1</td>\n",
              "      <td>3</td>\n",
              "      <td>8</td>\n",
              "    </tr>\n",
              "    <tr>\n",
              "      <th>split0_train_score</th>\n",
              "      <td>0.370787</td>\n",
              "      <td>0.370787</td>\n",
              "      <td>0.370787</td>\n",
              "      <td>0.370787</td>\n",
              "      <td>0.370787</td>\n",
              "      <td>0.370787</td>\n",
              "      <td>0.370787</td>\n",
              "      <td>0.370787</td>\n",
              "      <td>0.370787</td>\n",
              "      <td>0.370787</td>\n",
              "      <td>0.370787</td>\n",
              "      <td>0.370787</td>\n",
              "      <td>0.370787</td>\n",
              "      <td>0.696629</td>\n",
              "      <td>0.898876</td>\n",
              "      <td>0.94382</td>\n",
              "      <td>0.382022</td>\n",
              "      <td>0.370787</td>\n",
              "      <td>0.696629</td>\n",
              "      <td>0.94382</td>\n",
              "      <td>0.977528</td>\n",
              "      <td>0.977528</td>\n",
              "      <td>1.0</td>\n",
              "      <td>1.0</td>\n",
              "      <td>0.94382</td>\n",
              "      <td>0.977528</td>\n",
              "      <td>0.988764</td>\n",
              "      <td>0.988764</td>\n",
              "      <td>1.0</td>\n",
              "      <td>1.0</td>\n",
              "      <td>0.977528</td>\n",
              "      <td>0.988764</td>\n",
              "      <td>0.988764</td>\n",
              "      <td>1.0</td>\n",
              "      <td>1.0</td>\n",
              "      <td>1.0</td>\n",
              "      <td>0.370787</td>\n",
              "      <td>0.853933</td>\n",
              "      <td>0.966292</td>\n",
              "      <td>0.988764</td>\n",
              "      <td>0.988764</td>\n",
              "      <td>0.977528</td>\n",
              "    </tr>\n",
              "    <tr>\n",
              "      <th>split1_train_score</th>\n",
              "      <td>0.370787</td>\n",
              "      <td>0.370787</td>\n",
              "      <td>0.370787</td>\n",
              "      <td>0.370787</td>\n",
              "      <td>0.370787</td>\n",
              "      <td>0.370787</td>\n",
              "      <td>0.370787</td>\n",
              "      <td>0.370787</td>\n",
              "      <td>0.370787</td>\n",
              "      <td>0.370787</td>\n",
              "      <td>0.370787</td>\n",
              "      <td>0.370787</td>\n",
              "      <td>0.370787</td>\n",
              "      <td>0.696629</td>\n",
              "      <td>0.932584</td>\n",
              "      <td>0.977528</td>\n",
              "      <td>0.393258</td>\n",
              "      <td>0.370787</td>\n",
              "      <td>0.696629</td>\n",
              "      <td>0.932584</td>\n",
              "      <td>0.966292</td>\n",
              "      <td>1.0</td>\n",
              "      <td>1.0</td>\n",
              "      <td>1.0</td>\n",
              "      <td>0.932584</td>\n",
              "      <td>0.977528</td>\n",
              "      <td>0.988764</td>\n",
              "      <td>0.988764</td>\n",
              "      <td>1.0</td>\n",
              "      <td>1.0</td>\n",
              "      <td>0.977528</td>\n",
              "      <td>0.988764</td>\n",
              "      <td>0.988764</td>\n",
              "      <td>1.0</td>\n",
              "      <td>1.0</td>\n",
              "      <td>1.0</td>\n",
              "      <td>0.370787</td>\n",
              "      <td>0.910112</td>\n",
              "      <td>0.966292</td>\n",
              "      <td>0.977528</td>\n",
              "      <td>0.988764</td>\n",
              "      <td>0.988764</td>\n",
              "    </tr>\n",
              "    <tr>\n",
              "      <th>split2_train_score</th>\n",
              "      <td>0.366667</td>\n",
              "      <td>0.366667</td>\n",
              "      <td>0.366667</td>\n",
              "      <td>0.366667</td>\n",
              "      <td>0.366667</td>\n",
              "      <td>0.366667</td>\n",
              "      <td>0.366667</td>\n",
              "      <td>0.366667</td>\n",
              "      <td>0.366667</td>\n",
              "      <td>0.366667</td>\n",
              "      <td>0.366667</td>\n",
              "      <td>0.366667</td>\n",
              "      <td>0.366667</td>\n",
              "      <td>0.7</td>\n",
              "      <td>0.877778</td>\n",
              "      <td>0.944444</td>\n",
              "      <td>0.366667</td>\n",
              "      <td>0.366667</td>\n",
              "      <td>0.7</td>\n",
              "      <td>0.922222</td>\n",
              "      <td>0.966667</td>\n",
              "      <td>0.977778</td>\n",
              "      <td>1.0</td>\n",
              "      <td>1.0</td>\n",
              "      <td>0.922222</td>\n",
              "      <td>0.966667</td>\n",
              "      <td>0.977778</td>\n",
              "      <td>0.977778</td>\n",
              "      <td>1.0</td>\n",
              "      <td>1.0</td>\n",
              "      <td>0.966667</td>\n",
              "      <td>0.977778</td>\n",
              "      <td>0.977778</td>\n",
              "      <td>1.0</td>\n",
              "      <td>1.0</td>\n",
              "      <td>1.0</td>\n",
              "      <td>0.366667</td>\n",
              "      <td>0.844444</td>\n",
              "      <td>0.944444</td>\n",
              "      <td>0.977778</td>\n",
              "      <td>0.977778</td>\n",
              "      <td>0.988889</td>\n",
              "    </tr>\n",
              "    <tr>\n",
              "      <th>split3_train_score</th>\n",
              "      <td>0.366667</td>\n",
              "      <td>0.366667</td>\n",
              "      <td>0.366667</td>\n",
              "      <td>0.366667</td>\n",
              "      <td>0.366667</td>\n",
              "      <td>0.366667</td>\n",
              "      <td>0.366667</td>\n",
              "      <td>0.366667</td>\n",
              "      <td>0.366667</td>\n",
              "      <td>0.366667</td>\n",
              "      <td>0.366667</td>\n",
              "      <td>0.366667</td>\n",
              "      <td>0.366667</td>\n",
              "      <td>0.7</td>\n",
              "      <td>0.888889</td>\n",
              "      <td>0.966667</td>\n",
              "      <td>0.4</td>\n",
              "      <td>0.366667</td>\n",
              "      <td>0.7</td>\n",
              "      <td>0.944444</td>\n",
              "      <td>0.977778</td>\n",
              "      <td>1.0</td>\n",
              "      <td>1.0</td>\n",
              "      <td>1.0</td>\n",
              "      <td>0.933333</td>\n",
              "      <td>0.988889</td>\n",
              "      <td>0.988889</td>\n",
              "      <td>1.0</td>\n",
              "      <td>1.0</td>\n",
              "      <td>1.0</td>\n",
              "      <td>0.988889</td>\n",
              "      <td>0.988889</td>\n",
              "      <td>1.0</td>\n",
              "      <td>1.0</td>\n",
              "      <td>1.0</td>\n",
              "      <td>1.0</td>\n",
              "      <td>0.366667</td>\n",
              "      <td>0.766667</td>\n",
              "      <td>0.966667</td>\n",
              "      <td>0.988889</td>\n",
              "      <td>0.988889</td>\n",
              "      <td>1.0</td>\n",
              "    </tr>\n",
              "    <tr>\n",
              "      <th>split4_train_score</th>\n",
              "      <td>0.355556</td>\n",
              "      <td>0.355556</td>\n",
              "      <td>0.355556</td>\n",
              "      <td>0.355556</td>\n",
              "      <td>0.355556</td>\n",
              "      <td>0.355556</td>\n",
              "      <td>0.355556</td>\n",
              "      <td>0.355556</td>\n",
              "      <td>0.355556</td>\n",
              "      <td>0.355556</td>\n",
              "      <td>0.355556</td>\n",
              "      <td>0.355556</td>\n",
              "      <td>0.355556</td>\n",
              "      <td>0.688889</td>\n",
              "      <td>0.933333</td>\n",
              "      <td>0.955556</td>\n",
              "      <td>0.355556</td>\n",
              "      <td>0.355556</td>\n",
              "      <td>0.688889</td>\n",
              "      <td>0.933333</td>\n",
              "      <td>0.977778</td>\n",
              "      <td>0.977778</td>\n",
              "      <td>1.0</td>\n",
              "      <td>1.0</td>\n",
              "      <td>0.933333</td>\n",
              "      <td>0.977778</td>\n",
              "      <td>1.0</td>\n",
              "      <td>0.988889</td>\n",
              "      <td>1.0</td>\n",
              "      <td>1.0</td>\n",
              "      <td>0.977778</td>\n",
              "      <td>0.988889</td>\n",
              "      <td>1.0</td>\n",
              "      <td>1.0</td>\n",
              "      <td>1.0</td>\n",
              "      <td>1.0</td>\n",
              "      <td>0.355556</td>\n",
              "      <td>0.877778</td>\n",
              "      <td>0.966667</td>\n",
              "      <td>0.988889</td>\n",
              "      <td>1.0</td>\n",
              "      <td>1.0</td>\n",
              "    </tr>\n",
              "    <tr>\n",
              "      <th>mean_train_score</th>\n",
              "      <td>0.366092</td>\n",
              "      <td>0.366092</td>\n",
              "      <td>0.366092</td>\n",
              "      <td>0.366092</td>\n",
              "      <td>0.366092</td>\n",
              "      <td>0.366092</td>\n",
              "      <td>0.366092</td>\n",
              "      <td>0.366092</td>\n",
              "      <td>0.366092</td>\n",
              "      <td>0.366092</td>\n",
              "      <td>0.366092</td>\n",
              "      <td>0.366092</td>\n",
              "      <td>0.366092</td>\n",
              "      <td>0.696429</td>\n",
              "      <td>0.906292</td>\n",
              "      <td>0.957603</td>\n",
              "      <td>0.379501</td>\n",
              "      <td>0.366092</td>\n",
              "      <td>0.696429</td>\n",
              "      <td>0.935281</td>\n",
              "      <td>0.973208</td>\n",
              "      <td>0.986617</td>\n",
              "      <td>1.0</td>\n",
              "      <td>1.0</td>\n",
              "      <td>0.933059</td>\n",
              "      <td>0.977678</td>\n",
              "      <td>0.988839</td>\n",
              "      <td>0.988839</td>\n",
              "      <td>1.0</td>\n",
              "      <td>1.0</td>\n",
              "      <td>0.977678</td>\n",
              "      <td>0.986617</td>\n",
              "      <td>0.991061</td>\n",
              "      <td>1.0</td>\n",
              "      <td>1.0</td>\n",
              "      <td>1.0</td>\n",
              "      <td>0.366092</td>\n",
              "      <td>0.850587</td>\n",
              "      <td>0.962072</td>\n",
              "      <td>0.98437</td>\n",
              "      <td>0.988839</td>\n",
              "      <td>0.991036</td>\n",
              "    </tr>\n",
              "    <tr>\n",
              "      <th>std_train_score</th>\n",
              "      <td>0.005581</td>\n",
              "      <td>0.005581</td>\n",
              "      <td>0.005581</td>\n",
              "      <td>0.005581</td>\n",
              "      <td>0.005581</td>\n",
              "      <td>0.005581</td>\n",
              "      <td>0.005581</td>\n",
              "      <td>0.005581</td>\n",
              "      <td>0.005581</td>\n",
              "      <td>0.005581</td>\n",
              "      <td>0.005581</td>\n",
              "      <td>0.005581</td>\n",
              "      <td>0.005581</td>\n",
              "      <td>0.00406</td>\n",
              "      <td>0.022775</td>\n",
              "      <td>0.013011</td>\n",
              "      <td>0.016456</td>\n",
              "      <td>0.005581</td>\n",
              "      <td>0.00406</td>\n",
              "      <td>0.008228</td>\n",
              "      <td>0.005496</td>\n",
              "      <td>0.010928</td>\n",
              "      <td>0.0</td>\n",
              "      <td>0.0</td>\n",
              "      <td>0.006835</td>\n",
              "      <td>0.007028</td>\n",
              "      <td>0.007028</td>\n",
              "      <td>0.007028</td>\n",
              "      <td>0.0</td>\n",
              "      <td>0.0</td>\n",
              "      <td>0.007028</td>\n",
              "      <td>0.00442</td>\n",
              "      <td>0.008328</td>\n",
              "      <td>0.0</td>\n",
              "      <td>0.0</td>\n",
              "      <td>0.0</td>\n",
              "      <td>0.005581</td>\n",
              "      <td>0.047695</td>\n",
              "      <td>0.008816</td>\n",
              "      <td>0.005485</td>\n",
              "      <td>0.007028</td>\n",
              "      <td>0.008402</td>\n",
              "    </tr>\n",
              "  </tbody>\n",
              "</table>\n",
              "</div>\n",
              "      <button class=\"colab-df-convert\" onclick=\"convertToInteractive('df-52fe960c-8473-48c5-9841-a88f1335034e')\"\n",
              "              title=\"Convert this dataframe to an interactive table.\"\n",
              "              style=\"display:none;\">\n",
              "        \n",
              "  <svg xmlns=\"http://www.w3.org/2000/svg\" height=\"24px\"viewBox=\"0 0 24 24\"\n",
              "       width=\"24px\">\n",
              "    <path d=\"M0 0h24v24H0V0z\" fill=\"none\"/>\n",
              "    <path d=\"M18.56 5.44l.94 2.06.94-2.06 2.06-.94-2.06-.94-.94-2.06-.94 2.06-2.06.94zm-11 1L8.5 8.5l.94-2.06 2.06-.94-2.06-.94L8.5 2.5l-.94 2.06-2.06.94zm10 10l.94 2.06.94-2.06 2.06-.94-2.06-.94-.94-2.06-.94 2.06-2.06.94z\"/><path d=\"M17.41 7.96l-1.37-1.37c-.4-.4-.92-.59-1.43-.59-.52 0-1.04.2-1.43.59L10.3 9.45l-7.72 7.72c-.78.78-.78 2.05 0 2.83L4 21.41c.39.39.9.59 1.41.59.51 0 1.02-.2 1.41-.59l7.78-7.78 2.81-2.81c.8-.78.8-2.07 0-2.86zM5.41 20L4 18.59l7.72-7.72 1.47 1.35L5.41 20z\"/>\n",
              "  </svg>\n",
              "      </button>\n",
              "      \n",
              "  <style>\n",
              "    .colab-df-container {\n",
              "      display:flex;\n",
              "      flex-wrap:wrap;\n",
              "      gap: 12px;\n",
              "    }\n",
              "\n",
              "    .colab-df-convert {\n",
              "      background-color: #E8F0FE;\n",
              "      border: none;\n",
              "      border-radius: 50%;\n",
              "      cursor: pointer;\n",
              "      display: none;\n",
              "      fill: #1967D2;\n",
              "      height: 32px;\n",
              "      padding: 0 0 0 0;\n",
              "      width: 32px;\n",
              "    }\n",
              "\n",
              "    .colab-df-convert:hover {\n",
              "      background-color: #E2EBFA;\n",
              "      box-shadow: 0px 1px 2px rgba(60, 64, 67, 0.3), 0px 1px 3px 1px rgba(60, 64, 67, 0.15);\n",
              "      fill: #174EA6;\n",
              "    }\n",
              "\n",
              "    [theme=dark] .colab-df-convert {\n",
              "      background-color: #3B4455;\n",
              "      fill: #D2E3FC;\n",
              "    }\n",
              "\n",
              "    [theme=dark] .colab-df-convert:hover {\n",
              "      background-color: #434B5C;\n",
              "      box-shadow: 0px 1px 3px 1px rgba(0, 0, 0, 0.15);\n",
              "      filter: drop-shadow(0px 1px 2px rgba(0, 0, 0, 0.3));\n",
              "      fill: #FFFFFF;\n",
              "    }\n",
              "  </style>\n",
              "\n",
              "      <script>\n",
              "        const buttonEl =\n",
              "          document.querySelector('#df-52fe960c-8473-48c5-9841-a88f1335034e button.colab-df-convert');\n",
              "        buttonEl.style.display =\n",
              "          google.colab.kernel.accessAllowed ? 'block' : 'none';\n",
              "\n",
              "        async function convertToInteractive(key) {\n",
              "          const element = document.querySelector('#df-52fe960c-8473-48c5-9841-a88f1335034e');\n",
              "          const dataTable =\n",
              "            await google.colab.kernel.invokeFunction('convertToInteractive',\n",
              "                                                     [key], {});\n",
              "          if (!dataTable) return;\n",
              "\n",
              "          const docLinkHtml = 'Like what you see? Visit the ' +\n",
              "            '<a target=\"_blank\" href=https://colab.research.google.com/notebooks/data_table.ipynb>data table notebook</a>'\n",
              "            + ' to learn more about interactive tables.';\n",
              "          element.innerHTML = '';\n",
              "          dataTable['output_type'] = 'display_data';\n",
              "          await google.colab.output.renderOutput(dataTable, element);\n",
              "          const docLink = document.createElement('div');\n",
              "          docLink.innerHTML = docLinkHtml;\n",
              "          element.appendChild(docLink);\n",
              "        }\n",
              "      </script>\n",
              "    </div>\n",
              "  </div>\n",
              "  "
            ]
          },
          "metadata": {},
          "execution_count": 36
        }
      ]
    },
    {
      "cell_type": "code",
      "source": [
        "# 중첩 교차 검증 : train set과 test set을 한 번만 나누는 문제를 해결\n",
        "# 주어진 모델이 얼마나 잘 일반화 되었는지 확인할 때 사용\n",
        "\n",
        "param_grid = {'C' : [0.001, 0.01, 0.1, 1, 10, 100],\n",
        "              'gamma' : [0.001, 0.01, 0.1, 1, 10, 100]}\n",
        "score = cross_val_score(GridSearchCV(SVC(), param_grid, cv = 5), iris.data, iris.target, cv = 5)\n",
        "print(\"교차 검증 점수 : \", score)\n",
        "print(\"교차 검증 평균 점수 : {:.2f} \" .format(score.mean()))"
      ],
      "metadata": {
        "id": "_9cj1n7cv-wx",
        "outputId": "933c3a9f-d333-47a1-80c6-f154af472fd5",
        "colab": {
          "base_uri": "https://localhost:8080/"
        }
      },
      "execution_count": 37,
      "outputs": [
        {
          "output_type": "stream",
          "name": "stdout",
          "text": [
            "교차 검증 점수 :  [0.96666667 1.         0.96666667 0.96666667 1.        ]\n",
            "교차 검증 평균 점수 : 0.98 \n"
          ]
        }
      ]
    },
    {
      "cell_type": "code",
      "source": [
        "# 바깥쪽 루프와 안쪽 루프에서 모두 교차 검증을 하므로 비용이 매우 큼\n",
        "\n",
        "# 중첩교차검증 직접 구현\n",
        "def nested_cv(X, y, inner_cv, outer_cv, Classifier, parameter_grid):\n",
        "    outer_scores = []\n",
        "    # 바깥 루프 : train set과 test set을 나눔\n",
        "    for training_samples, test_samples in outer_cv.split(X, y):\n",
        "        best_parms = {}\n",
        "        best_score = -np.inf\n",
        "        \n",
        "        for parameters in parameter_grid:\n",
        "            cv_scores = []\n",
        "            # 안쪽 루프 : train set과 valid set으로 나눔\n",
        "            for inner_train, inner_test in inner_cv.split(X[training_samples], y[training_samples]):\n",
        "                clf = Classifier(**parameters)\n",
        "                clf.fit(X[inner_train], y[inner_train])\n",
        "                score = clf.score(X[inner_test], y[inner_test])\n",
        "                cv_scores.append(score)\n",
        "            mean_score = np.mean(cv_scores)\n",
        "            if mean_score > best_score:\n",
        "                best_score = mean_score\n",
        "                best_params = parameters\n",
        "        clf = Classifier(**best_params)\n",
        "        clf.fit(X[training_samples], y[training_samples])\n",
        "        outer_scores.append(clf.score(X[test_samples], y[test_samples]))\n",
        "    return np.array(outer_scores)"
      ],
      "metadata": {
        "id": "tRnXZ84TxFb1"
      },
      "execution_count": 38,
      "outputs": []
    },
    {
      "cell_type": "code",
      "source": [
        "# 함수 적용해보기\n",
        "from sklearn.model_selection import ParameterGrid, StratifiedKFold\n",
        "scores = nested_cv(iris.data, iris.target, StratifiedKFold(5), StratifiedKFold(5), SVC, ParameterGrid(param_grid))\n",
        "print(\"교차 검증 점수 : \", scores)"
      ],
      "metadata": {
        "id": "v78Tt_jAyBbB",
        "outputId": "50e261bd-c5e8-44af-98be-a8c9d69c28d8",
        "colab": {
          "base_uri": "https://localhost:8080/"
        }
      },
      "execution_count": 39,
      "outputs": [
        {
          "output_type": "stream",
          "name": "stdout",
          "text": [
            "교차 검증 점수 :  [0.96666667 1.         0.96666667 0.96666667 1.        ]\n"
          ]
        }
      ]
    },
    {
      "cell_type": "code",
      "source": [
        "# 교차 검증과 그리드 서치 병렬화\n",
        "\n",
        "from sklearn.model_selection import RandomizedSearchCV\n",
        "from sklearn.utils.fixes import loguniform\n",
        "\n",
        "param_dist = [ {'kernel' : ['rbf'], 'C' : loguniform(0.001, 100), 'gamma' : loguniform(0.001, 100)},\n",
        "               {'kernel' : ['linear'], 'C' : loguniform(0.001, 100)}]\n",
        "\n",
        "# RandomizedSearchCV : 매개변수를 무작위로 선택해 조사\n",
        "rand_search = RandomizedSearchCV(SVC(), param_dist, n_iter = 20, random_state = 42, n_jobs = -1)\n",
        "\n",
        "rand_search.fit(X_train, y_train)\n",
        "print(\"최적의 파라미터 : \", rand_search.best_params_)\n",
        "print(\"최고 교차 검증 점수 : {:.2f}\" .format(rand_search.best_score_))"
      ],
      "metadata": {
        "id": "ClkpeJ9xjyaZ",
        "outputId": "f2a815f3-7eec-4ba7-abf0-1a15a08a3a47",
        "colab": {
          "base_uri": "https://localhost:8080/"
        }
      },
      "execution_count": 40,
      "outputs": [
        {
          "output_type": "stream",
          "name": "stdout",
          "text": [
            "최적의 파라미터 :  {'C': 1.7965626423790642, 'kernel': 'linear'}\n",
            "최고 교차 검증 점수 : 0.97\n"
          ]
        }
      ]
    },
    {
      "cell_type": "code",
      "source": [
        "# HalvingGridSearchCV : 모든 파라미터 조합에 대해 제한된 자원으로 실행 -> 가장 좋은 후보를 골라 더 많은 자원 투여\n",
        "\n",
        "from sklearn.experimental import enable_halving_search_cv\n",
        "from sklearn.model_selection import HalvingGridSearchCV\n",
        "\n",
        "param_grid = [{'kernel' : ['rbf'], 'C' : [0.001, 0.01, 0.1, 1, 10, 100], 'gamma' : [0.001, 0.01, 0.1, 1, 10, 100]},\n",
        "              {'kernel' : ['linear'], 'C' : [0.001, 0.01, 0.1, 1, 10, 100]}]\n",
        "\n",
        "halv_search = HalvingGridSearchCV(SVC(), param_grid, verbose = 1, random_state = 42, n_jobs = -1)\n",
        "halv_search.fit(X_train, y_train)\n",
        "print()\n",
        "print(\"최적의 파라미터 : \", halv_search.best_params_)\n",
        "print(\"최고 교차 검증 점수 : {:.2f}\" .format(halv_search.best_score_))"
      ],
      "metadata": {
        "id": "pEZp1e6ulhyj",
        "outputId": "d177e7e7-e2db-4bd9-9f15-c1c84c29002a",
        "colab": {
          "base_uri": "https://localhost:8080/"
        }
      },
      "execution_count": 41,
      "outputs": [
        {
          "output_type": "stream",
          "name": "stdout",
          "text": [
            "n_iterations: 2\n",
            "n_required_iterations: 4\n",
            "n_possible_iterations: 2\n",
            "min_resources_: 30\n",
            "max_resources_: 112\n",
            "aggressive_elimination: False\n",
            "factor: 3\n",
            "----------\n",
            "iter: 0\n",
            "n_candidates: 42\n",
            "n_resources: 30\n",
            "Fitting 5 folds for each of 42 candidates, totalling 210 fits\n",
            "----------\n",
            "iter: 1\n",
            "n_candidates: 14\n",
            "n_resources: 90\n",
            "Fitting 5 folds for each of 14 candidates, totalling 70 fits\n",
            "\n",
            "최적의 파라미터 :  {'C': 100, 'gamma': 0.01, 'kernel': 'rbf'}\n",
            "최고 교차 검증 점수 : 0.97\n"
          ]
        }
      ]
    },
    {
      "cell_type": "markdown",
      "source": [
        "## 5.3 평가 지표와 측정"
      ],
      "metadata": {
        "id": "4GUTyGuFnzDU"
      }
    },
    {
      "cell_type": "markdown",
      "source": [
        "## 5.3.2 이진 분류의 평가 지표"
      ],
      "metadata": {
        "id": "EmBR0u3ln7lS"
      }
    },
    {
      "cell_type": "code",
      "source": [
        "# 불균형 데이터셋 -> 정확도가 항상 좋은 지표는 x\n",
        "from sklearn.datasets import load_digits\n",
        "\n",
        "digits = load_digits()\n",
        "y = digits.target == 9\n",
        "\n",
        "X_train, X_test, y_train, y_test = train_test_split(digits.data, y, random_state = 0)\n",
        "\n",
        "from sklearn.dummy import DummyClassifier\n",
        "dummy_majority = DummyClassifier(strategy = 'most_frequent').fit(X_train, y_train)\n",
        "pred_most_frequent = dummy_majority.predict(X_test)\n",
        "\n",
        "# 모든 답을 false로 내놓는 모델이 90%의 정확도를 보임\n",
        "print(\"예측된 레이블의 레이블 : \", np.unique(pred_most_frequent))\n",
        "print(\"테스트 점수 : {:.2f}\" .format(dummy_majority.score(X_test, y_test)))"
      ],
      "metadata": {
        "id": "iQVhtoc0n_w2",
        "outputId": "45ceec3c-ade9-4186-bdf4-8e06c1e414ae",
        "colab": {
          "base_uri": "https://localhost:8080/"
        }
      },
      "execution_count": 42,
      "outputs": [
        {
          "output_type": "stream",
          "name": "stdout",
          "text": [
            "예측된 레이블의 레이블 :  [False]\n",
            "테스트 점수 : 0.90\n"
          ]
        }
      ]
    },
    {
      "cell_type": "code",
      "source": [
        "from sklearn.tree import DecisionTreeClassifier\n",
        "\n",
        "tree = DecisionTreeClassifier(max_depth = 2).fit(X_train, y_train)\n",
        "print(\"test score : {:.2f}\" .format(tree.score(X_test, y_test)))"
      ],
      "metadata": {
        "id": "dnrdM3l4ti0Q",
        "outputId": "862380c4-ddcd-4229-e461-e52757cf44e6",
        "colab": {
          "base_uri": "https://localhost:8080/"
        }
      },
      "execution_count": 43,
      "outputs": [
        {
          "output_type": "stream",
          "name": "stdout",
          "text": [
            "test score : 0.92\n"
          ]
        }
      ]
    },
    {
      "cell_type": "code",
      "source": [
        "dummy = DummyClassifier(strategy = 'stratified').fit(X_train, y_train)\n",
        "print(\"dummy 점수 : {:.2f}\" .format(dummy.score(X_test, y_test)))\n",
        "\n",
        "logreg = LogisticRegression(C = 0.1, max_iter = 1000).fit(X_train, y_train)\n",
        "print(\"logreg 점수 : {:.2f}\" .format(logreg.score(X_test, y_test)))"
      ],
      "metadata": {
        "id": "jD2Tv6Tut_Ez",
        "outputId": "163597b2-6b90-4617-ba9b-c257ad46cffd",
        "colab": {
          "base_uri": "https://localhost:8080/"
        }
      },
      "execution_count": 44,
      "outputs": [
        {
          "output_type": "stream",
          "name": "stdout",
          "text": [
            "dummy 점수 : 0.82\n",
            "logreg 점수 : 0.98\n"
          ]
        }
      ]
    },
    {
      "cell_type": "code",
      "source": [
        "# 오차 행렬\n",
        "from sklearn.metrics import confusion_matrix\n",
        "\n",
        "pred_logreg = logreg.predict(X_test)\n",
        "confusion = confusion_matrix(y_test, pred_logreg)\n",
        "print(\"오차 행렬 : \\n\", confusion)"
      ],
      "metadata": {
        "colab": {
          "base_uri": "https://localhost:8080/"
        },
        "id": "94KFS1AIDrmO",
        "outputId": "3d9abbfa-49e9-4bd7-e1ae-a023d0580d95"
      },
      "execution_count": 45,
      "outputs": [
        {
          "output_type": "stream",
          "name": "stdout",
          "text": [
            "오차 행렬 : \n",
            " [[402   1]\n",
            " [  6  41]]\n"
          ]
        }
      ]
    },
    {
      "cell_type": "code",
      "source": [
        "mglearn.plots.plot_confusion_matrix_illustration()"
      ],
      "metadata": {
        "colab": {
          "base_uri": "https://localhost:8080/",
          "height": 496
        },
        "id": "CMGYWMFHFM_J",
        "outputId": "769a2dfc-7d11-4961-9a04-e7bd86cf8a07"
      },
      "execution_count": 46,
      "outputs": [
        {
          "output_type": "display_data",
          "data": {
            "text/plain": [
              "<Figure size 576x576 with 1 Axes>"
            ],
            "image/png": "[encoded data removed]"
          },
          "metadata": {
            "needs_background": "light"
          }
        }
      ]
    },
    {
      "cell_type": "code",
      "source": [
        "print(\"빈도 기반 더미 모델:\")\n",
        "print(confusion_matrix(y_test, pred_most_frequent))\n",
        "print(\"\\n무작위 더미 모델:\")\n",
        "pred_dummy = dummy.predict(X_test)\n",
        "print(confusion_matrix(y_test, pred_dummy))\n",
        "print(\"\\n결정 트리 : \\n\")\n",
        "pred_tree = tree.predict(X_test)\n",
        "print(confusion_matrix(y_test, pred_tree))\n",
        "print(\"\\n로지스틱 회귀 : \\n\")\n",
        "print(confusion_matrix(y_test, pred_logreg))"
      ],
      "metadata": {
        "colab": {
          "base_uri": "https://localhost:8080/"
        },
        "id": "PisGb0jGFelK",
        "outputId": "c7625d23-b968-4e8d-aee0-2a0881153454"
      },
      "execution_count": 47,
      "outputs": [
        {
          "output_type": "stream",
          "name": "stdout",
          "text": [
            "빈도 기반 더미 모델:\n",
            "[[403   0]\n",
            " [ 47   0]]\n",
            "\n",
            "무작위 더미 모델:\n",
            "[[353  50]\n",
            " [ 40   7]]\n",
            "\n",
            "결정 트리 : \n",
            "\n",
            "[[390  13]\n",
            " [ 24  23]]\n",
            "\n",
            "로지스틱 회귀 : \n",
            "\n",
            "[[402   1]\n",
            " [  6  41]]\n"
          ]
        }
      ]
    },
    {
      "cell_type": "code",
      "source": [
        "# 오차행렬의 정보 요약\n",
        "from sklearn.metrics import ConfusionMatrixDisplay\n",
        "\n",
        "# from_estimator\n",
        "ConfusionMatrixDisplay.from_estimator(logreg, X_test, y_test, display_labels = ['9아님' , '9'])\n",
        "plt.show()"
      ],
      "metadata": {
        "colab": {
          "base_uri": "https://localhost:8080/",
          "height": 282
        },
        "id": "mJ4ciEToMax1",
        "outputId": "fc3c2d4a-3800-43ae-dc7b-924c31d1d57e"
      },
      "execution_count": 48,
      "outputs": [
        {
          "output_type": "display_data",
          "data": {
            "text/plain": [
              "<Figure size 432x288 with 2 Axes>"
            ],
            "image/png": "[encoded data removed]"
          },
          "metadata": {
            "needs_background": "light"
          }
        }
      ]
    },
    {
      "cell_type": "code",
      "source": [
        "#from_predictions\n",
        "ConfusionMatrixDisplay.from_predictions(y_test, pred_logreg, display_labels = ['9아님', '9'])"
      ],
      "metadata": {
        "colab": {
          "base_uri": "https://localhost:8080/",
          "height": 300
        },
        "id": "zKAnx6sgM5FQ",
        "outputId": "c427fe9e-c780-4837-b2bd-936c646eee67"
      },
      "execution_count": 49,
      "outputs": [
        {
          "output_type": "execute_result",
          "data": {
            "text/plain": [
              "<sklearn.metrics._plot.confusion_matrix.ConfusionMatrixDisplay at 0x7fd6f96cccd0>"
            ]
          },
          "metadata": {},
          "execution_count": 49
        },
        {
          "output_type": "display_data",
          "data": {
            "text/plain": [
              "<Figure size 432x288 with 2 Axes>"
            ],
            "image/png": "[encoded data removed]"
          },
          "metadata": {
            "needs_background": "light"
          }
        }
      ]
    },
    {
      "cell_type": "code",
      "source": [
        "# 정밀도, 재현율, f함수\n",
        "# 정밀도 최적화와 재현율 최적화는 상충\n",
        "# -> f1-점수 : 정밀도와 재현율을 모두 고려 -> 불균형한 데이터셋에 더 나은 지표\n",
        "from sklearn.metrics import f1_score\n",
        "print(\"빈도 기반 더미 모델의 f1 score : {:.2f}\" .format(f1_score(y_test, pred_most_frequent)))\n",
        "print(\"무작위 더미 모델의 f1 score : {:.2f}\" .format(f1_score(y_test, pred_dummy)))\n",
        "print(\"트리 모델의 f1 score : {:.2f}\" .format(f1_score(y_test, pred_tree)))\n",
        "print(\"로지스틱 회귀 모델의 f1 score : {:.2f}\" .format(f1_score(y_test, pred_logreg)))"
      ],
      "metadata": {
        "id": "BOt3ncG3NOqn",
        "outputId": "6a9a0a00-6804-4032-9c83-a2b2a6898b21",
        "colab": {
          "base_uri": "https://localhost:8080/"
        }
      },
      "execution_count": 50,
      "outputs": [
        {
          "output_type": "stream",
          "name": "stdout",
          "text": [
            "빈도 기반 더미 모델의 f1 score : 0.00\n",
            "무작위 더미 모델의 f1 score : 0.13\n",
            "트리 모델의 f1 score : 0.55\n",
            "로지스틱 회귀 모델의 f1 score : 0.92\n"
          ]
        }
      ]
    },
    {
      "cell_type": "code",
      "source": [
        "#classification report : 정밀도, 재현율, f1-점수를 모두 보여줌\n",
        "from sklearn.metrics import classification_report\n",
        "\n",
        "print(classification_report(y_test, pred_most_frequent, target_names = ['9아님', '9'], zero_division = 0))"
      ],
      "metadata": {
        "id": "MqxEWzPBOYx4",
        "outputId": "68649113-9344-4c79-ef23-3f2faa735e36",
        "colab": {
          "base_uri": "https://localhost:8080/"
        }
      },
      "execution_count": 51,
      "outputs": [
        {
          "output_type": "stream",
          "name": "stdout",
          "text": [
            "              precision    recall  f1-score   support\n",
            "\n",
            "         9아님       0.90      1.00      0.94       403\n",
            "           9       0.00      0.00      0.00        47\n",
            "\n",
            "    accuracy                           0.90       450\n",
            "   macro avg       0.45      0.50      0.47       450\n",
            "weighted avg       0.80      0.90      0.85       450\n",
            "\n"
          ]
        }
      ]
    },
    {
      "cell_type": "code",
      "source": [
        "print(classification_report(y_test, pred_dummy, target_names = ['9아님', '9']))"
      ],
      "metadata": {
        "id": "sxYrqGh-RUXe",
        "outputId": "c133caf7-a60c-4599-c205-2de7ad0e664c",
        "colab": {
          "base_uri": "https://localhost:8080/"
        }
      },
      "execution_count": 52,
      "outputs": [
        {
          "output_type": "stream",
          "name": "stdout",
          "text": [
            "              precision    recall  f1-score   support\n",
            "\n",
            "         9아님       0.90      0.88      0.89       403\n",
            "           9       0.12      0.15      0.13        47\n",
            "\n",
            "    accuracy                           0.80       450\n",
            "   macro avg       0.51      0.51      0.51       450\n",
            "weighted avg       0.82      0.80      0.81       450\n",
            "\n"
          ]
        }
      ]
    },
    {
      "cell_type": "code",
      "source": [
        "print(classification_report(y_test, pred_logreg, target_names = ['9아님', '9']))"
      ],
      "metadata": {
        "id": "3K4889y7Rh8z",
        "outputId": "6f6fa79c-d20c-4402-af9d-0974c1faf9a1",
        "colab": {
          "base_uri": "https://localhost:8080/"
        }
      },
      "execution_count": 53,
      "outputs": [
        {
          "output_type": "stream",
          "name": "stdout",
          "text": [
            "              precision    recall  f1-score   support\n",
            "\n",
            "         9아님       0.99      1.00      0.99       403\n",
            "           9       0.98      0.87      0.92        47\n",
            "\n",
            "    accuracy                           0.98       450\n",
            "   macro avg       0.98      0.93      0.96       450\n",
            "weighted avg       0.98      0.98      0.98       450\n",
            "\n"
          ]
        }
      ]
    },
    {
      "cell_type": "code",
      "source": [
        "# 불확실성 고려\n",
        "X, y = make_blobs(n_samples = (400, 50), cluster_std = [7.0, 2], random_state = 22)\n",
        "X_train, X_test, y_train, y_test = train_test_split(X, y, random_state = 0)\n",
        "svc = SVC(gamma = 0.5).fit(X_train, y_train)\n",
        "\n",
        "mglearn.plots.plot_decision_threshold()"
      ],
      "metadata": {
        "id": "d4yvktDNSkus",
        "outputId": "bebbbef8-c0a0-468c-a667-6cb0ddbd91e9",
        "colab": {
          "base_uri": "https://localhost:8080/",
          "height": 527
        }
      },
      "execution_count": 54,
      "outputs": [
        {
          "output_type": "display_data",
          "data": {
            "text/plain": [
              "<Figure size 1080x576 with 6 Axes>"
            ],
            "image/png": "[encoded data removed]"
          },
          "metadata": {}
        }
      ]
    },
    {
      "cell_type": "code",
      "source": [
        "print(classification_report(y_test, svc.predict(X_test)))"
      ],
      "metadata": {
        "id": "bCpFWrJgjZ6P",
        "outputId": "8b113962-9128-4b41-9e90-d2595c4b5657",
        "colab": {
          "base_uri": "https://localhost:8080/"
        }
      },
      "execution_count": 55,
      "outputs": [
        {
          "output_type": "stream",
          "name": "stdout",
          "text": [
            "              precision    recall  f1-score   support\n",
            "\n",
            "           0       0.94      0.88      0.91       104\n",
            "           1       0.20      0.33      0.25         9\n",
            "\n",
            "    accuracy                           0.84       113\n",
            "   macro avg       0.57      0.61      0.58       113\n",
            "weighted avg       0.88      0.84      0.86       113\n",
            "\n"
          ]
        }
      ]
    },
    {
      "cell_type": "code",
      "source": [
        "# 1의 재현율을 높이는게 중요할 경우 -> 임계값을 낮춰 조정할 수 있음\n",
        "y_pred_lower_threshold = svc.decision_function(X_test) > -.8\n",
        "\n",
        "print(classification_report(y_test, y_pred_lower_threshold))"
      ],
      "metadata": {
        "id": "9TxvEqSOjlwo",
        "outputId": "94d82134-bf3f-4868-b392-636dee364e25",
        "colab": {
          "base_uri": "https://localhost:8080/"
        }
      },
      "execution_count": 58,
      "outputs": [
        {
          "output_type": "stream",
          "name": "stdout",
          "text": [
            "              precision    recall  f1-score   support\n",
            "\n",
            "           0       1.00      0.81      0.89       104\n",
            "           1       0.31      1.00      0.47         9\n",
            "\n",
            "    accuracy                           0.82       113\n",
            "   macro avg       0.66      0.90      0.68       113\n",
            "weighted avg       0.95      0.82      0.86       113\n",
            "\n"
          ]
        }
      ]
    },
    {
      "cell_type": "code",
      "source": [
        "# 정밀도-재현율 곡선과 ROC곡선\n",
        "# 정밀도와 재현율은 상충관계 -> 목표에 따라 임계값을 설정\n",
        "\n",
        "# 정밀도-재현율 곡선 : 모든 임계값에 대해 정밀도와 재현율의 값을 리스트로 반환\n",
        "from sklearn.metrics import precision_recall_curve\n",
        "precision, recall, thresholds = precision_recall_curve(y_test, svc.decision_function(X_test))\n",
        "\n",
        "# 곡선 그려보기\n",
        "X, y = make_blobs(n_samples = (4000, 500), cluster_std = [7.0,2], random_state = 22)\n",
        "\n",
        "X_train, X_test, y_train, y_test = train_test_split(X, y, random_state = 0)\n",
        "\n",
        "svc = SVC(gamma = .05).fit(X_train, y_train)\n",
        "\n",
        "precision, recall, thresholds = precision_recall_curve(y_test, svc.decision_function(X_test))\n",
        "close_zero = np.argmin(np.abs(thresholds))\n",
        "plt.plot(precision[close_zero], recall[close_zero], 'o', markersize = 10, label = \"임계값 0\", fillstyle = \"none\", c = 'k', mew = 2)\n",
        "plt.plot(precision, recall, label=\"정밀도-재현율 곡선\")\n",
        "plt.xlabel(\"정밀도\")\n",
        "plt.ylabel(\"재현율\")"
      ],
      "metadata": {
        "id": "FBHKVAkfkSVd",
        "outputId": "bc4318e1-efc0-4c2f-c6c7-6025cd221003",
        "colab": {
          "base_uri": "https://localhost:8080/",
          "height": 297
        }
      },
      "execution_count": 63,
      "outputs": [
        {
          "output_type": "execute_result",
          "data": {
            "text/plain": [
              "Text(0, 0.5, '재현율')"
            ]
          },
          "metadata": {},
          "execution_count": 63
        },
        {
          "output_type": "display_data",
          "data": {
            "text/plain": [
              "<Figure size 432x288 with 1 Axes>"
            ],
            "image/png": "[encoded data removed]"
          },
          "metadata": {
            "needs_background": "light"
          }
        }
      ]
    },
    {
      "cell_type": "code",
      "source": [
        "from sklearn.ensemble import RandomForestClassifier\n",
        "\n",
        "rf = RandomForestClassifier(n_estimators=100, random_state = 0, max_features = 2)\n",
        "rf.fit(X_train, y_train)\n",
        "\n",
        "# predict_proba 사용\n",
        "precision_rf, recall_rf, thresholds_rf = precision_recall_curve(y_test, rf.predict_proba(X_test)[:, 1])\n",
        "\n",
        "plt.plot(precision, recall, label=\"svc\")\n",
        "plt.plot(precision[close_zero], recall[close_zero], 'o', markersize = 10, label = \"임계값 0\", fillstyle = \"none\", c = 'k', mew = 2)\n",
        "\n",
        "plt.plot(precision_rf, recall_rf, label=\"rf\")\n",
        "close_default_rf = np.argmin(np.abs(thresholds_rf - 0.5))\n",
        "plt.plot(precision_rf[close_default_rf], recall_rf[close_default_rf], '^', markersize = 10, label = \"rf : 임계값 0.5\", fillstyle = \"none\", c = 'k', mew = 2)\n",
        "plt.xlabel(\"정밀도\")\n",
        "plt.ylabel(\"재현율\")\n",
        "plt.legend(loc=\"best\")"
      ],
      "metadata": {
        "id": "tQaugwWnnrYO",
        "outputId": "9d6c593c-9420-4b6b-fcc0-4ea69725ddf6",
        "colab": {
          "base_uri": "https://localhost:8080/",
          "height": 297
        }
      },
      "execution_count": 65,
      "outputs": [
        {
          "output_type": "execute_result",
          "data": {
            "text/plain": [
              "<matplotlib.legend.Legend at 0x7fd6f97198b0>"
            ]
          },
          "metadata": {},
          "execution_count": 65
        },
        {
          "output_type": "display_data",
          "data": {
            "text/plain": [
              "<Figure size 432x288 with 1 Axes>"
            ],
            "image/png": "[encoded data removed]"
          },
          "metadata": {
            "needs_background": "light"
          }
        }
      ]
    },
    {
      "cell_type": "code",
      "source": [
        "print(\"랜덤 포레스트의 f1_score: {:.3f}\".format(f1_score(y_test, rf.predict(X_test))))\n",
        "print(\"svc의 f1_score: {:.3f}\".format(f1_score(y_test, svc.predict(X_test))))"
      ],
      "metadata": {
        "id": "K-6M7_e5p77x",
        "outputId": "5b8981f6-8946-4cab-c9f2-65f316306362",
        "colab": {
          "base_uri": "https://localhost:8080/"
        }
      },
      "execution_count": 66,
      "outputs": [
        {
          "output_type": "stream",
          "name": "stdout",
          "text": [
            "랜덤 포레스트의 f1_score: 0.610\n",
            "svc의 f1_score: 0.656\n"
          ]
        }
      ]
    },
    {
      "cell_type": "code",
      "source": [
        "# 평균 정밀도 : 정밀도-재현율 곡선의 아랫부분 면적을 계산\n",
        "from sklearn.metrics import average_precision_score\n",
        "ap_rf = average_precision_score(y_test, rf.predict_proba(X_test)[:, 1])\n",
        "ap_svc = average_precision_score(y_test, svc.decision_function(X_test))\n",
        "print(\"랜덤 포레스트의 평균 정밀도 : {:.3f}\" .format(ap_rf))\n",
        "print(\"svc의 평균 정밀도 : {:.3f}\" .format(ap_svc))"
      ],
      "metadata": {
        "id": "xUjYrMY8qAOZ",
        "outputId": "412ec15c-f0f3-451e-ff15-442b11294474",
        "colab": {
          "base_uri": "https://localhost:8080/"
        }
      },
      "execution_count": 68,
      "outputs": [
        {
          "output_type": "stream",
          "name": "stdout",
          "text": [
            "랜덤 포레스트의 평균 정밀도 : 0.660\n",
            "svc의 평균 정밀도 : 0.666\n"
          ]
        }
      ]
    },
    {
      "cell_type": "code",
      "source": [
        "# PrecisionRecallDisplay 함수를 통해 곡선을 쉽게 그릴 수 있음\n",
        "from sklearn.metrics import PrecisionRecallDisplay\n",
        "\n",
        "fig, ax = plt.subplots()\n",
        "PrecisionRecallDisplay.from_estimator(svc, X_test, y_test, ax =ax)\n",
        "PrecisionRecallDisplay.from_estimator(rf, X_test, y_test, ax = ax)\n",
        "plt.show()"
      ],
      "metadata": {
        "id": "ui4AYC_vq2Mg",
        "outputId": "db62112a-c57e-4299-ffb1-84e5e687a72a",
        "colab": {
          "base_uri": "https://localhost:8080/",
          "height": 279
        }
      },
      "execution_count": 71,
      "outputs": [
        {
          "output_type": "display_data",
          "data": {
            "text/plain": [
              "<Figure size 432x288 with 1 Axes>"
            ],
            "image/png": "[encoded data removed]"
          },
          "metadata": {
            "needs_background": "light"
          }
        }
      ]
    },
    {
      "cell_type": "code",
      "source": [
        "# ROC와 AUC\n",
        "# ROC곡선 : 모든 임계값을 고려 + TPR(재현율)와 FPR을 고려\n",
        "from sklearn.metrics import roc_curve\n",
        "fpr, tpr, thresholds = roc_curve(y_test, svc.decision_function(X_test))\n",
        "\n"
      ],
      "metadata": {
        "id": "P4Eobc5qr6_G"
      },
      "execution_count": null,
      "outputs": []
    }
  ]
}