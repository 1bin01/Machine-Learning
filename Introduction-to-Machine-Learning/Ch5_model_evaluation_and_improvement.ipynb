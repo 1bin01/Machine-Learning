{
  "nbformat": 4,
  "nbformat_minor": 0,
  "metadata": {
    "colab": {
      "provenance": [],
      "authorship_tag": "ABX9TyPRS9KRcUNgTa7DrFYfwX4g",
      "include_colab_link": true
    },
    "kernelspec": {
      "name": "python3",
      "display_name": "Python 3"
    },
    "language_info": {
      "name": "python"
    }
  },
  "cells": [
    {
      "cell_type": "markdown",
      "metadata": {
        "id": "view-in-github",
        "colab_type": "text"
      },
      "source": [
        "<a href=\"https://colab.research.google.com/github/1bin01/Machine-Learning/blob/main/Introduction-to-Machine-Learning/Ch5_model_evaluation_and_improvement.ipynb\" target=\"_parent\"><img src=\"https://colab.research.google.com/assets/colab-badge.svg\" alt=\"Open In Colab\"/></a>"
      ]
    },
    {
      "cell_type": "code",
      "execution_count": 1,
      "metadata": {
        "colab": {
          "base_uri": "https://localhost:8080/"
        },
        "id": "SKK_-XZeuxi7",
        "outputId": "0c48c406-13a3-4a28-dc18-c09b6f570fab"
      },
      "outputs": [
        {
          "output_type": "stream",
          "name": "stdout",
          "text": [
            "Looking in indexes: https://pypi.org/simple, https://us-python.pkg.dev/colab-wheels/public/simple/\n",
            "Requirement already satisfied: mglearn in /usr/local/lib/python3.8/dist-packages (0.1.9)\n",
            "Requirement already satisfied: pandas in /usr/local/lib/python3.8/dist-packages (from mglearn) (1.3.5)\n",
            "Requirement already satisfied: joblib in /usr/local/lib/python3.8/dist-packages (from mglearn) (1.1.0)\n",
            "Requirement already satisfied: pillow in /usr/local/lib/python3.8/dist-packages (from mglearn) (7.1.2)\n",
            "Requirement already satisfied: scikit-learn in /usr/local/lib/python3.8/dist-packages (from mglearn) (1.0.2)\n",
            "Requirement already satisfied: cycler in /usr/local/lib/python3.8/dist-packages (from mglearn) (0.11.0)\n",
            "Requirement already satisfied: numpy in /usr/local/lib/python3.8/dist-packages (from mglearn) (1.21.6)\n",
            "Requirement already satisfied: matplotlib in /usr/local/lib/python3.8/dist-packages (from mglearn) (3.2.2)\n",
            "Requirement already satisfied: imageio in /usr/local/lib/python3.8/dist-packages (from mglearn) (2.9.0)\n",
            "Requirement already satisfied: python-dateutil>=2.1 in /usr/local/lib/python3.8/dist-packages (from matplotlib->mglearn) (2.8.2)\n",
            "Requirement already satisfied: pyparsing!=2.0.4,!=2.1.2,!=2.1.6,>=2.0.1 in /usr/local/lib/python3.8/dist-packages (from matplotlib->mglearn) (3.0.9)\n",
            "Requirement already satisfied: kiwisolver>=1.0.1 in /usr/local/lib/python3.8/dist-packages (from matplotlib->mglearn) (1.4.4)\n",
            "Requirement already satisfied: six>=1.5 in /usr/local/lib/python3.8/dist-packages (from python-dateutil>=2.1->matplotlib->mglearn) (1.15.0)\n",
            "Requirement already satisfied: pytz>=2017.3 in /usr/local/lib/python3.8/dist-packages (from pandas->mglearn) (2022.6)\n",
            "Requirement already satisfied: scipy>=1.1.0 in /usr/local/lib/python3.8/dist-packages (from scikit-learn->mglearn) (1.7.3)\n",
            "Requirement already satisfied: threadpoolctl>=2.0.0 in /usr/local/lib/python3.8/dist-packages (from scikit-learn->mglearn) (3.1.0)\n",
            "Looking in indexes: https://pypi.org/simple, https://us-python.pkg.dev/colab-wheels/public/simple/\n",
            "Requirement already satisfied: joblib==1.1.0 in /usr/local/lib/python3.8/dist-packages (1.1.0)\n",
            "Reading package lists... Done\n",
            "Building dependency tree       \n",
            "Reading state information... Done\n",
            "fonts-nanum is already the newest version (20170925-1).\n",
            "The following package was automatically installed and is no longer required:\n",
            "  libnvidia-common-460\n",
            "Use 'sudo apt autoremove' to remove it.\n",
            "0 upgraded, 0 newly installed, 0 to remove and 20 not upgraded.\n",
            "/usr/share/fonts: caching, new cache contents: 0 fonts, 1 dirs\n",
            "/usr/share/fonts/truetype: caching, new cache contents: 0 fonts, 3 dirs\n",
            "/usr/share/fonts/truetype/humor-sans: caching, new cache contents: 1 fonts, 0 dirs\n",
            "/usr/share/fonts/truetype/liberation: caching, new cache contents: 16 fonts, 0 dirs\n",
            "/usr/share/fonts/truetype/nanum: caching, new cache contents: 10 fonts, 0 dirs\n",
            "/usr/local/share/fonts: caching, new cache contents: 0 fonts, 0 dirs\n",
            "/root/.local/share/fonts: skipping, no such directory\n",
            "/root/.fonts: skipping, no such directory\n",
            "/var/cache/fontconfig: cleaning cache directory\n",
            "/root/.cache/fontconfig: not cleaning non-existent cache directory\n",
            "/root/.fontconfig: not cleaning non-existent cache directory\n",
            "fc-cache: succeeded\n"
          ]
        }
      ],
      "source": [
        "!pip install mglearn\n",
        "!pip install --upgrade joblib==1.1.0\n",
        "!pip install -q --upgrade scikit-learn==1.0.2\n",
        "import numpy as np\n",
        "import matplotlib.pyplot as plt\n",
        "import pandas as pd\n",
        "import mglearn\n",
        "\n",
        "from importlib import reload  # plt 다시 그릴 때\n",
        "import warnings\n",
        "warnings.simplefilter(action='ignore', category=FutureWarning) # FutureWarning 경고 제거 (없어도 문제는 x)\n",
        "\n",
        "# 나눔 포트 설정 (런타임 다시 시작 해줘야됨!)\n",
        "import matplotlib as mpl\n",
        "!sudo apt-get install -y fonts-nanum\n",
        "!sudo fc-cache -fv\n",
        "!rm ~/.cache/matplotlib -rf\n",
        "plt.rc('font', family='NanumBarunGothic')\n",
        "mpl.rc('axes', unicode_minus=False)\n",
        "     "
      ]
    },
    {
      "cell_type": "markdown",
      "source": [
        "## 5.1 교차 검증"
      ],
      "metadata": {
        "id": "vqMSkTZsvI3A"
      }
    },
    {
      "cell_type": "code",
      "source": [
        "# 데이터를 여러 번 반복해 나누고 여러 모델을 학습\n",
        "\n",
        "mglearn.plots.plot_cross_validation()"
      ],
      "metadata": {
        "colab": {
          "base_uri": "https://localhost:8080/",
          "height": 186
        },
        "id": "BoO7Q480vNyP",
        "outputId": "be9e5b59-2446-461f-bb67-b208f2a7befe"
      },
      "execution_count": 2,
      "outputs": [
        {
          "output_type": "display_data",
          "data": {
            "text/plain": [
              "<Figure size 864x144 with 1 Axes>"
            ],
            "image/png": "[encoded data removed]"
          },
          "metadata": {
            "needs_background": "light"
          }
        }
      ]
    },
    {
      "cell_type": "markdown",
      "source": [
        "## 5.1.1 scikit-learn의 교차 검증"
      ],
      "metadata": {
        "id": "tz73UHM-v6pW"
      }
    },
    {
      "cell_type": "code",
      "source": [
        "# iris 데이터 셋을 적용한 Logistic Regression 모델 평가하기\n",
        "\n",
        "from sklearn.model_selection import cross_val_score\n",
        "from sklearn.datasets import load_iris\n",
        "from sklearn.linear_model import LogisticRegression\n",
        "\n",
        "iris = load_iris()\n",
        "logreg = LogisticRegression(max_iter = 1000)\n",
        "\n",
        "scores = cross_val_score(logreg, iris.data, iris.target)\n",
        "print(\"교차 검증 점수 : \", scores)"
      ],
      "metadata": {
        "colab": {
          "base_uri": "https://localhost:8080/"
        },
        "id": "9GpHH_TWv-a1",
        "outputId": "0e7f4ed1-9791-46d2-ecb0-723a41efb292"
      },
      "execution_count": 3,
      "outputs": [
        {
          "output_type": "stream",
          "name": "stdout",
          "text": [
            "교차 검증 점수 :  [0.96666667 1.         0.93333333 0.96666667 1.        ]\n"
          ]
        }
      ]
    },
    {
      "cell_type": "code",
      "source": [
        "# cv 매개변수로 폴드의 수 바꾸기\n",
        "scores = cross_val_score(logreg, iris.data, iris.target, cv = 10)\n",
        "print(\"교차 검증 점수 : \", scores)"
      ],
      "metadata": {
        "colab": {
          "base_uri": "https://localhost:8080/"
        },
        "id": "4ps79BBDwsxU",
        "outputId": "8b214ba9-cada-4692-e85c-d4b3343a5e16"
      },
      "execution_count": 4,
      "outputs": [
        {
          "output_type": "stream",
          "name": "stdout",
          "text": [
            "교차 검증 점수 :  [1.         0.93333333 1.         1.         0.93333333 0.93333333\n",
            " 0.93333333 1.         1.         1.        ]\n"
          ]
        }
      ]
    },
    {
      "cell_type": "code",
      "source": [
        "# 교차 검증 평균 점수\n",
        "print(\"교차 검증 평균 점수 : {:.2f}\" .format(scores.mean()))"
      ],
      "metadata": {
        "colab": {
          "base_uri": "https://localhost:8080/"
        },
        "id": "AImxw6v3w4Q4",
        "outputId": "af2ebd7f-5467-46d4-fb9f-7f242207875c"
      },
      "execution_count": 5,
      "outputs": [
        {
          "output_type": "stream",
          "name": "stdout",
          "text": [
            "교차 검증 평균 점수 : 0.97\n"
          ]
        }
      ]
    },
    {
      "cell_type": "code",
      "source": [
        "# cross_validate : 훈련과 테스트에 걸린 시간을 딕셔너리로 반환\n",
        "from sklearn.model_selection import cross_validate\n",
        "\n",
        "res = cross_validate(logreg, iris.data, iris.target, return_train_score = True)\n",
        "res"
      ],
      "metadata": {
        "colab": {
          "base_uri": "https://localhost:8080/"
        },
        "id": "xYzCFh0ExCBG",
        "outputId": "9c2b712d-be7b-490a-db89-9365d3221a2b"
      },
      "execution_count": 6,
      "outputs": [
        {
          "output_type": "execute_result",
          "data": {
            "text/plain": [
              "{'fit_time': array([0.03658628, 0.04139805, 0.02360201, 0.02532458, 0.02421117]),\n",
              " 'score_time': array([0.00042367, 0.0004344 , 0.00040698, 0.00061035, 0.00043249]),\n",
              " 'test_score': array([0.96666667, 1.        , 0.93333333, 0.96666667, 1.        ]),\n",
              " 'train_score': array([0.96666667, 0.96666667, 0.98333333, 0.98333333, 0.975     ])}"
            ]
          },
          "metadata": {},
          "execution_count": 6
        }
      ]
    },
    {
      "cell_type": "code",
      "source": [
        "res_df = pd.DataFrame(res)\n",
        "res_df"
      ],
      "metadata": {
        "colab": {
          "base_uri": "https://localhost:8080/",
          "height": 204
        },
        "id": "ZlYbes7fxe13",
        "outputId": "8055749a-9ea0-49c9-d544-ad30f6007904"
      },
      "execution_count": 7,
      "outputs": [
        {
          "output_type": "execute_result",
          "data": {
            "text/plain": [
              "   fit_time  score_time  test_score  train_score\n",
              "0  0.036586    0.000424    0.966667     0.966667\n",
              "1  0.041398    0.000434    1.000000     0.966667\n",
              "2  0.023602    0.000407    0.933333     0.983333\n",
              "3  0.025325    0.000610    0.966667     0.983333\n",
              "4  0.024211    0.000432    1.000000     0.975000"
            ],
            "text/html": [
              "\n",
              "  <div id=\"df-0eb6df05-615a-47d7-815f-13beb390ee8e\">\n",
              "    <div class=\"colab-df-container\">\n",
              "      <div>\n",
              "<style scoped>\n",
              "    .dataframe tbody tr th:only-of-type {\n",
              "        vertical-align: middle;\n",
              "    }\n",
              "\n",
              "    .dataframe tbody tr th {\n",
              "        vertical-align: top;\n",
              "    }\n",
              "\n",
              "    .dataframe thead th {\n",
              "        text-align: right;\n",
              "    }\n",
              "</style>\n",
              "<table border=\"1\" class=\"dataframe\">\n",
              "  <thead>\n",
              "    <tr style=\"text-align: right;\">\n",
              "      <th></th>\n",
              "      <th>fit_time</th>\n",
              "      <th>score_time</th>\n",
              "      <th>test_score</th>\n",
              "      <th>train_score</th>\n",
              "    </tr>\n",
              "  </thead>\n",
              "  <tbody>\n",
              "    <tr>\n",
              "      <th>0</th>\n",
              "      <td>0.036586</td>\n",
              "      <td>0.000424</td>\n",
              "      <td>0.966667</td>\n",
              "      <td>0.966667</td>\n",
              "    </tr>\n",
              "    <tr>\n",
              "      <th>1</th>\n",
              "      <td>0.041398</td>\n",
              "      <td>0.000434</td>\n",
              "      <td>1.000000</td>\n",
              "      <td>0.966667</td>\n",
              "    </tr>\n",
              "    <tr>\n",
              "      <th>2</th>\n",
              "      <td>0.023602</td>\n",
              "      <td>0.000407</td>\n",
              "      <td>0.933333</td>\n",
              "      <td>0.983333</td>\n",
              "    </tr>\n",
              "    <tr>\n",
              "      <th>3</th>\n",
              "      <td>0.025325</td>\n",
              "      <td>0.000610</td>\n",
              "      <td>0.966667</td>\n",
              "      <td>0.983333</td>\n",
              "    </tr>\n",
              "    <tr>\n",
              "      <th>4</th>\n",
              "      <td>0.024211</td>\n",
              "      <td>0.000432</td>\n",
              "      <td>1.000000</td>\n",
              "      <td>0.975000</td>\n",
              "    </tr>\n",
              "  </tbody>\n",
              "</table>\n",
              "</div>\n",
              "      <button class=\"colab-df-convert\" onclick=\"convertToInteractive('df-0eb6df05-615a-47d7-815f-13beb390ee8e')\"\n",
              "              title=\"Convert this dataframe to an interactive table.\"\n",
              "              style=\"display:none;\">\n",
              "        \n",
              "  <svg xmlns=\"http://www.w3.org/2000/svg\" height=\"24px\"viewBox=\"0 0 24 24\"\n",
              "       width=\"24px\">\n",
              "    <path d=\"M0 0h24v24H0V0z\" fill=\"none\"/>\n",
              "    <path d=\"M18.56 5.44l.94 2.06.94-2.06 2.06-.94-2.06-.94-.94-2.06-.94 2.06-2.06.94zm-11 1L8.5 8.5l.94-2.06 2.06-.94-2.06-.94L8.5 2.5l-.94 2.06-2.06.94zm10 10l.94 2.06.94-2.06 2.06-.94-2.06-.94-.94-2.06-.94 2.06-2.06.94z\"/><path d=\"M17.41 7.96l-1.37-1.37c-.4-.4-.92-.59-1.43-.59-.52 0-1.04.2-1.43.59L10.3 9.45l-7.72 7.72c-.78.78-.78 2.05 0 2.83L4 21.41c.39.39.9.59 1.41.59.51 0 1.02-.2 1.41-.59l7.78-7.78 2.81-2.81c.8-.78.8-2.07 0-2.86zM5.41 20L4 18.59l7.72-7.72 1.47 1.35L5.41 20z\"/>\n",
              "  </svg>\n",
              "      </button>\n",
              "      \n",
              "  <style>\n",
              "    .colab-df-container {\n",
              "      display:flex;\n",
              "      flex-wrap:wrap;\n",
              "      gap: 12px;\n",
              "    }\n",
              "\n",
              "    .colab-df-convert {\n",
              "      background-color: #E8F0FE;\n",
              "      border: none;\n",
              "      border-radius: 50%;\n",
              "      cursor: pointer;\n",
              "      display: none;\n",
              "      fill: #1967D2;\n",
              "      height: 32px;\n",
              "      padding: 0 0 0 0;\n",
              "      width: 32px;\n",
              "    }\n",
              "\n",
              "    .colab-df-convert:hover {\n",
              "      background-color: #E2EBFA;\n",
              "      box-shadow: 0px 1px 2px rgba(60, 64, 67, 0.3), 0px 1px 3px 1px rgba(60, 64, 67, 0.15);\n",
              "      fill: #174EA6;\n",
              "    }\n",
              "\n",
              "    [theme=dark] .colab-df-convert {\n",
              "      background-color: #3B4455;\n",
              "      fill: #D2E3FC;\n",
              "    }\n",
              "\n",
              "    [theme=dark] .colab-df-convert:hover {\n",
              "      background-color: #434B5C;\n",
              "      box-shadow: 0px 1px 3px 1px rgba(0, 0, 0, 0.15);\n",
              "      filter: drop-shadow(0px 1px 2px rgba(0, 0, 0, 0.3));\n",
              "      fill: #FFFFFF;\n",
              "    }\n",
              "  </style>\n",
              "\n",
              "      <script>\n",
              "        const buttonEl =\n",
              "          document.querySelector('#df-0eb6df05-615a-47d7-815f-13beb390ee8e button.colab-df-convert');\n",
              "        buttonEl.style.display =\n",
              "          google.colab.kernel.accessAllowed ? 'block' : 'none';\n",
              "\n",
              "        async function convertToInteractive(key) {\n",
              "          const element = document.querySelector('#df-0eb6df05-615a-47d7-815f-13beb390ee8e');\n",
              "          const dataTable =\n",
              "            await google.colab.kernel.invokeFunction('convertToInteractive',\n",
              "                                                     [key], {});\n",
              "          if (!dataTable) return;\n",
              "\n",
              "          const docLinkHtml = 'Like what you see? Visit the ' +\n",
              "            '<a target=\"_blank\" href=https://colab.research.google.com/notebooks/data_table.ipynb>data table notebook</a>'\n",
              "            + ' to learn more about interactive tables.';\n",
              "          element.innerHTML = '';\n",
              "          dataTable['output_type'] = 'display_data';\n",
              "          await google.colab.output.renderOutput(dataTable, element);\n",
              "          const docLink = document.createElement('div');\n",
              "          docLink.innerHTML = docLinkHtml;\n",
              "          element.appendChild(docLink);\n",
              "        }\n",
              "      </script>\n",
              "    </div>\n",
              "  </div>\n",
              "  "
            ]
          },
          "metadata": {},
          "execution_count": 7
        }
      ]
    },
    {
      "cell_type": "markdown",
      "source": [
        "## 5.1.3 계층별 k-겹 교차 검증과 그외 전략들"
      ],
      "metadata": {
        "id": "MeaK2NIMxpDl"
      }
    },
    {
      "cell_type": "code",
      "source": [
        "from sklearn.datasets import load_iris\n",
        "iris = load_iris()\n",
        "print(\"iris label :\\n\", iris.target)"
      ],
      "metadata": {
        "id": "ZuEFYlURxsDH",
        "outputId": "bf1f81b2-da41-45a9-b4b0-3d8635187522",
        "colab": {
          "base_uri": "https://localhost:8080/"
        }
      },
      "execution_count": 8,
      "outputs": [
        {
          "output_type": "stream",
          "name": "stdout",
          "text": [
            "iris label :\n",
            " [0 0 0 0 0 0 0 0 0 0 0 0 0 0 0 0 0 0 0 0 0 0 0 0 0 0 0 0 0 0 0 0 0 0 0 0 0\n",
            " 0 0 0 0 0 0 0 0 0 0 0 0 0 1 1 1 1 1 1 1 1 1 1 1 1 1 1 1 1 1 1 1 1 1 1 1 1\n",
            " 1 1 1 1 1 1 1 1 1 1 1 1 1 1 1 1 1 1 1 1 1 1 1 1 1 1 2 2 2 2 2 2 2 2 2 2 2\n",
            " 2 2 2 2 2 2 2 2 2 2 2 2 2 2 2 2 2 2 2 2 2 2 2 2 2 2 2 2 2 2 2 2 2 2 2 2 2\n",
            " 2 2]\n"
          ]
        }
      ]
    },
    {
      "cell_type": "code",
      "source": [
        "mglearn.plots.plot_stratified_cross_validation()"
      ],
      "metadata": {
        "id": "YU8mFbcM6fhS",
        "outputId": "ffaffccf-79f0-45ef-eb06-4283926a7e6a",
        "colab": {
          "base_uri": "https://localhost:8080/",
          "height": 369
        }
      },
      "execution_count": 9,
      "outputs": [
        {
          "output_type": "display_data",
          "data": {
            "text/plain": [
              "<Figure size 864x360 with 2 Axes>"
            ],
            "image/png": "[encoded data removed]"
          },
          "metadata": {
            "needs_background": "light"
          }
        }
      ]
    },
    {
      "cell_type": "code",
      "source": [
        "# cv 매개변수에 교차 검증 분할기를 전달 -> 데이터 분할을 제어\n",
        "# KFold <- 기본 k겹 교차 검증 재현\n",
        "\n",
        "from sklearn.model_selection import KFold\n",
        "kfold = KFold(n_splits = 5)\n",
        "print(\"교차 검증 점수 : \", cross_val_score(logreg, iris.data, iris.target, cv = kfold))"
      ],
      "metadata": {
        "id": "pFcw61Av66qU",
        "outputId": "df5c6af5-b65a-48da-de26-9a4c46b150c1",
        "colab": {
          "base_uri": "https://localhost:8080/"
        }
      },
      "execution_count": 10,
      "outputs": [
        {
          "output_type": "stream",
          "name": "stdout",
          "text": [
            "교차 검증 점수 :  [1.         1.         0.86666667 0.93333333 0.83333333]\n"
          ]
        }
      ]
    },
    {
      "cell_type": "code",
      "source": [
        "kfold = KFold(n_splits = 3)\n",
        "print(\"교차 검증 점수 : \", cross_val_score(logreg, iris.data, iris.target, cv = kfold))"
      ],
      "metadata": {
        "id": "BAvTk1I_7y28",
        "outputId": "885d2534-d282-4bd8-a984-f2c412be2382",
        "colab": {
          "base_uri": "https://localhost:8080/"
        }
      },
      "execution_count": 11,
      "outputs": [
        {
          "output_type": "stream",
          "name": "stdout",
          "text": [
            "교차 검증 점수 :  [0. 0. 0.]\n"
          ]
        }
      ]
    },
    {
      "cell_type": "code",
      "source": [
        "# 데이터를 섞어서 샘플의 순서를 랜덤하게 바꿈 (KFold 의 shuffle = True)\n",
        "kfold = KFold(n_splits = 3, shuffle = True, random_state = 0)\n",
        "print(\"교차 검증 점수 : \", cross_val_score(logreg, iris.data, iris.target, cv = kfold))"
      ],
      "metadata": {
        "id": "FzNkSApI7mQK",
        "outputId": "1de28b48-b70c-439b-a2af-e775f57c07d7",
        "colab": {
          "base_uri": "https://localhost:8080/"
        }
      },
      "execution_count": 12,
      "outputs": [
        {
          "output_type": "stream",
          "name": "stdout",
          "text": [
            "교차 검증 점수 :  [0.98 0.96 0.96]\n"
          ]
        }
      ]
    },
    {
      "cell_type": "code",
      "source": [
        "# 폴드 하나에 샘플 하나가 있는 k겹 교차 검증\n",
        "from sklearn.model_selection import LeaveOneOut\n",
        "loo = LeaveOneOut()\n",
        "scores = cross_val_score(logreg, iris.data, iris.target, cv = loo)\n",
        "print(\"교차 검증 분할 횟수 : \", len(scores))\n",
        "print(\"평균 정확도 : {:.2f}\" .format(scores.mean()))"
      ],
      "metadata": {
        "id": "Y9mUjrfA8IPL",
        "outputId": "28905586-9b0c-4218-8b00-ce3fd6362279",
        "colab": {
          "base_uri": "https://localhost:8080/"
        }
      },
      "execution_count": 13,
      "outputs": [
        {
          "output_type": "stream",
          "name": "stdout",
          "text": [
            "교차 검증 분할 횟수 :  150\n",
            "평균 정확도 : 0.97\n"
          ]
        }
      ]
    },
    {
      "cell_type": "code",
      "source": [
        "# 임의 분할 교차 검증 : train set, test set, split 횟수를 독립적으로 조정\n",
        "mglearn.plots.plot_shuffle_split()"
      ],
      "metadata": {
        "id": "43cycNDd8zp1",
        "outputId": "18aa15c1-e6dc-4795-eaef-0168631579ba",
        "colab": {
          "base_uri": "https://localhost:8080/",
          "height": 153
        }
      },
      "execution_count": 14,
      "outputs": [
        {
          "output_type": "display_data",
          "data": {
            "text/plain": [
              "<Figure size 720x144 with 1 Axes>"
            ],
            "image/png": "[encoded data removed]"
          },
          "metadata": {
            "needs_background": "light"
          }
        }
      ]
    },
    {
      "cell_type": "code",
      "source": [
        "from sklearn.model_selection import ShuffleSplit\n",
        "shuffle_split = ShuffleSplit(test_size = .5, train_size = .5, n_splits = 10)\n",
        "scores = cross_val_score(logreg, iris.data, iris.target, cv = shuffle_split)\n",
        "print(\"교차 검증 점수 :\\n\", scores)"
      ],
      "metadata": {
        "id": "SMkgkfrL9FtS",
        "outputId": "88d9030d-03b9-497a-d17c-3b8da49dcf96",
        "colab": {
          "base_uri": "https://localhost:8080/"
        }
      },
      "execution_count": 15,
      "outputs": [
        {
          "output_type": "stream",
          "name": "stdout",
          "text": [
            "교차 검증 점수 :\n",
            " [0.98666667 0.97333333 0.94666667 0.96       0.96       0.94666667\n",
            " 0.98666667 0.97333333 0.98666667 0.98666667]\n"
          ]
        }
      ]
    },
    {
      "cell_type": "code",
      "source": [
        "# 그룹별 교차 검증 -> train set와 test set에 서로 다른 그룹이 들어가도록 함\n",
        "from sklearn.model_selection import GroupKFold\n",
        "from sklearn.datasets import make_blobs\n",
        "\n",
        "X, y = make_blobs(n_samples = 12, random_state = 0)\n",
        "groups = [0, 0,0, 1, 1, 1, 1, 2, 2, 3, 3, 3]\n",
        "scores = cross_val_score(logreg, X, y, groups = groups, cv = GroupKFold(n_splits = 3))\n",
        "print(\"교차 검증 점수 :\\n\", scores);"
      ],
      "metadata": {
        "id": "k1mUksnF9m6I",
        "outputId": "f9f993b9-63da-4e68-f803-4309d47bc17e",
        "colab": {
          "base_uri": "https://localhost:8080/"
        }
      },
      "execution_count": 16,
      "outputs": [
        {
          "output_type": "stream",
          "name": "stdout",
          "text": [
            "교차 검증 점수 :\n",
            " [0.75       0.6        0.66666667]\n"
          ]
        }
      ]
    },
    {
      "cell_type": "code",
      "source": [
        "mglearn.plots.plot_group_kfold()"
      ],
      "metadata": {
        "id": "06QeqvxI-VDS",
        "outputId": "68ff725f-c9d6-42a3-b2c4-cd3a9db05e25",
        "colab": {
          "base_uri": "https://localhost:8080/",
          "height": 153
        }
      },
      "execution_count": 17,
      "outputs": [
        {
          "output_type": "display_data",
          "data": {
            "text/plain": [
              "<Figure size 720x144 with 1 Axes>"
            ],
            "image/png": "[encoded data removed]"
          },
          "metadata": {
            "needs_background": "light"
          }
        }
      ]
    },
    {
      "cell_type": "markdown",
      "source": [
        "##5.1.4 반복 교차 검증"
      ],
      "metadata": {
        "id": "50IomrdV-eBD"
      }
    },
    {
      "cell_type": "code",
      "source": [
        "from sklearn.model_selection import RepeatedStratifiedKFold\n",
        "rskfold = RepeatedStratifiedKFold(random_state = 42)\n",
        "scores = cross_val_score(logreg, iris.data, iris.target, cv = rskfold)\n",
        "print(\"교차 검증 점수 :\\n\", scores)\n",
        "print(\"교차 검증 평균 점수 : {:.2f}\" .format(scores.mean()))"
      ],
      "metadata": {
        "id": "NmCLef_T-gb5",
        "outputId": "bdbc7d87-3a7c-441e-e3ea-e79fb2569ead",
        "colab": {
          "base_uri": "https://localhost:8080/"
        }
      },
      "execution_count": 18,
      "outputs": [
        {
          "output_type": "stream",
          "name": "stdout",
          "text": [
            "교차 검증 점수 :\n",
            " [1.         0.96666667 0.93333333 1.         0.93333333 0.96666667\n",
            " 0.96666667 0.93333333 1.         0.96666667 0.93333333 1.\n",
            " 1.         0.96666667 0.96666667 0.9        1.         1.\n",
            " 0.93333333 0.96666667 0.93333333 0.96666667 0.96666667 1.\n",
            " 0.96666667 1.         0.96666667 0.96666667 0.9        1.\n",
            " 0.96666667 0.96666667 0.96666667 0.96666667 0.93333333 0.96666667\n",
            " 0.96666667 1.         1.         0.9        0.96666667 1.\n",
            " 0.9        0.96666667 0.96666667 0.9        0.96666667 0.96666667\n",
            " 1.         0.96666667]\n",
            "교차 검증 평균 점수 : 0.96\n"
          ]
        }
      ]
    },
    {
      "cell_type": "markdown",
      "source": [
        "## 5.2 그리드 서치"
      ],
      "metadata": {
        "id": "VD9ewmP4_GKI"
      }
    },
    {
      "cell_type": "code",
      "source": [
        "# 가능한 매개변수의 모든 조합을 시도\n",
        "from sklearn.svm import SVC\n",
        "from sklearn.model_selection import train_test_split\n",
        "\n",
        "X_train, X_test, y_train, y_test = train_test_split(iris.data, iris.target, random_state = 0)\n",
        "print(\"train set size : {}, test set size : {}\" .format(X_train.shape[0], X_test.shape[0]))\n",
        "\n",
        "best_score = 0\n",
        "for gamma in [0.001, 0.01, 0.1, 1, 10, 100]:\n",
        "    for C in [0.001, 0.01, 0.1, 1, 10, 100]:\n",
        "        svm = SVC(gamma = gamma, C = C)\n",
        "        svm.fit(X_train, y_train)\n",
        "        score = svm.score(X_test, y_test)\n",
        "        if(score > best_score):\n",
        "            best_score = score\n",
        "            best_parameters = {'gamma' : gamma, 'C' : C}\n",
        "print(\"best score : {:.2f}\" .format(best_score))\n",
        "print(\"best parameters : \", best_parameters)"
      ],
      "metadata": {
        "id": "01sQcHwY_KQ9",
        "outputId": "c6710428-774b-462d-a09e-4c814304227e",
        "colab": {
          "base_uri": "https://localhost:8080/"
        }
      },
      "execution_count": 21,
      "outputs": [
        {
          "output_type": "stream",
          "name": "stdout",
          "text": [
            "train set size : 112, test set size : 38\n",
            "best score : 0.97\n",
            "best parameters :  {'gamma': 0.001, 'C': 100}\n"
          ]
        }
      ]
    },
    {
      "cell_type": "markdown",
      "source": [
        "## 5.2.2 매개변수 과대적합과 검증 세트"
      ],
      "metadata": {
        "id": "_E40Ok6VRNED"
      }
    },
    {
      "cell_type": "code",
      "source": [
        "# 평가를 위해서 모델을 만들 때 사용하지 않은 독립된 데이터 세트가 필요\n",
        "mglearn.plots.plot_threefold_split()"
      ],
      "metadata": {
        "id": "w0KXiUA1RPmp",
        "outputId": "99f57f3d-81be-4f74-f045-53954ba7ce53",
        "colab": {
          "base_uri": "https://localhost:8080/",
          "height": 127
        }
      },
      "execution_count": 24,
      "outputs": [
        {
          "output_type": "display_data",
          "data": {
            "text/plain": [
              "<Figure size 1080x72 with 1 Axes>"
            ],
            "image/png": "[encoded data removed]"
          },
          "metadata": {
            "needs_background": "light"
          }
        }
      ]
    },
    {
      "cell_type": "code",
      "source": [
        "# 데이터 셋을 훈련 세트, 검증 세트, 테스트 세트 3개로 나눔\n",
        "X_trainval, X_test, y_trainval, y_test = train_test_split(iris.data, iris.target, random_state = 0)\n",
        "X_train, X_valid, y_train, y_valid = train_test_split(X_trainval, y_trainval)\n",
        "\n",
        "print(\"훈련 세트의 크기 : {}, 검증 세트의 크기 : {}, 테스트 세트의 크기 {}\" .format(X_train.shape[0], X_valid.shape[0], X_test.shape[0]))\n",
        "\n",
        "best_score = 0\n",
        "for gamma in [0.001, 0.01, 0.1, 1, 10, 100]:\n",
        "    for C in [0.001, 0.01, 0.1, 1, 10, 100]:\n",
        "        svm = SVC(gamma = gamma, C = C)\n",
        "        svm.fit(X_train, y_train)\n",
        "        score = svm.score(X_valid, y_valid)\n",
        "        if(score > best_score):\n",
        "            best_score = score\n",
        "            best_parameters = {'gamma' : gamma, 'C' : C}\n",
        "\n",
        "# 최종 평가에 사용하는 테스트 세트를 분리해 유지해야함!\n",
        "svm = SVC(**best_parameters).fit(X_trainval, y_trainval)\n",
        "print(\"best score : {:.2f}\" .format(best_score))\n",
        "print(\"best parameters : \", best_parameters)\n",
        "print(\"최적 매개변수의 test set에서의 점수 : {:.2f}\" .format(svm.score(X_test, y_test)))"
      ],
      "metadata": {
        "id": "6UWrG5v_RmHL",
        "outputId": "31f6184d-50a7-4aab-c6ce-4a3ec43f0352",
        "colab": {
          "base_uri": "https://localhost:8080/"
        }
      },
      "execution_count": 27,
      "outputs": [
        {
          "output_type": "stream",
          "name": "stdout",
          "text": [
            "훈련 세트의 크기 : 84, 검증 세트의 크기 : 28, 테스트 세트의 크기 38\n",
            "best score : 0.96\n",
            "best parameters :  {'gamma': 0.001, 'C': 100}\n",
            "최적 매개변수의 test set에서의 점수 : 0.97\n"
          ]
        }
      ]
    },
    {
      "cell_type": "markdown",
      "source": [
        "## 5.2.3 교차 검증을 위한 그리드 서치"
      ],
      "metadata": {
        "id": "1DwOHQKyS_oa"
      }
    },
    {
      "cell_type": "code",
      "source": [],
      "metadata": {
        "id": "q6_2UCnjTBo6"
      },
      "execution_count": null,
      "outputs": []
    }
  ]
}