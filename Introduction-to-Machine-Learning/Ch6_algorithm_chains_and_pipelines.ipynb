{
  "nbformat": 4,
  "nbformat_minor": 0,
  "metadata": {
    "colab": {
      "provenance": [],
      "authorship_tag": "ABX9TyMB+T7DHt/x9gB4pcS9Ze6B",
      "include_colab_link": true
    },
    "kernelspec": {
      "name": "python3",
      "display_name": "Python 3"
    },
    "language_info": {
      "name": "python"
    }
  },
  "cells": [
    {
      "cell_type": "markdown",
      "metadata": {
        "id": "view-in-github",
        "colab_type": "text"
      },
      "source": [
        "<a href=\"https://colab.research.google.com/github/1bin01/Machine-Learning/blob/main/Introduction-to-Machine-Learning/Ch6_algorithm_chains_and_pipelines.ipynb\" target=\"_parent\"><img src=\"https://colab.research.google.com/assets/colab-badge.svg\" alt=\"Open In Colab\"/></a>"
      ]
    },
    {
      "cell_type": "code",
      "execution_count": 1,
      "metadata": {
        "colab": {
          "base_uri": "https://localhost:8080/"
        },
        "id": "jH8Wuj2cGGPE",
        "outputId": "a5e3efa1-cd64-4ae0-97d0-53891fe292bb"
      },
      "outputs": [
        {
          "output_type": "stream",
          "name": "stdout",
          "text": [
            "Looking in indexes: https://pypi.org/simple, https://us-python.pkg.dev/colab-wheels/public/simple/\n",
            "Requirement already satisfied: mglearn in /usr/local/lib/python3.8/dist-packages (0.1.9)\n",
            "Requirement already satisfied: pillow in /usr/local/lib/python3.8/dist-packages (from mglearn) (8.4.0)\n",
            "Requirement already satisfied: matplotlib in /usr/local/lib/python3.8/dist-packages (from mglearn) (3.5.3)\n",
            "Requirement already satisfied: imageio in /usr/local/lib/python3.8/dist-packages (from mglearn) (2.9.0)\n",
            "Requirement already satisfied: joblib in /usr/local/lib/python3.8/dist-packages (from mglearn) (1.1.0)\n",
            "Requirement already satisfied: pandas in /usr/local/lib/python3.8/dist-packages (from mglearn) (1.3.5)\n",
            "Requirement already satisfied: cycler in /usr/local/lib/python3.8/dist-packages (from mglearn) (0.11.0)\n",
            "Requirement already satisfied: numpy in /usr/local/lib/python3.8/dist-packages (from mglearn) (1.22.4)\n",
            "Requirement already satisfied: scikit-learn in /usr/local/lib/python3.8/dist-packages (from mglearn) (1.0.2)\n",
            "Requirement already satisfied: fonttools>=4.22.0 in /usr/local/lib/python3.8/dist-packages (from matplotlib->mglearn) (4.38.0)\n",
            "Requirement already satisfied: python-dateutil>=2.7 in /usr/local/lib/python3.8/dist-packages (from matplotlib->mglearn) (2.8.2)\n",
            "Requirement already satisfied: packaging>=20.0 in /usr/local/lib/python3.8/dist-packages (from matplotlib->mglearn) (23.0)\n",
            "Requirement already satisfied: kiwisolver>=1.0.1 in /usr/local/lib/python3.8/dist-packages (from matplotlib->mglearn) (1.4.4)\n",
            "Requirement already satisfied: pyparsing>=2.2.1 in /usr/local/lib/python3.8/dist-packages (from matplotlib->mglearn) (3.0.9)\n",
            "Requirement already satisfied: pytz>=2017.3 in /usr/local/lib/python3.8/dist-packages (from pandas->mglearn) (2022.7.1)\n",
            "Requirement already satisfied: scipy>=1.1.0 in /usr/local/lib/python3.8/dist-packages (from scikit-learn->mglearn) (1.10.1)\n",
            "Requirement already satisfied: threadpoolctl>=2.0.0 in /usr/local/lib/python3.8/dist-packages (from scikit-learn->mglearn) (3.1.0)\n",
            "Requirement already satisfied: six>=1.5 in /usr/local/lib/python3.8/dist-packages (from python-dateutil>=2.7->matplotlib->mglearn) (1.15.0)\n",
            "Looking in indexes: https://pypi.org/simple, https://us-python.pkg.dev/colab-wheels/public/simple/\n",
            "Requirement already satisfied: joblib==1.1.0 in /usr/local/lib/python3.8/dist-packages (1.1.0)\n",
            "Reading package lists... Done\n",
            "Building dependency tree       \n",
            "Reading state information... Done\n",
            "fonts-nanum is already the newest version (20180306-3).\n",
            "0 upgraded, 0 newly installed, 0 to remove and 22 not upgraded.\n",
            "/usr/share/fonts: caching, new cache contents: 0 fonts, 1 dirs\n",
            "/usr/share/fonts/truetype: caching, new cache contents: 0 fonts, 3 dirs\n",
            "/usr/share/fonts/truetype/humor-sans: caching, new cache contents: 1 fonts, 0 dirs\n",
            "/usr/share/fonts/truetype/liberation: caching, new cache contents: 16 fonts, 0 dirs\n",
            "/usr/share/fonts/truetype/nanum: caching, new cache contents: 10 fonts, 0 dirs\n",
            "/usr/local/share/fonts: caching, new cache contents: 0 fonts, 0 dirs\n",
            "/root/.local/share/fonts: skipping, no such directory\n",
            "/root/.fonts: skipping, no such directory\n",
            "/usr/share/fonts/truetype: skipping, looped directory detected\n",
            "/usr/share/fonts/truetype/humor-sans: skipping, looped directory detected\n",
            "/usr/share/fonts/truetype/liberation: skipping, looped directory detected\n",
            "/usr/share/fonts/truetype/nanum: skipping, looped directory detected\n",
            "/var/cache/fontconfig: cleaning cache directory\n",
            "/root/.cache/fontconfig: not cleaning non-existent cache directory\n",
            "/root/.fontconfig: not cleaning non-existent cache directory\n",
            "fc-cache: succeeded\n"
          ]
        }
      ],
      "source": [
        "!pip install mglearn\n",
        "!pip install --upgrade joblib==1.1.0\n",
        "!pip install -q --upgrade scikit-learn==1.0.2\n",
        "import numpy as np\n",
        "import matplotlib.pyplot as plt\n",
        "import pandas as pd\n",
        "import mglearn\n",
        "\n",
        "from importlib import reload  # plt 다시 그릴 때\n",
        "import warnings\n",
        "warnings.simplefilter(action='ignore', category=FutureWarning) # FutureWarning 경고 제거 (없어도 문제는 x)\n",
        "\n",
        "# 나눔 포트 설정 (런타임 다시 시작 해줘야됨!)\n",
        "import matplotlib as mpl\n",
        "!sudo apt-get install -y fonts-nanum\n",
        "!sudo fc-cache -fv\n",
        "!rm ~/.cache/matplotlib -rf\n",
        "plt.rc('font', family='NanumBarunGothic')\n",
        "mpl.rc('axes', unicode_minus=False)"
      ]
    },
    {
      "cell_type": "markdown",
      "source": [
        "# 알고리즘 체인과 파이프라인"
      ],
      "metadata": {
        "id": "YQNgGQJqGrKD"
      }
    },
    {
      "cell_type": "code",
      "source": [
        "from sklearn.svm import SVC\n",
        "from sklearn.datasets import load_breast_cancer\n",
        "from sklearn.model_selection import train_test_split\n",
        "from sklearn.preprocessing import MinMaxScaler\n",
        "\n",
        "cancer = load_breast_cancer()\n",
        "X_train, X_test, y_train, y_test = train_test_split(cancer.data, cancer.target, random_state = 0)\n",
        "scaler = MinMaxScaler().fit(X_train)\n",
        "\n",
        "X_train_scaled = scaler.transform(X_train)\n",
        "X_test_scaled = scaler.transform(X_test)\n",
        "\n",
        "svm = SVC().fit(X_train_scaled, y_train)\n",
        "print(\"test score : {:.2f}\" .format(svm.score(X_test_scaled, y_test)))"
      ],
      "metadata": {
        "colab": {
          "base_uri": "https://localhost:8080/"
        },
        "id": "TSpQO4QkG38y",
        "outputId": "6817df2d-0c44-41bf-eb61-13d426d61bbd"
      },
      "execution_count": 2,
      "outputs": [
        {
          "output_type": "stream",
          "name": "stdout",
          "text": [
            "test score : 0.97\n"
          ]
        }
      ]
    },
    {
      "cell_type": "markdown",
      "source": [
        "## 6.1 데이터 전처리와 매개변수 선택"
      ],
      "metadata": {
        "id": "rNrzTX3IHyfF"
      }
    },
    {
      "cell_type": "code",
      "source": [
        "from sklearn.model_selection import GridSearchCV\n",
        "\n",
        "# 검정 폴드에 사용할 데이터가 train 단계에서 영향을 주는 문제 -> 교차 검증의 분할 단계가 제일 먼저 와야됨\n",
        "mglearn.plots.plot_improper_processing()"
      ],
      "metadata": {
        "id": "DeQxuWvcH1xC",
        "outputId": "c40a5fde-cedc-4439-b84d-3182fa643715",
        "colab": {
          "base_uri": "https://localhost:8080/",
          "height": 602
        }
      },
      "execution_count": 3,
      "outputs": [
        {
          "output_type": "display_data",
          "data": {
            "text/plain": [
              "<Figure size 1080x720 with 2 Axes>"
            ],
            "image/png": "[encoded data removed]"
          },
          "metadata": {}
        }
      ]
    },
    {
      "cell_type": "markdown",
      "source": [
        "## 6.2 파이프라인 구축하기"
      ],
      "metadata": {
        "id": "1zpcfGVPjRLZ"
      }
    },
    {
      "cell_type": "code",
      "source": [
        "# 여러 처리 단계를 하나의 추정기 형태로 묶어줌\n",
        "from sklearn.pipeline import Pipeline\n",
        "pipe = Pipeline([(\"scaler\", MinMaxScaler()), (\"svm\", SVC())])\n",
        "pipe.fit(X_train, y_train)\n",
        "print(\"test set score : {:.2f}\" .format(pipe.score(X_test, y_test)))"
      ],
      "metadata": {
        "id": "jS4bcn_kjRhi",
        "outputId": "5ac0d23b-838c-4bc4-df37-289ce74f374a",
        "colab": {
          "base_uri": "https://localhost:8080/"
        }
      },
      "execution_count": 4,
      "outputs": [
        {
          "output_type": "stream",
          "name": "stdout",
          "text": [
            "test set score : 0.97\n"
          ]
        }
      ]
    },
    {
      "cell_type": "markdown",
      "source": [
        "## 6.3 그리드 서치에 파이프라인 적용하기"
      ],
      "metadata": {
        "id": "wmP_V2y8kGZf"
      }
    },
    {
      "cell_type": "code",
      "source": [
        "# 매겨변수 그리드 : {단계 이름}__{매개변수 이름}\n",
        "param_grid = { 'svm__C' : [0.001, 0.01, 0.1, 1, 10, 100], \n",
        "              'svm__gamma' : [0.001, 0.01, 0.1, 1, 10, 100]}\n",
        "grid = GridSearchCV(pipe, param_grid = param_grid, cv = 5)\n",
        "grid.fit(X_train, y_train)\n",
        "print(\"최상의 교차 검증 정확도 : {:.2f}\" .format(grid.best_score_))\n",
        "print(\"test set score : {:.2f}\" .format(grid.score(X_test, y_test)))\n",
        "print(\"최적의 매개변수 : \", grid.best_params_)"
      ],
      "metadata": {
        "id": "2Ie1i6KPkJ0t",
        "outputId": "3b13d78b-dfc4-4df3-df2b-b60b0b17d85b",
        "colab": {
          "base_uri": "https://localhost:8080/"
        }
      },
      "execution_count": 5,
      "outputs": [
        {
          "output_type": "stream",
          "name": "stdout",
          "text": [
            "최상의 교차 검증 정확도 : 0.98\n",
            "test set score : 0.97\n",
            "최적의 매개변수 :  {'svm__C': 1, 'svm__gamma': 1}\n"
          ]
        }
      ]
    },
    {
      "cell_type": "code",
      "source": [
        "mglearn.plots.plot_proper_processing()"
      ],
      "metadata": {
        "id": "0VivR5h5mGZI",
        "outputId": "cbc20be6-ae98-4d98-fe11-e4e1e783b20b",
        "colab": {
          "base_uri": "https://localhost:8080/",
          "height": 493
        }
      },
      "execution_count": 6,
      "outputs": [
        {
          "output_type": "display_data",
          "data": {
            "text/plain": [
              "<Figure size 1080x576 with 2 Axes>"
            ],
            "image/png": "[encoded data removed]"
          },
          "metadata": {}
        }
      ]
    },
    {
      "cell_type": "markdown",
      "source": [
        "## 6.4 파이프라인 인터페이스"
      ],
      "metadata": {
        "id": "4do-cwL7pOWV"
      }
    },
    {
      "cell_type": "code",
      "source": [
        "# 6.4.1 make_pipeline을 사용한 파이프라인 생성\n",
        "from sklearn.pipeline import make_pipeline\n",
        "\n",
        "pipe_short = make_pipeline(MinMaxScaler(), SVC(C = 100))\n",
        "print(\"pipeline 의 단계:\\n\", pipe_short.steps)"
      ],
      "metadata": {
        "id": "jPNjhwdrpOsg",
        "outputId": "c3e04fb6-5f6c-40c0-e17f-cde3860cf6ec",
        "colab": {
          "base_uri": "https://localhost:8080/"
        }
      },
      "execution_count": 8,
      "outputs": [
        {
          "output_type": "stream",
          "name": "stdout",
          "text": [
            "pipeline 의 단계:\n",
            " [('minmaxscaler', MinMaxScaler()), ('svc', SVC(C=100))]\n"
          ]
        }
      ]
    },
    {
      "cell_type": "code",
      "source": [
        "from sklearn.preprocessing import StandardScaler\n",
        "from sklearn.decomposition import PCA\n",
        "\n",
        "pipe = make_pipeline(StandardScaler(), PCA(n_components = 2), StandardScaler())\n",
        "print(\"pipe line의 단계 : \", pipe.steps)"
      ],
      "metadata": {
        "id": "gAEgO53Ipr9-",
        "outputId": "a2a63604-a689-4b40-cacd-994f79706340",
        "colab": {
          "base_uri": "https://localhost:8080/"
        }
      },
      "execution_count": 11,
      "outputs": [
        {
          "output_type": "stream",
          "name": "stdout",
          "text": [
            "pipe line의 단계 :  [('standardscaler-1', StandardScaler()), ('pca', PCA(n_components=2)), ('standardscaler-2', StandardScaler())]\n"
          ]
        }
      ]
    },
    {
      "cell_type": "code",
      "source": [
        "# 6.4.2 단계 속성에 접근하기\n",
        "# named_steps : 단계 이름을 키로 가짐\n",
        "pipe.fit(cancer.data)\n",
        "components = pipe.named_steps[\"pca\"].components_\n",
        "print(\"components shape : \", components.shape)"
      ],
      "metadata": {
        "id": "5LJAgPBVqTbs",
        "outputId": "b4b0e05f-369e-4466-ac8d-227d3e2bb9ef",
        "colab": {
          "base_uri": "https://localhost:8080/"
        }
      },
      "execution_count": 13,
      "outputs": [
        {
          "output_type": "stream",
          "name": "stdout",
          "text": [
            "components shape :  (2, 30)\n"
          ]
        }
      ]
    },
    {
      "cell_type": "code",
      "source": [
        "# 6.4.3 그리드 서치 안의 파이프라인 속성에 접근하기\n",
        "\n",
        "from sklearn.linear_model import LogisticRegression\n",
        "pipe = make_pipeline(StandardScaler(), LogisticRegression(max_iter = 1000))\n",
        "param_grid = {'logisticregression__C' : [0.01, 0.1, 1, 10, 100]}\n",
        "\n",
        "X_train, X_test, y_train, y_test = train_test_split(cancer.data, cancer.target, random_state = 4)\n",
        "grid = GridSearchCV(pipe, param_grid, cv = 5)\n",
        "grid.fit(X_train, y_train)\n",
        "\n",
        "print(\"best 모델 :\\n\", grid.best_estimator_)"
      ],
      "metadata": {
        "id": "igudwBT9qrh7",
        "outputId": "3f562ece-d2e7-4749-8be5-cf434b658bcc",
        "colab": {
          "base_uri": "https://localhost:8080/"
        }
      },
      "execution_count": 14,
      "outputs": [
        {
          "output_type": "stream",
          "name": "stdout",
          "text": [
            "best 모델 :\n",
            " Pipeline(steps=[('standardscaler', StandardScaler()),\n",
            "                ('logisticregression', LogisticRegression(C=1, max_iter=1000))])\n"
          ]
        }
      ]
    },
    {
      "cell_type": "code",
      "source": [
        "# 로지스틱 회귀 단계에 접근하기\n",
        "print(\"logistic rg 단계 : \\n\", grid.best_estimator_.named_steps[\"logisticregression\"])\n",
        "print(\"logistic rg 계수 : \\n\", grid.best_estimator_.named_steps[\"logisticregression\"].coef_)"
      ],
      "metadata": {
        "id": "0lDyBoDErff_",
        "outputId": "e104aaf8-7048-4fad-d310-a0aac432b1e5",
        "colab": {
          "base_uri": "https://localhost:8080/"
        }
      },
      "execution_count": 17,
      "outputs": [
        {
          "output_type": "stream",
          "name": "stdout",
          "text": [
            "logistic rg 단계 : \n",
            " LogisticRegression(C=1, max_iter=1000)\n",
            "logistic rg 계수 : \n",
            " [[-0.43570655 -0.34266946 -0.40809443 -0.5344574  -0.14971847  0.61034122\n",
            "  -0.72634347 -0.78538827  0.03886087  0.27497198 -1.29780109  0.04926005\n",
            "  -0.67336941 -0.93447426 -0.13939555  0.45032641 -0.13009864 -0.10144273\n",
            "   0.43432027  0.71596578 -1.09068862 -1.09463976 -0.85183755 -1.06406198\n",
            "  -0.74316099  0.07252425 -0.82323903 -0.65321239 -0.64379499 -0.42026013]]\n"
          ]
        }
      ]
    },
    {
      "cell_type": "markdown",
      "source": [
        "## 6.5 전처리와 모델의 매개변수를 위한 그리드 서치"
      ],
      "metadata": {
        "id": "6nRV2BW0rzMn"
      }
    },
    {
      "cell_type": "code",
      "source": [
        "# pipeline -> 모든 처리 단계를 하나의 추정기로 캡슐화\n",
        "from sklearn.datasets import load_boston\n",
        "from sklearn.preprocessing import PolynomialFeatures\n",
        "from sklearn.linear_model import Ridge\n",
        "\n",
        "boston = load_boston()\n",
        "X_train, X_test, y_train, y_test = train_test_split(boston.data, boston.target, random_state = 0)\n",
        "\n",
        "pipe = make_pipeline(StandardScaler(), PolynomialFeatures(), Ridge())\n",
        "param_grid = {\n",
        "    'polynomialfeatures__degree' : [1, 2, 3],\n",
        "    'ridge__alpha' : [0.001, 0.01, 0.1, 1, 10, 100]\n",
        "}"
      ],
      "metadata": {
        "id": "KZcjKH4lr2E9"
      },
      "execution_count": 22,
      "outputs": []
    }
  ]
}